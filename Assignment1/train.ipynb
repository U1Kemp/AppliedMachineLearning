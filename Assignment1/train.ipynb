{
 "cells": [
  {
   "cell_type": "markdown",
   "metadata": {},
   "source": [
    "# Importing libraries"
   ]
  },
  {
   "cell_type": "code",
   "execution_count": 1,
   "metadata": {},
   "outputs": [],
   "source": [
    "%matplotlib inline\n",
    "import matplotlib.pyplot as plt\n",
    "import seaborn as sns\n",
    "import pandas as pd\n",
    "from sklearn.feature_extraction.text import CountVectorizer, TfidfTransformer\n",
    "from sklearn.naive_bayes import MultinomialNB\n",
    "from sklearn.svm import SVC\n",
    "from sklearn.linear_model import LogisticRegression\n",
    "from sklearn.metrics import classification_report, f1_score, accuracy_score, confusion_matrix, precision_score, recall_score, precision_recall_curve, auc\n",
    "from sklearn.pipeline import Pipeline\n",
    "from sklearn.model_selection import GridSearchCV, cross_val_score"
   ]
  },
  {
   "cell_type": "markdown",
   "metadata": {},
   "source": [
    "# Loading train and test data"
   ]
  },
  {
   "cell_type": "code",
   "execution_count": 2,
   "metadata": {},
   "outputs": [
    {
     "data": {
      "text/html": [
       "<div>\n",
       "<style scoped>\n",
       "    .dataframe tbody tr th:only-of-type {\n",
       "        vertical-align: middle;\n",
       "    }\n",
       "\n",
       "    .dataframe tbody tr th {\n",
       "        vertical-align: top;\n",
       "    }\n",
       "\n",
       "    .dataframe thead th {\n",
       "        text-align: right;\n",
       "    }\n",
       "</style>\n",
       "<table border=\"1\" class=\"dataframe\">\n",
       "  <thead>\n",
       "    <tr style=\"text-align: right;\">\n",
       "      <th></th>\n",
       "      <th>label</th>\n",
       "      <th>message</th>\n",
       "      <th>length</th>\n",
       "    </tr>\n",
       "  </thead>\n",
       "  <tbody>\n",
       "    <tr>\n",
       "      <th>0</th>\n",
       "      <td>1</td>\n",
       "      <td>['free2day', 'sexy', 'st', 'george', \"'s\", 'da...</td>\n",
       "      <td>26</td>\n",
       "    </tr>\n",
       "    <tr>\n",
       "      <th>1</th>\n",
       "      <td>0</td>\n",
       "      <td>['armand', 'say', 'get', 'as', 'epsilon']</td>\n",
       "      <td>5</td>\n",
       "    </tr>\n",
       "    <tr>\n",
       "      <th>2</th>\n",
       "      <td>0</td>\n",
       "      <td>['lol', 'i', \"'m\", 'hot', 'air', 'balloon', '!']</td>\n",
       "      <td>7</td>\n",
       "    </tr>\n",
       "    <tr>\n",
       "      <th>3</th>\n",
       "      <td>0</td>\n",
       "      <td>['you', 'know', ',', 'wot', 'people', 'wear', ...</td>\n",
       "      <td>21</td>\n",
       "    </tr>\n",
       "    <tr>\n",
       "      <th>4</th>\n",
       "      <td>0</td>\n",
       "      <td>['good', 'morning', ',', 'love', '...', 'i', '...</td>\n",
       "      <td>27</td>\n",
       "    </tr>\n",
       "    <tr>\n",
       "      <th>...</th>\n",
       "      <td>...</td>\n",
       "      <td>...</td>\n",
       "      <td>...</td>\n",
       "    </tr>\n",
       "    <tr>\n",
       "      <th>4454</th>\n",
       "      <td>0</td>\n",
       "      <td>['hi', ',', 'wlcome', 'back', ',', 'wonder', '...</td>\n",
       "      <td>13</td>\n",
       "    </tr>\n",
       "    <tr>\n",
       "      <th>4455</th>\n",
       "      <td>1</td>\n",
       "      <td>['ree', 'entry', '2', 'weekly', 'comp', 'chanc...</td>\n",
       "      <td>27</td>\n",
       "    </tr>\n",
       "    <tr>\n",
       "      <th>4456</th>\n",
       "      <td>0</td>\n",
       "      <td>['``', 'oh', 'fuck', '.', 'juswoke', 'up', 'in...</td>\n",
       "      <td>31</td>\n",
       "    </tr>\n",
       "    <tr>\n",
       "      <th>4457</th>\n",
       "      <td>0</td>\n",
       "      <td>['not', 'much', 'no', 'fights', '.', 'it', 'wa...</td>\n",
       "      <td>12</td>\n",
       "    </tr>\n",
       "    <tr>\n",
       "      <th>4458</th>\n",
       "      <td>0</td>\n",
       "      <td>['did', 'say', 'somebody', 'named', 'tampa']</td>\n",
       "      <td>5</td>\n",
       "    </tr>\n",
       "  </tbody>\n",
       "</table>\n",
       "<p>4459 rows × 3 columns</p>\n",
       "</div>"
      ],
      "text/plain": [
       "      label                                            message  length\n",
       "0         1  ['free2day', 'sexy', 'st', 'george', \"'s\", 'da...      26\n",
       "1         0          ['armand', 'say', 'get', 'as', 'epsilon']       5\n",
       "2         0   ['lol', 'i', \"'m\", 'hot', 'air', 'balloon', '!']       7\n",
       "3         0  ['you', 'know', ',', 'wot', 'people', 'wear', ...      21\n",
       "4         0  ['good', 'morning', ',', 'love', '...', 'i', '...      27\n",
       "...     ...                                                ...     ...\n",
       "4454      0  ['hi', ',', 'wlcome', 'back', ',', 'wonder', '...      13\n",
       "4455      1  ['ree', 'entry', '2', 'weekly', 'comp', 'chanc...      27\n",
       "4456      0  ['``', 'oh', 'fuck', '.', 'juswoke', 'up', 'in...      31\n",
       "4457      0  ['not', 'much', 'no', 'fights', '.', 'it', 'wa...      12\n",
       "4458      0       ['did', 'say', 'somebody', 'named', 'tampa']       5\n",
       "\n",
       "[4459 rows x 3 columns]"
      ]
     },
     "execution_count": 2,
     "metadata": {},
     "output_type": "execute_result"
    }
   ],
   "source": [
    "msg_train = pd.read_csv('train.csv')\n",
    "msg_train"
   ]
  },
  {
   "cell_type": "code",
   "execution_count": 3,
   "metadata": {},
   "outputs": [
    {
     "data": {
      "text/html": [
       "<div>\n",
       "<style scoped>\n",
       "    .dataframe tbody tr th:only-of-type {\n",
       "        vertical-align: middle;\n",
       "    }\n",
       "\n",
       "    .dataframe tbody tr th {\n",
       "        vertical-align: top;\n",
       "    }\n",
       "\n",
       "    .dataframe thead th {\n",
       "        text-align: right;\n",
       "    }\n",
       "</style>\n",
       "<table border=\"1\" class=\"dataframe\">\n",
       "  <thead>\n",
       "    <tr style=\"text-align: right;\">\n",
       "      <th></th>\n",
       "      <th>label</th>\n",
       "      <th>message</th>\n",
       "      <th>length</th>\n",
       "    </tr>\n",
       "  </thead>\n",
       "  <tbody>\n",
       "    <tr>\n",
       "      <th>0</th>\n",
       "      <td>0</td>\n",
       "      <td>['you', 'still', 'coming', 'tonight', '?']</td>\n",
       "      <td>5</td>\n",
       "    </tr>\n",
       "    <tr>\n",
       "      <th>1</th>\n",
       "      <td>0</td>\n",
       "      <td>['``', 'hey', 'babe', '!', 'far', '2', 'spun-o...</td>\n",
       "      <td>46</td>\n",
       "    </tr>\n",
       "    <tr>\n",
       "      <th>2</th>\n",
       "      <td>0</td>\n",
       "      <td>['ya', 'even', 'cooky', 'jelly']</td>\n",
       "      <td>4</td>\n",
       "    </tr>\n",
       "    <tr>\n",
       "      <th>3</th>\n",
       "      <td>0</td>\n",
       "      <td>['sorry', \"'ve\", 'gone', 'place', '.', 'i.ll',...</td>\n",
       "      <td>11</td>\n",
       "    </tr>\n",
       "    <tr>\n",
       "      <th>4</th>\n",
       "      <td>0</td>\n",
       "      <td>['when', 'going', 'ride', 'bike', '?']</td>\n",
       "      <td>5</td>\n",
       "    </tr>\n",
       "    <tr>\n",
       "      <th>...</th>\n",
       "      <td>...</td>\n",
       "      <td>...</td>\n",
       "      <td>...</td>\n",
       "    </tr>\n",
       "    <tr>\n",
       "      <th>1110</th>\n",
       "      <td>0</td>\n",
       "      <td>['my', 'supervisor', 'find', '4', 'one', 'lor'...</td>\n",
       "      <td>19</td>\n",
       "    </tr>\n",
       "    <tr>\n",
       "      <th>1111</th>\n",
       "      <td>1</td>\n",
       "      <td>['bored', 'housewife', '!', 'chat', 'n', 'date...</td>\n",
       "      <td>14</td>\n",
       "    </tr>\n",
       "    <tr>\n",
       "      <th>1112</th>\n",
       "      <td>0</td>\n",
       "      <td>['rose', 'red', ',', 'red', 'blood', ',', 'blo...</td>\n",
       "      <td>59</td>\n",
       "    </tr>\n",
       "    <tr>\n",
       "      <th>1113</th>\n",
       "      <td>0</td>\n",
       "      <td>['also', 'remember', 'bead', \"n't\", 'come', '....</td>\n",
       "      <td>8</td>\n",
       "    </tr>\n",
       "    <tr>\n",
       "      <th>1114</th>\n",
       "      <td>1</td>\n",
       "      <td>['hey', 'boys', '.', 'want', 'hot', 'xxx', 'pi...</td>\n",
       "      <td>29</td>\n",
       "    </tr>\n",
       "  </tbody>\n",
       "</table>\n",
       "<p>1115 rows × 3 columns</p>\n",
       "</div>"
      ],
      "text/plain": [
       "      label                                            message  length\n",
       "0         0         ['you', 'still', 'coming', 'tonight', '?']       5\n",
       "1         0  ['``', 'hey', 'babe', '!', 'far', '2', 'spun-o...      46\n",
       "2         0                   ['ya', 'even', 'cooky', 'jelly']       4\n",
       "3         0  ['sorry', \"'ve\", 'gone', 'place', '.', 'i.ll',...      11\n",
       "4         0             ['when', 'going', 'ride', 'bike', '?']       5\n",
       "...     ...                                                ...     ...\n",
       "1110      0  ['my', 'supervisor', 'find', '4', 'one', 'lor'...      19\n",
       "1111      1  ['bored', 'housewife', '!', 'chat', 'n', 'date...      14\n",
       "1112      0  ['rose', 'red', ',', 'red', 'blood', ',', 'blo...      59\n",
       "1113      0  ['also', 'remember', 'bead', \"n't\", 'come', '....       8\n",
       "1114      1  ['hey', 'boys', '.', 'want', 'hot', 'xxx', 'pi...      29\n",
       "\n",
       "[1115 rows x 3 columns]"
      ]
     },
     "execution_count": 3,
     "metadata": {},
     "output_type": "execute_result"
    }
   ],
   "source": [
    "msg_test = pd.read_csv('test.csv')\n",
    "msg_test"
   ]
  },
  {
   "cell_type": "markdown",
   "metadata": {},
   "source": [
    "# Model Selection\n",
    "\n",
    "We choose to use the following three models for spam/ham classification and record their Accuracy, Precision, Recall, F1-score and Area under the Precision-Recall respectively.\n",
    "\n",
    "1. Naive Bayes\n",
    "2. Logistic Regression\n",
    "3. Support Vector Machine"
   ]
  },
  {
   "cell_type": "code",
   "execution_count": 4,
   "metadata": {},
   "outputs": [],
   "source": [
    "models = ['Naive Bayes', 'Logistic Regression', 'Support Vector Machines']\n",
    "f1 = []\n",
    "acc = []\n",
    "precision = []\n",
    "recall = []\n",
    "pr_auc = []"
   ]
  },
  {
   "cell_type": "markdown",
   "metadata": {},
   "source": [
    "# 1. Naive Bayes Classifier"
   ]
  },
  {
   "cell_type": "code",
   "execution_count": 5,
   "metadata": {},
   "outputs": [
    {
     "data": {
      "text/plain": [
       "{'alpha': 1.0, 'class_prior': None, 'fit_prior': True, 'force_alpha': True}"
      ]
     },
     "execution_count": 5,
     "metadata": {},
     "output_type": "execute_result"
    }
   ],
   "source": [
    "MultinomialNB().get_params()"
   ]
  },
  {
   "cell_type": "markdown",
   "metadata": {},
   "source": [
    "## Creating pipeline"
   ]
  },
  {
   "cell_type": "code",
   "execution_count": 6,
   "metadata": {},
   "outputs": [],
   "source": [
    "pipeline_nb = Pipeline([\n",
    "    ('bow', CountVectorizer()),  # strings to token integer counts\n",
    "    ('tfidf', TfidfTransformer()),  # integer counts to weighted TF-IDF scores\n",
    "    ('classifier', MultinomialNB()),  # train on TF-IDF vectors w/ Naive Bayes classifier\n",
    "])"
   ]
  },
  {
   "cell_type": "markdown",
   "metadata": {},
   "source": [
    "## Cross Validation Scores"
   ]
  },
  {
   "cell_type": "code",
   "execution_count": 7,
   "metadata": {},
   "outputs": [
    {
     "data": {
      "text/plain": [
       "array([0.96412556, 0.97982063, 0.96412556, 0.97757848, 0.96636771,\n",
       "       0.97533632, 0.9529148 , 0.97982063, 0.96412556, 0.9505618 ])"
      ]
     },
     "execution_count": 7,
     "metadata": {},
     "output_type": "execute_result"
    }
   ],
   "source": [
    "scores = cross_val_score(pipeline_nb,  # steps to convert raw messages into models\n",
    "                         msg_train['message'],  # training data\n",
    "                         msg_train['label'],  # training labels\n",
    "                         cv=10,  # split data randomly into 10 parts: 9 for training, 1 for scoring\n",
    "                         scoring='accuracy',  # which scoring metric?\n",
    "                         n_jobs=-1,  # -1 = use all cores = faster\n",
    "                         )\n",
    "scores"
   ]
  },
  {
   "cell_type": "code",
   "execution_count": 8,
   "metadata": {},
   "outputs": [
    {
     "name": "stdout",
     "output_type": "stream",
     "text": [
      "Fitting 5 folds for each of 3 candidates, totalling 15 fits\n",
      "[CV 1/5] END .............classifier__alpha=0.1;, score=0.944 total time=   0.1s\n",
      "[CV 2/5] END .............classifier__alpha=0.1;, score=0.961 total time=   0.1s\n",
      "[CV 3/5] END .............classifier__alpha=0.1;, score=0.946 total time=   0.1s\n",
      "[CV 4/5] END .............classifier__alpha=0.1;, score=0.937 total time=   0.1s\n",
      "[CV 5/5] END .............classifier__alpha=0.1;, score=0.924 total time=   0.1s\n",
      "[CV 1/5] END .............classifier__alpha=0.5;, score=0.922 total time=   0.1s\n",
      "[CV 2/5] END .............classifier__alpha=0.5;, score=0.946 total time=   0.1s\n",
      "[CV 3/5] END .............classifier__alpha=0.5;, score=0.896 total time=   0.1s\n",
      "[CV 4/5] END .............classifier__alpha=0.5;, score=0.891 total time=   0.1s\n",
      "[CV 5/5] END .............classifier__alpha=0.5;, score=0.871 total time=   0.1s\n",
      "[CV 1/5] END ...............classifier__alpha=1;, score=0.871 total time=   0.1s\n",
      "[CV 2/5] END ...............classifier__alpha=1;, score=0.870 total time=   0.1s\n",
      "[CV 3/5] END ...............classifier__alpha=1;, score=0.864 total time=   0.1s\n",
      "[CV 4/5] END ...............classifier__alpha=1;, score=0.836 total time=   0.1s\n",
      "[CV 5/5] END ...............classifier__alpha=1;, score=0.788 total time=   0.1s\n",
      "Best parameters: {'classifier__alpha': 0.1}\n",
      "Best score: 0.9424178464178464\n"
     ]
    }
   ],
   "source": [
    "param_grid = {\n",
    "    'classifier__alpha': [0.1, 0.5, 1],\n",
    "}\n",
    "\n",
    "LR_Classifier = GridSearchCV(pipeline_nb, param_grid, cv=5, scoring='f1', verbose=3)\n",
    "LR_Classifier.fit(msg_train['message'], msg_train['label'])\n",
    "\n",
    "print(\"Best parameters:\", LR_Classifier.best_params_)\n",
    "print(\"Best score:\", LR_Classifier.best_score_)"
   ]
  },
  {
   "cell_type": "code",
   "execution_count": 9,
   "metadata": {},
   "outputs": [
    {
     "data": {
      "text/plain": [
       "(np.float64(0.9674777044389581), np.float64(0.010008235582897696))"
      ]
     },
     "execution_count": 9,
     "metadata": {},
     "output_type": "execute_result"
    }
   ],
   "source": [
    "scores.mean(), scores.std()"
   ]
  },
  {
   "cell_type": "markdown",
   "metadata": {},
   "source": [
    "## Fitting the model"
   ]
  },
  {
   "cell_type": "code",
   "execution_count": 10,
   "metadata": {},
   "outputs": [
    {
     "data": {
      "text/html": [
       "<style>#sk-container-id-1 {\n",
       "  /* Definition of color scheme common for light and dark mode */\n",
       "  --sklearn-color-text: #000;\n",
       "  --sklearn-color-text-muted: #666;\n",
       "  --sklearn-color-line: gray;\n",
       "  /* Definition of color scheme for unfitted estimators */\n",
       "  --sklearn-color-unfitted-level-0: #fff5e6;\n",
       "  --sklearn-color-unfitted-level-1: #f6e4d2;\n",
       "  --sklearn-color-unfitted-level-2: #ffe0b3;\n",
       "  --sklearn-color-unfitted-level-3: chocolate;\n",
       "  /* Definition of color scheme for fitted estimators */\n",
       "  --sklearn-color-fitted-level-0: #f0f8ff;\n",
       "  --sklearn-color-fitted-level-1: #d4ebff;\n",
       "  --sklearn-color-fitted-level-2: #b3dbfd;\n",
       "  --sklearn-color-fitted-level-3: cornflowerblue;\n",
       "\n",
       "  /* Specific color for light theme */\n",
       "  --sklearn-color-text-on-default-background: var(--sg-text-color, var(--theme-code-foreground, var(--jp-content-font-color1, black)));\n",
       "  --sklearn-color-background: var(--sg-background-color, var(--theme-background, var(--jp-layout-color0, white)));\n",
       "  --sklearn-color-border-box: var(--sg-text-color, var(--theme-code-foreground, var(--jp-content-font-color1, black)));\n",
       "  --sklearn-color-icon: #696969;\n",
       "\n",
       "  @media (prefers-color-scheme: dark) {\n",
       "    /* Redefinition of color scheme for dark theme */\n",
       "    --sklearn-color-text-on-default-background: var(--sg-text-color, var(--theme-code-foreground, var(--jp-content-font-color1, white)));\n",
       "    --sklearn-color-background: var(--sg-background-color, var(--theme-background, var(--jp-layout-color0, #111)));\n",
       "    --sklearn-color-border-box: var(--sg-text-color, var(--theme-code-foreground, var(--jp-content-font-color1, white)));\n",
       "    --sklearn-color-icon: #878787;\n",
       "  }\n",
       "}\n",
       "\n",
       "#sk-container-id-1 {\n",
       "  color: var(--sklearn-color-text);\n",
       "}\n",
       "\n",
       "#sk-container-id-1 pre {\n",
       "  padding: 0;\n",
       "}\n",
       "\n",
       "#sk-container-id-1 input.sk-hidden--visually {\n",
       "  border: 0;\n",
       "  clip: rect(1px 1px 1px 1px);\n",
       "  clip: rect(1px, 1px, 1px, 1px);\n",
       "  height: 1px;\n",
       "  margin: -1px;\n",
       "  overflow: hidden;\n",
       "  padding: 0;\n",
       "  position: absolute;\n",
       "  width: 1px;\n",
       "}\n",
       "\n",
       "#sk-container-id-1 div.sk-dashed-wrapped {\n",
       "  border: 1px dashed var(--sklearn-color-line);\n",
       "  margin: 0 0.4em 0.5em 0.4em;\n",
       "  box-sizing: border-box;\n",
       "  padding-bottom: 0.4em;\n",
       "  background-color: var(--sklearn-color-background);\n",
       "}\n",
       "\n",
       "#sk-container-id-1 div.sk-container {\n",
       "  /* jupyter's `normalize.less` sets `[hidden] { display: none; }`\n",
       "     but bootstrap.min.css set `[hidden] { display: none !important; }`\n",
       "     so we also need the `!important` here to be able to override the\n",
       "     default hidden behavior on the sphinx rendered scikit-learn.org.\n",
       "     See: https://github.com/scikit-learn/scikit-learn/issues/21755 */\n",
       "  display: inline-block !important;\n",
       "  position: relative;\n",
       "}\n",
       "\n",
       "#sk-container-id-1 div.sk-text-repr-fallback {\n",
       "  display: none;\n",
       "}\n",
       "\n",
       "div.sk-parallel-item,\n",
       "div.sk-serial,\n",
       "div.sk-item {\n",
       "  /* draw centered vertical line to link estimators */\n",
       "  background-image: linear-gradient(var(--sklearn-color-text-on-default-background), var(--sklearn-color-text-on-default-background));\n",
       "  background-size: 2px 100%;\n",
       "  background-repeat: no-repeat;\n",
       "  background-position: center center;\n",
       "}\n",
       "\n",
       "/* Parallel-specific style estimator block */\n",
       "\n",
       "#sk-container-id-1 div.sk-parallel-item::after {\n",
       "  content: \"\";\n",
       "  width: 100%;\n",
       "  border-bottom: 2px solid var(--sklearn-color-text-on-default-background);\n",
       "  flex-grow: 1;\n",
       "}\n",
       "\n",
       "#sk-container-id-1 div.sk-parallel {\n",
       "  display: flex;\n",
       "  align-items: stretch;\n",
       "  justify-content: center;\n",
       "  background-color: var(--sklearn-color-background);\n",
       "  position: relative;\n",
       "}\n",
       "\n",
       "#sk-container-id-1 div.sk-parallel-item {\n",
       "  display: flex;\n",
       "  flex-direction: column;\n",
       "}\n",
       "\n",
       "#sk-container-id-1 div.sk-parallel-item:first-child::after {\n",
       "  align-self: flex-end;\n",
       "  width: 50%;\n",
       "}\n",
       "\n",
       "#sk-container-id-1 div.sk-parallel-item:last-child::after {\n",
       "  align-self: flex-start;\n",
       "  width: 50%;\n",
       "}\n",
       "\n",
       "#sk-container-id-1 div.sk-parallel-item:only-child::after {\n",
       "  width: 0;\n",
       "}\n",
       "\n",
       "/* Serial-specific style estimator block */\n",
       "\n",
       "#sk-container-id-1 div.sk-serial {\n",
       "  display: flex;\n",
       "  flex-direction: column;\n",
       "  align-items: center;\n",
       "  background-color: var(--sklearn-color-background);\n",
       "  padding-right: 1em;\n",
       "  padding-left: 1em;\n",
       "}\n",
       "\n",
       "\n",
       "/* Toggleable style: style used for estimator/Pipeline/ColumnTransformer box that is\n",
       "clickable and can be expanded/collapsed.\n",
       "- Pipeline and ColumnTransformer use this feature and define the default style\n",
       "- Estimators will overwrite some part of the style using the `sk-estimator` class\n",
       "*/\n",
       "\n",
       "/* Pipeline and ColumnTransformer style (default) */\n",
       "\n",
       "#sk-container-id-1 div.sk-toggleable {\n",
       "  /* Default theme specific background. It is overwritten whether we have a\n",
       "  specific estimator or a Pipeline/ColumnTransformer */\n",
       "  background-color: var(--sklearn-color-background);\n",
       "}\n",
       "\n",
       "/* Toggleable label */\n",
       "#sk-container-id-1 label.sk-toggleable__label {\n",
       "  cursor: pointer;\n",
       "  display: flex;\n",
       "  width: 100%;\n",
       "  margin-bottom: 0;\n",
       "  padding: 0.5em;\n",
       "  box-sizing: border-box;\n",
       "  text-align: center;\n",
       "  align-items: start;\n",
       "  justify-content: space-between;\n",
       "  gap: 0.5em;\n",
       "}\n",
       "\n",
       "#sk-container-id-1 label.sk-toggleable__label .caption {\n",
       "  font-size: 0.6rem;\n",
       "  font-weight: lighter;\n",
       "  color: var(--sklearn-color-text-muted);\n",
       "}\n",
       "\n",
       "#sk-container-id-1 label.sk-toggleable__label-arrow:before {\n",
       "  /* Arrow on the left of the label */\n",
       "  content: \"▸\";\n",
       "  float: left;\n",
       "  margin-right: 0.25em;\n",
       "  color: var(--sklearn-color-icon);\n",
       "}\n",
       "\n",
       "#sk-container-id-1 label.sk-toggleable__label-arrow:hover:before {\n",
       "  color: var(--sklearn-color-text);\n",
       "}\n",
       "\n",
       "/* Toggleable content - dropdown */\n",
       "\n",
       "#sk-container-id-1 div.sk-toggleable__content {\n",
       "  max-height: 0;\n",
       "  max-width: 0;\n",
       "  overflow: hidden;\n",
       "  text-align: left;\n",
       "  /* unfitted */\n",
       "  background-color: var(--sklearn-color-unfitted-level-0);\n",
       "}\n",
       "\n",
       "#sk-container-id-1 div.sk-toggleable__content.fitted {\n",
       "  /* fitted */\n",
       "  background-color: var(--sklearn-color-fitted-level-0);\n",
       "}\n",
       "\n",
       "#sk-container-id-1 div.sk-toggleable__content pre {\n",
       "  margin: 0.2em;\n",
       "  border-radius: 0.25em;\n",
       "  color: var(--sklearn-color-text);\n",
       "  /* unfitted */\n",
       "  background-color: var(--sklearn-color-unfitted-level-0);\n",
       "}\n",
       "\n",
       "#sk-container-id-1 div.sk-toggleable__content.fitted pre {\n",
       "  /* unfitted */\n",
       "  background-color: var(--sklearn-color-fitted-level-0);\n",
       "}\n",
       "\n",
       "#sk-container-id-1 input.sk-toggleable__control:checked~div.sk-toggleable__content {\n",
       "  /* Expand drop-down */\n",
       "  max-height: 200px;\n",
       "  max-width: 100%;\n",
       "  overflow: auto;\n",
       "}\n",
       "\n",
       "#sk-container-id-1 input.sk-toggleable__control:checked~label.sk-toggleable__label-arrow:before {\n",
       "  content: \"▾\";\n",
       "}\n",
       "\n",
       "/* Pipeline/ColumnTransformer-specific style */\n",
       "\n",
       "#sk-container-id-1 div.sk-label input.sk-toggleable__control:checked~label.sk-toggleable__label {\n",
       "  color: var(--sklearn-color-text);\n",
       "  background-color: var(--sklearn-color-unfitted-level-2);\n",
       "}\n",
       "\n",
       "#sk-container-id-1 div.sk-label.fitted input.sk-toggleable__control:checked~label.sk-toggleable__label {\n",
       "  background-color: var(--sklearn-color-fitted-level-2);\n",
       "}\n",
       "\n",
       "/* Estimator-specific style */\n",
       "\n",
       "/* Colorize estimator box */\n",
       "#sk-container-id-1 div.sk-estimator input.sk-toggleable__control:checked~label.sk-toggleable__label {\n",
       "  /* unfitted */\n",
       "  background-color: var(--sklearn-color-unfitted-level-2);\n",
       "}\n",
       "\n",
       "#sk-container-id-1 div.sk-estimator.fitted input.sk-toggleable__control:checked~label.sk-toggleable__label {\n",
       "  /* fitted */\n",
       "  background-color: var(--sklearn-color-fitted-level-2);\n",
       "}\n",
       "\n",
       "#sk-container-id-1 div.sk-label label.sk-toggleable__label,\n",
       "#sk-container-id-1 div.sk-label label {\n",
       "  /* The background is the default theme color */\n",
       "  color: var(--sklearn-color-text-on-default-background);\n",
       "}\n",
       "\n",
       "/* On hover, darken the color of the background */\n",
       "#sk-container-id-1 div.sk-label:hover label.sk-toggleable__label {\n",
       "  color: var(--sklearn-color-text);\n",
       "  background-color: var(--sklearn-color-unfitted-level-2);\n",
       "}\n",
       "\n",
       "/* Label box, darken color on hover, fitted */\n",
       "#sk-container-id-1 div.sk-label.fitted:hover label.sk-toggleable__label.fitted {\n",
       "  color: var(--sklearn-color-text);\n",
       "  background-color: var(--sklearn-color-fitted-level-2);\n",
       "}\n",
       "\n",
       "/* Estimator label */\n",
       "\n",
       "#sk-container-id-1 div.sk-label label {\n",
       "  font-family: monospace;\n",
       "  font-weight: bold;\n",
       "  display: inline-block;\n",
       "  line-height: 1.2em;\n",
       "}\n",
       "\n",
       "#sk-container-id-1 div.sk-label-container {\n",
       "  text-align: center;\n",
       "}\n",
       "\n",
       "/* Estimator-specific */\n",
       "#sk-container-id-1 div.sk-estimator {\n",
       "  font-family: monospace;\n",
       "  border: 1px dotted var(--sklearn-color-border-box);\n",
       "  border-radius: 0.25em;\n",
       "  box-sizing: border-box;\n",
       "  margin-bottom: 0.5em;\n",
       "  /* unfitted */\n",
       "  background-color: var(--sklearn-color-unfitted-level-0);\n",
       "}\n",
       "\n",
       "#sk-container-id-1 div.sk-estimator.fitted {\n",
       "  /* fitted */\n",
       "  background-color: var(--sklearn-color-fitted-level-0);\n",
       "}\n",
       "\n",
       "/* on hover */\n",
       "#sk-container-id-1 div.sk-estimator:hover {\n",
       "  /* unfitted */\n",
       "  background-color: var(--sklearn-color-unfitted-level-2);\n",
       "}\n",
       "\n",
       "#sk-container-id-1 div.sk-estimator.fitted:hover {\n",
       "  /* fitted */\n",
       "  background-color: var(--sklearn-color-fitted-level-2);\n",
       "}\n",
       "\n",
       "/* Specification for estimator info (e.g. \"i\" and \"?\") */\n",
       "\n",
       "/* Common style for \"i\" and \"?\" */\n",
       "\n",
       ".sk-estimator-doc-link,\n",
       "a:link.sk-estimator-doc-link,\n",
       "a:visited.sk-estimator-doc-link {\n",
       "  float: right;\n",
       "  font-size: smaller;\n",
       "  line-height: 1em;\n",
       "  font-family: monospace;\n",
       "  background-color: var(--sklearn-color-background);\n",
       "  border-radius: 1em;\n",
       "  height: 1em;\n",
       "  width: 1em;\n",
       "  text-decoration: none !important;\n",
       "  margin-left: 0.5em;\n",
       "  text-align: center;\n",
       "  /* unfitted */\n",
       "  border: var(--sklearn-color-unfitted-level-1) 1pt solid;\n",
       "  color: var(--sklearn-color-unfitted-level-1);\n",
       "}\n",
       "\n",
       ".sk-estimator-doc-link.fitted,\n",
       "a:link.sk-estimator-doc-link.fitted,\n",
       "a:visited.sk-estimator-doc-link.fitted {\n",
       "  /* fitted */\n",
       "  border: var(--sklearn-color-fitted-level-1) 1pt solid;\n",
       "  color: var(--sklearn-color-fitted-level-1);\n",
       "}\n",
       "\n",
       "/* On hover */\n",
       "div.sk-estimator:hover .sk-estimator-doc-link:hover,\n",
       ".sk-estimator-doc-link:hover,\n",
       "div.sk-label-container:hover .sk-estimator-doc-link:hover,\n",
       ".sk-estimator-doc-link:hover {\n",
       "  /* unfitted */\n",
       "  background-color: var(--sklearn-color-unfitted-level-3);\n",
       "  color: var(--sklearn-color-background);\n",
       "  text-decoration: none;\n",
       "}\n",
       "\n",
       "div.sk-estimator.fitted:hover .sk-estimator-doc-link.fitted:hover,\n",
       ".sk-estimator-doc-link.fitted:hover,\n",
       "div.sk-label-container:hover .sk-estimator-doc-link.fitted:hover,\n",
       ".sk-estimator-doc-link.fitted:hover {\n",
       "  /* fitted */\n",
       "  background-color: var(--sklearn-color-fitted-level-3);\n",
       "  color: var(--sklearn-color-background);\n",
       "  text-decoration: none;\n",
       "}\n",
       "\n",
       "/* Span, style for the box shown on hovering the info icon */\n",
       ".sk-estimator-doc-link span {\n",
       "  display: none;\n",
       "  z-index: 9999;\n",
       "  position: relative;\n",
       "  font-weight: normal;\n",
       "  right: .2ex;\n",
       "  padding: .5ex;\n",
       "  margin: .5ex;\n",
       "  width: min-content;\n",
       "  min-width: 20ex;\n",
       "  max-width: 50ex;\n",
       "  color: var(--sklearn-color-text);\n",
       "  box-shadow: 2pt 2pt 4pt #999;\n",
       "  /* unfitted */\n",
       "  background: var(--sklearn-color-unfitted-level-0);\n",
       "  border: .5pt solid var(--sklearn-color-unfitted-level-3);\n",
       "}\n",
       "\n",
       ".sk-estimator-doc-link.fitted span {\n",
       "  /* fitted */\n",
       "  background: var(--sklearn-color-fitted-level-0);\n",
       "  border: var(--sklearn-color-fitted-level-3);\n",
       "}\n",
       "\n",
       ".sk-estimator-doc-link:hover span {\n",
       "  display: block;\n",
       "}\n",
       "\n",
       "/* \"?\"-specific style due to the `<a>` HTML tag */\n",
       "\n",
       "#sk-container-id-1 a.estimator_doc_link {\n",
       "  float: right;\n",
       "  font-size: 1rem;\n",
       "  line-height: 1em;\n",
       "  font-family: monospace;\n",
       "  background-color: var(--sklearn-color-background);\n",
       "  border-radius: 1rem;\n",
       "  height: 1rem;\n",
       "  width: 1rem;\n",
       "  text-decoration: none;\n",
       "  /* unfitted */\n",
       "  color: var(--sklearn-color-unfitted-level-1);\n",
       "  border: var(--sklearn-color-unfitted-level-1) 1pt solid;\n",
       "}\n",
       "\n",
       "#sk-container-id-1 a.estimator_doc_link.fitted {\n",
       "  /* fitted */\n",
       "  border: var(--sklearn-color-fitted-level-1) 1pt solid;\n",
       "  color: var(--sklearn-color-fitted-level-1);\n",
       "}\n",
       "\n",
       "/* On hover */\n",
       "#sk-container-id-1 a.estimator_doc_link:hover {\n",
       "  /* unfitted */\n",
       "  background-color: var(--sklearn-color-unfitted-level-3);\n",
       "  color: var(--sklearn-color-background);\n",
       "  text-decoration: none;\n",
       "}\n",
       "\n",
       "#sk-container-id-1 a.estimator_doc_link.fitted:hover {\n",
       "  /* fitted */\n",
       "  background-color: var(--sklearn-color-fitted-level-3);\n",
       "}\n",
       "</style><div id=\"sk-container-id-1\" class=\"sk-top-container\"><div class=\"sk-text-repr-fallback\"><pre>Pipeline(steps=[(&#x27;bow&#x27;, CountVectorizer()), (&#x27;tfidf&#x27;, TfidfTransformer()),\n",
       "                (&#x27;classifier&#x27;, MultinomialNB())])</pre><b>In a Jupyter environment, please rerun this cell to show the HTML representation or trust the notebook. <br />On GitHub, the HTML representation is unable to render, please try loading this page with nbviewer.org.</b></div><div class=\"sk-container\" hidden><div class=\"sk-item sk-dashed-wrapped\"><div class=\"sk-label-container\"><div class=\"sk-label fitted sk-toggleable\"><input class=\"sk-toggleable__control sk-hidden--visually\" id=\"sk-estimator-id-1\" type=\"checkbox\" ><label for=\"sk-estimator-id-1\" class=\"sk-toggleable__label fitted sk-toggleable__label-arrow\"><div><div>Pipeline</div></div><div><a class=\"sk-estimator-doc-link fitted\" rel=\"noreferrer\" target=\"_blank\" href=\"https://scikit-learn.org/1.6/modules/generated/sklearn.pipeline.Pipeline.html\">?<span>Documentation for Pipeline</span></a><span class=\"sk-estimator-doc-link fitted\">i<span>Fitted</span></span></div></label><div class=\"sk-toggleable__content fitted\"><pre>Pipeline(steps=[(&#x27;bow&#x27;, CountVectorizer()), (&#x27;tfidf&#x27;, TfidfTransformer()),\n",
       "                (&#x27;classifier&#x27;, MultinomialNB())])</pre></div> </div></div><div class=\"sk-serial\"><div class=\"sk-item\"><div class=\"sk-estimator fitted sk-toggleable\"><input class=\"sk-toggleable__control sk-hidden--visually\" id=\"sk-estimator-id-2\" type=\"checkbox\" ><label for=\"sk-estimator-id-2\" class=\"sk-toggleable__label fitted sk-toggleable__label-arrow\"><div><div>CountVectorizer</div></div><div><a class=\"sk-estimator-doc-link fitted\" rel=\"noreferrer\" target=\"_blank\" href=\"https://scikit-learn.org/1.6/modules/generated/sklearn.feature_extraction.text.CountVectorizer.html\">?<span>Documentation for CountVectorizer</span></a></div></label><div class=\"sk-toggleable__content fitted\"><pre>CountVectorizer()</pre></div> </div></div><div class=\"sk-item\"><div class=\"sk-estimator fitted sk-toggleable\"><input class=\"sk-toggleable__control sk-hidden--visually\" id=\"sk-estimator-id-3\" type=\"checkbox\" ><label for=\"sk-estimator-id-3\" class=\"sk-toggleable__label fitted sk-toggleable__label-arrow\"><div><div>TfidfTransformer</div></div><div><a class=\"sk-estimator-doc-link fitted\" rel=\"noreferrer\" target=\"_blank\" href=\"https://scikit-learn.org/1.6/modules/generated/sklearn.feature_extraction.text.TfidfTransformer.html\">?<span>Documentation for TfidfTransformer</span></a></div></label><div class=\"sk-toggleable__content fitted\"><pre>TfidfTransformer()</pre></div> </div></div><div class=\"sk-item\"><div class=\"sk-estimator fitted sk-toggleable\"><input class=\"sk-toggleable__control sk-hidden--visually\" id=\"sk-estimator-id-4\" type=\"checkbox\" ><label for=\"sk-estimator-id-4\" class=\"sk-toggleable__label fitted sk-toggleable__label-arrow\"><div><div>MultinomialNB</div></div><div><a class=\"sk-estimator-doc-link fitted\" rel=\"noreferrer\" target=\"_blank\" href=\"https://scikit-learn.org/1.6/modules/generated/sklearn.naive_bayes.MultinomialNB.html\">?<span>Documentation for MultinomialNB</span></a></div></label><div class=\"sk-toggleable__content fitted\"><pre>MultinomialNB()</pre></div> </div></div></div></div></div></div>"
      ],
      "text/plain": [
       "Pipeline(steps=[('bow', CountVectorizer()), ('tfidf', TfidfTransformer()),\n",
       "                ('classifier', MultinomialNB())])"
      ]
     },
     "execution_count": 10,
     "metadata": {},
     "output_type": "execute_result"
    }
   ],
   "source": [
    "pipeline_nb.fit(msg_train['message'],msg_train['label'])"
   ]
  },
  {
   "cell_type": "markdown",
   "metadata": {},
   "source": [
    "## Performance on Train Data"
   ]
  },
  {
   "cell_type": "markdown",
   "metadata": {},
   "source": [
    "### Accuracy"
   ]
  },
  {
   "cell_type": "code",
   "execution_count": 11,
   "metadata": {},
   "outputs": [
    {
     "data": {
      "text/plain": [
       "0.9816102265081857"
      ]
     },
     "execution_count": 11,
     "metadata": {},
     "output_type": "execute_result"
    }
   ],
   "source": [
    "predictions = pipeline_nb.predict(msg_train['message'])\n",
    "accuracy_score(msg_train['label'], predictions)"
   ]
  },
  {
   "cell_type": "markdown",
   "metadata": {},
   "source": [
    "### Precision"
   ]
  },
  {
   "cell_type": "code",
   "execution_count": 12,
   "metadata": {},
   "outputs": [
    {
     "data": {
      "text/plain": [
       "1.0"
      ]
     },
     "execution_count": 12,
     "metadata": {},
     "output_type": "execute_result"
    }
   ],
   "source": [
    "precision_score(msg_train['label'], predictions)"
   ]
  },
  {
   "cell_type": "markdown",
   "metadata": {},
   "source": [
    "### Recall"
   ]
  },
  {
   "cell_type": "code",
   "execution_count": 13,
   "metadata": {},
   "outputs": [
    {
     "data": {
      "text/plain": [
       "0.8600682593856656"
      ]
     },
     "execution_count": 13,
     "metadata": {},
     "output_type": "execute_result"
    }
   ],
   "source": [
    "recall_score(msg_train['label'], predictions)"
   ]
  },
  {
   "cell_type": "markdown",
   "metadata": {},
   "source": [
    "### F1 Score"
   ]
  },
  {
   "cell_type": "code",
   "execution_count": 14,
   "metadata": {},
   "outputs": [
    {
     "data": {
      "text/plain": [
       "0.9247706422018349"
      ]
     },
     "execution_count": 14,
     "metadata": {},
     "output_type": "execute_result"
    }
   ],
   "source": [
    "f1_score(msg_train['label'], predictions, pos_label=1)"
   ]
  },
  {
   "cell_type": "markdown",
   "metadata": {},
   "source": [
    "### Precision-Recall Curve"
   ]
  },
  {
   "cell_type": "code",
   "execution_count": 15,
   "metadata": {},
   "outputs": [
    {
     "data": {
      "image/png": "[encoded data removed]",
      "text/plain": [
       "<Figure size 640x480 with 1 Axes>"
      ]
     },
     "metadata": {},
     "output_type": "display_data"
    }
   ],
   "source": [
    "p, r, t = precision_recall_curve(msg_train['label'], pipeline_nb.predict_proba(msg_train['message'])[:,1],pos_label=1)\n",
    "# plot the curve\n",
    "plt.plot(r, p, label='Precision-Recall Curve')\n",
    "plt.xlabel('Recall')\n",
    "plt.ylabel('Precision')\n",
    "plt.title('Precision-Recall Curve')\n",
    "plt.legend()\n",
    "plt.show()"
   ]
  },
  {
   "cell_type": "code",
   "execution_count": 16,
   "metadata": {},
   "outputs": [
    {
     "name": "stdout",
     "output_type": "stream",
     "text": [
      "Area under the Precision-Recall Curve: 0.9902015164608517\n"
     ]
    }
   ],
   "source": [
    "auc_pr = auc(r,p)\n",
    "# print the area under the curve\n",
    "print('Area under the Precision-Recall Curve:', auc_pr)"
   ]
  },
  {
   "cell_type": "markdown",
   "metadata": {},
   "source": [
    "### Confusion Matrix"
   ]
  },
  {
   "cell_type": "code",
   "execution_count": 17,
   "metadata": {},
   "outputs": [
    {
     "data": {
      "image/png": "[encoded data removed]",
      "text/plain": [
       "<Figure size 640x480 with 2 Axes>"
      ]
     },
     "metadata": {},
     "output_type": "display_data"
    }
   ],
   "source": [
    "cm = confusion_matrix(msg_train['label'], predictions)\n",
    "# Plot the confusion matrix\n",
    "sns.heatmap(cm, annot=True, cmap='Blues', fmt='d', xticklabels=['ham', 'spam'], yticklabels=['ham','spam'])\n",
    "plt.title('Confusion Matrix for Train Data')\n",
    "plt.xlabel('Predicted Labels')\n",
    "plt.ylabel('True Labels')\n",
    "plt.show()"
   ]
  },
  {
   "cell_type": "markdown",
   "metadata": {},
   "source": [
    "### Classification Report"
   ]
  },
  {
   "cell_type": "code",
   "execution_count": 18,
   "metadata": {},
   "outputs": [
    {
     "name": "stdout",
     "output_type": "stream",
     "text": [
      "              precision    recall  f1-score   support\n",
      "\n",
      "           0       0.98      1.00      0.99      3873\n",
      "           1       1.00      0.86      0.92       586\n",
      "\n",
      "    accuracy                           0.98      4459\n",
      "   macro avg       0.99      0.93      0.96      4459\n",
      "weighted avg       0.98      0.98      0.98      4459\n",
      "\n"
     ]
    }
   ],
   "source": [
    "print(classification_report(msg_train['label'], predictions))"
   ]
  },
  {
   "cell_type": "markdown",
   "metadata": {},
   "source": [
    "## Performance on Test Data"
   ]
  },
  {
   "cell_type": "markdown",
   "metadata": {},
   "source": [
    "### Accuracy"
   ]
  },
  {
   "cell_type": "code",
   "execution_count": 19,
   "metadata": {},
   "outputs": [
    {
     "data": {
      "text/plain": [
       "0.9713004484304932"
      ]
     },
     "execution_count": 19,
     "metadata": {},
     "output_type": "execute_result"
    }
   ],
   "source": [
    "predictions = pipeline_nb.predict(msg_test['message'])\n",
    "accuracy = accuracy_score(msg_test['label'], predictions)\n",
    "accuracy"
   ]
  },
  {
   "cell_type": "code",
   "execution_count": 20,
   "metadata": {},
   "outputs": [],
   "source": [
    "acc.append(accuracy)"
   ]
  },
  {
   "cell_type": "markdown",
   "metadata": {},
   "source": [
    "### Precision"
   ]
  },
  {
   "cell_type": "code",
   "execution_count": 21,
   "metadata": {},
   "outputs": [
    {
     "data": {
      "text/plain": [
       "1.0"
      ]
     },
     "execution_count": 21,
     "metadata": {},
     "output_type": "execute_result"
    }
   ],
   "source": [
    "p = precision_score(msg_test['label'], predictions)\n",
    "p"
   ]
  },
  {
   "cell_type": "code",
   "execution_count": 22,
   "metadata": {},
   "outputs": [],
   "source": [
    "precision.append(p)"
   ]
  },
  {
   "cell_type": "markdown",
   "metadata": {},
   "source": [
    "### Recall"
   ]
  },
  {
   "cell_type": "code",
   "execution_count": 23,
   "metadata": {},
   "outputs": [
    {
     "data": {
      "text/plain": [
       "0.8012422360248447"
      ]
     },
     "execution_count": 23,
     "metadata": {},
     "output_type": "execute_result"
    }
   ],
   "source": [
    "r = recall_score(msg_test['label'], predictions)\n",
    "r"
   ]
  },
  {
   "cell_type": "code",
   "execution_count": 24,
   "metadata": {},
   "outputs": [],
   "source": [
    "recall.append(r)"
   ]
  },
  {
   "cell_type": "markdown",
   "metadata": {},
   "source": [
    "### F1 Score"
   ]
  },
  {
   "cell_type": "code",
   "execution_count": 25,
   "metadata": {},
   "outputs": [
    {
     "data": {
      "text/plain": [
       "0.8896551724137931"
      ]
     },
     "execution_count": 25,
     "metadata": {},
     "output_type": "execute_result"
    }
   ],
   "source": [
    "f = f1_score(msg_test['label'], predictions, pos_label=1)\n",
    "f"
   ]
  },
  {
   "cell_type": "code",
   "execution_count": 26,
   "metadata": {},
   "outputs": [],
   "source": [
    "f1.append(f)"
   ]
  },
  {
   "cell_type": "markdown",
   "metadata": {},
   "source": [
    "### Precision-Recall Curve"
   ]
  },
  {
   "cell_type": "code",
   "execution_count": 27,
   "metadata": {},
   "outputs": [
    {
     "data": {
      "image/png": "[encoded data removed]",
      "text/plain": [
       "<Figure size 640x480 with 1 Axes>"
      ]
     },
     "metadata": {},
     "output_type": "display_data"
    }
   ],
   "source": [
    "p, r, t = precision_recall_curve(msg_test['label'], pipeline_nb.predict_proba(msg_test['message'])[:,1],pos_label=1)\n",
    "# plot the curve\n",
    "plt.plot(r, p, label='Precision-Recall Curve')\n",
    "plt.xlabel('Recall')\n",
    "plt.ylabel('Precision')\n",
    "plt.title('Precision-Recall Curve')\n",
    "plt.legend()\n",
    "plt.show()"
   ]
  },
  {
   "cell_type": "code",
   "execution_count": 28,
   "metadata": {},
   "outputs": [
    {
     "name": "stdout",
     "output_type": "stream",
     "text": [
      "Area under the Precision-Recall Curve: 0.9694212512987846\n"
     ]
    }
   ],
   "source": [
    "auc_pr = auc(r,p)\n",
    "# print the area under the curve\n",
    "print('Area under the Precision-Recall Curve:', auc_pr)"
   ]
  },
  {
   "cell_type": "code",
   "execution_count": 29,
   "metadata": {},
   "outputs": [],
   "source": [
    "pr_auc.append(auc_pr)"
   ]
  },
  {
   "cell_type": "markdown",
   "metadata": {},
   "source": [
    "### Confusion Matrix"
   ]
  },
  {
   "cell_type": "code",
   "execution_count": 30,
   "metadata": {},
   "outputs": [
    {
     "data": {
      "image/png": "[encoded data removed]",
      "text/plain": [
       "<Figure size 640x480 with 2 Axes>"
      ]
     },
     "metadata": {},
     "output_type": "display_data"
    }
   ],
   "source": [
    "cm = confusion_matrix(msg_test['label'], predictions)\n",
    "# Plot the confusion matrix\n",
    "sns.heatmap(cm, annot=True, cmap='Blues', fmt='d', xticklabels=['ham', 'spam'], yticklabels=['ham','spam'])\n",
    "plt.title('Confusion Matrix for Test data')\n",
    "plt.xlabel('Predicted Labels')\n",
    "plt.ylabel('True Labels')\n",
    "plt.show()"
   ]
  },
  {
   "cell_type": "markdown",
   "metadata": {},
   "source": [
    "### Classification Report"
   ]
  },
  {
   "cell_type": "code",
   "execution_count": 31,
   "metadata": {},
   "outputs": [
    {
     "name": "stdout",
     "output_type": "stream",
     "text": [
      "              precision    recall  f1-score   support\n",
      "\n",
      "           0       0.97      1.00      0.98       954\n",
      "           1       1.00      0.80      0.89       161\n",
      "\n",
      "    accuracy                           0.97      1115\n",
      "   macro avg       0.98      0.90      0.94      1115\n",
      "weighted avg       0.97      0.97      0.97      1115\n",
      "\n"
     ]
    }
   ],
   "source": [
    "print(classification_report(msg_test['label'], predictions))"
   ]
  },
  {
   "cell_type": "markdown",
   "metadata": {},
   "source": [
    "# 2. Logistic Regression"
   ]
  },
  {
   "cell_type": "code",
   "execution_count": 32,
   "metadata": {},
   "outputs": [
    {
     "data": {
      "text/plain": [
       "{'C': 1.0,\n",
       " 'class_weight': None,\n",
       " 'dual': False,\n",
       " 'fit_intercept': True,\n",
       " 'intercept_scaling': 1,\n",
       " 'l1_ratio': None,\n",
       " 'max_iter': 100,\n",
       " 'multi_class': 'deprecated',\n",
       " 'n_jobs': None,\n",
       " 'penalty': 'l2',\n",
       " 'random_state': None,\n",
       " 'solver': 'lbfgs',\n",
       " 'tol': 0.0001,\n",
       " 'verbose': 0,\n",
       " 'warm_start': False}"
      ]
     },
     "execution_count": 32,
     "metadata": {},
     "output_type": "execute_result"
    }
   ],
   "source": [
    "LogisticRegression().get_params()"
   ]
  },
  {
   "cell_type": "markdown",
   "metadata": {},
   "source": [
    "## Creating Pipeline"
   ]
  },
  {
   "cell_type": "code",
   "execution_count": 33,
   "metadata": {},
   "outputs": [],
   "source": [
    "pipeline_LR = Pipeline([\n",
    "    ('bow', CountVectorizer()),  # strings to token integer counts\n",
    "    ('tfidf', TfidfTransformer()),  # integer counts to weighted TF-IDF scores\n",
    "    ('classifier', LogisticRegression(random_state=42, solver='liblinear', max_iter=5000))  # train on TF-IDF vectors w/ logistic regression\n",
    "])"
   ]
  },
  {
   "cell_type": "code",
   "execution_count": 34,
   "metadata": {},
   "outputs": [
    {
     "data": {
      "text/plain": [
       "array([0.82352941, 0.91891892, 0.85436893, 0.91891892, 0.85436893,\n",
       "       0.87619048, 0.75268817, 0.87619048, 0.85148515, 0.75789474])"
      ]
     },
     "execution_count": 34,
     "metadata": {},
     "output_type": "execute_result"
    }
   ],
   "source": [
    "scores = cross_val_score(pipeline_LR,  # steps to convert raw messages into models\n",
    "                         msg_train['message'],  # training data\n",
    "                         msg_train['label'],  # training labels\n",
    "                         cv=10,  # split data randomly into 10 parts: 9 for training, 1 for scoring\n",
    "                         scoring='f1',  # which scoring metric?\n",
    "                         n_jobs=-1,  # -1 = use all cores = faster\n",
    "                         )\n",
    "scores"
   ]
  },
  {
   "cell_type": "code",
   "execution_count": 35,
   "metadata": {},
   "outputs": [
    {
     "data": {
      "text/plain": [
       "(np.float64(0.8484554123461134), np.float64(0.054352280126538165))"
      ]
     },
     "execution_count": 35,
     "metadata": {},
     "output_type": "execute_result"
    }
   ],
   "source": [
    "scores.mean(), scores.std()"
   ]
  },
  {
   "cell_type": "markdown",
   "metadata": {},
   "source": [
    "## Fitting the model"
   ]
  },
  {
   "cell_type": "code",
   "execution_count": 36,
   "metadata": {},
   "outputs": [
    {
     "name": "stdout",
     "output_type": "stream",
     "text": [
      "Fitting 5 folds for each of 16 candidates, totalling 80 fits\n",
      "[CV 1/5] END classifier__C=0.1, classifier__class_weight=None, classifier__penalty=l2;, score=0.868 total time=   0.1s\n",
      "[CV 2/5] END classifier__C=0.1, classifier__class_weight=None, classifier__penalty=l2;, score=0.869 total time=   0.0s\n",
      "[CV 3/5] END classifier__C=0.1, classifier__class_weight=None, classifier__penalty=l2;, score=0.869 total time=   0.1s\n",
      "[CV 4/5] END classifier__C=0.1, classifier__class_weight=None, classifier__penalty=l2;, score=0.869 total time=   0.1s\n",
      "[CV 5/5] END classifier__C=0.1, classifier__class_weight=None, classifier__penalty=l2;, score=0.869 total time=   0.1s\n",
      "[CV 1/5] END classifier__C=0.1, classifier__class_weight=None, classifier__penalty=l1;, score=0.865 total time=   0.1s\n",
      "[CV 2/5] END classifier__C=0.1, classifier__class_weight=None, classifier__penalty=l1;, score=0.869 total time=   0.0s\n",
      "[CV 3/5] END classifier__C=0.1, classifier__class_weight=None, classifier__penalty=l1;, score=0.868 total time=   0.0s\n",
      "[CV 4/5] END classifier__C=0.1, classifier__class_weight=None, classifier__penalty=l1;, score=0.868 total time=   0.1s\n",
      "[CV 5/5] END classifier__C=0.1, classifier__class_weight=None, classifier__penalty=l1;, score=0.869 total time=   0.1s\n",
      "[CV 1/5] END classifier__C=0.1, classifier__class_weight=balanced, classifier__penalty=l2;, score=0.976 total time=   0.0s\n",
      "[CV 2/5] END classifier__C=0.1, classifier__class_weight=balanced, classifier__penalty=l2;, score=0.981 total time=   0.1s\n",
      "[CV 3/5] END classifier__C=0.1, classifier__class_weight=balanced, classifier__penalty=l2;, score=0.964 total time=   0.1s\n",
      "[CV 4/5] END classifier__C=0.1, classifier__class_weight=balanced, classifier__penalty=l2;, score=0.969 total time=   0.1s\n",
      "[CV 5/5] END classifier__C=0.1, classifier__class_weight=balanced, classifier__penalty=l2;, score=0.974 total time=   0.1s\n",
      "[CV 1/5] END classifier__C=0.1, classifier__class_weight=balanced, classifier__penalty=l1;, score=0.919 total time=   0.0s\n",
      "[CV 2/5] END classifier__C=0.1, classifier__class_weight=balanced, classifier__penalty=l1;, score=0.919 total time=   0.1s\n",
      "[CV 3/5] END classifier__C=0.1, classifier__class_weight=balanced, classifier__penalty=l1;, score=0.913 total time=   0.1s\n",
      "[CV 4/5] END classifier__C=0.1, classifier__class_weight=balanced, classifier__penalty=l1;, score=0.902 total time=   0.0s\n",
      "[CV 5/5] END classifier__C=0.1, classifier__class_weight=balanced, classifier__penalty=l1;, score=0.928 total time=   0.0s\n",
      "[CV 1/5] END classifier__C=1, classifier__class_weight=None, classifier__penalty=l2;, score=0.970 total time=   0.1s\n",
      "[CV 2/5] END classifier__C=1, classifier__class_weight=None, classifier__penalty=l2;, score=0.970 total time=   0.1s\n",
      "[CV 3/5] END classifier__C=1, classifier__class_weight=None, classifier__penalty=l2;, score=0.964 total time=   0.1s\n",
      "[CV 4/5] END classifier__C=1, classifier__class_weight=None, classifier__penalty=l2;, score=0.959 total time=   0.1s\n",
      "[CV 5/5] END classifier__C=1, classifier__class_weight=None, classifier__penalty=l2;, score=0.953 total time=   0.1s\n",
      "[CV 1/5] END classifier__C=1, classifier__class_weight=None, classifier__penalty=l1;, score=0.964 total time=   0.1s\n",
      "[CV 2/5] END classifier__C=1, classifier__class_weight=None, classifier__penalty=l1;, score=0.962 total time=   0.1s\n",
      "[CV 3/5] END classifier__C=1, classifier__class_weight=None, classifier__penalty=l1;, score=0.955 total time=   0.1s\n",
      "[CV 4/5] END classifier__C=1, classifier__class_weight=None, classifier__penalty=l1;, score=0.954 total time=   0.1s\n",
      "[CV 5/5] END classifier__C=1, classifier__class_weight=None, classifier__penalty=l1;, score=0.961 total time=   0.1s\n",
      "[CV 1/5] END classifier__C=1, classifier__class_weight=balanced, classifier__penalty=l2;, score=0.984 total time=   0.1s\n",
      "[CV 2/5] END classifier__C=1, classifier__class_weight=balanced, classifier__penalty=l2;, score=0.982 total time=   0.1s\n",
      "[CV 3/5] END classifier__C=1, classifier__class_weight=balanced, classifier__penalty=l2;, score=0.972 total time=   0.1s\n",
      "[CV 4/5] END classifier__C=1, classifier__class_weight=balanced, classifier__penalty=l2;, score=0.976 total time=   0.1s\n",
      "[CV 5/5] END classifier__C=1, classifier__class_weight=balanced, classifier__penalty=l2;, score=0.979 total time=   0.1s\n",
      "[CV 1/5] END classifier__C=1, classifier__class_weight=balanced, classifier__penalty=l1;, score=0.957 total time=   0.1s\n",
      "[CV 2/5] END classifier__C=1, classifier__class_weight=balanced, classifier__penalty=l1;, score=0.960 total time=   0.1s\n",
      "[CV 3/5] END classifier__C=1, classifier__class_weight=balanced, classifier__penalty=l1;, score=0.959 total time=   0.1s\n",
      "[CV 4/5] END classifier__C=1, classifier__class_weight=balanced, classifier__penalty=l1;, score=0.965 total time=   0.1s\n",
      "[CV 5/5] END classifier__C=1, classifier__class_weight=balanced, classifier__penalty=l1;, score=0.960 total time=   0.1s\n",
      "[CV 1/5] END classifier__C=10, classifier__class_weight=None, classifier__penalty=l2;, score=0.990 total time=   0.1s\n",
      "[CV 2/5] END classifier__C=10, classifier__class_weight=None, classifier__penalty=l2;, score=0.988 total time=   0.1s\n",
      "[CV 3/5] END classifier__C=10, classifier__class_weight=None, classifier__penalty=l2;, score=0.982 total time=   0.1s\n",
      "[CV 4/5] END classifier__C=10, classifier__class_weight=None, classifier__penalty=l2;, score=0.976 total time=   0.1s\n",
      "[CV 5/5] END classifier__C=10, classifier__class_weight=None, classifier__penalty=l2;, score=0.984 total time=   0.1s\n",
      "[CV 1/5] END classifier__C=10, classifier__class_weight=None, classifier__penalty=l1;, score=0.980 total time=   0.1s\n"
     ]
    },
    {
     "name": "stderr",
     "output_type": "stream",
     "text": [
      "/home/utpalraj/coursework/AML/lib/python3.12/site-packages/sklearn/svm/_base.py:1249: ConvergenceWarning: Liblinear failed to converge, increase the number of iterations.\n",
      "  warnings.warn(\n"
     ]
    },
    {
     "name": "stdout",
     "output_type": "stream",
     "text": [
      "[CV 2/5] END classifier__C=10, classifier__class_weight=None, classifier__penalty=l1;, score=0.991 total time=   2.2s\n",
      "[CV 3/5] END classifier__C=10, classifier__class_weight=None, classifier__penalty=l1;, score=0.971 total time=   0.1s\n"
     ]
    },
    {
     "name": "stderr",
     "output_type": "stream",
     "text": [
      "/home/utpalraj/coursework/AML/lib/python3.12/site-packages/sklearn/svm/_base.py:1249: ConvergenceWarning: Liblinear failed to converge, increase the number of iterations.\n",
      "  warnings.warn(\n"
     ]
    },
    {
     "name": "stdout",
     "output_type": "stream",
     "text": [
      "[CV 4/5] END classifier__C=10, classifier__class_weight=None, classifier__penalty=l1;, score=0.980 total time=   7.2s\n"
     ]
    },
    {
     "name": "stderr",
     "output_type": "stream",
     "text": [
      "/home/utpalraj/coursework/AML/lib/python3.12/site-packages/sklearn/svm/_base.py:1249: ConvergenceWarning: Liblinear failed to converge, increase the number of iterations.\n",
      "  warnings.warn(\n"
     ]
    },
    {
     "name": "stdout",
     "output_type": "stream",
     "text": [
      "[CV 5/5] END classifier__C=10, classifier__class_weight=None, classifier__penalty=l1;, score=0.980 total time=   1.4s\n",
      "[CV 1/5] END classifier__C=10, classifier__class_weight=balanced, classifier__penalty=l2;, score=0.990 total time=   0.0s\n",
      "[CV 2/5] END classifier__C=10, classifier__class_weight=balanced, classifier__penalty=l2;, score=0.988 total time=   0.0s\n",
      "[CV 3/5] END classifier__C=10, classifier__class_weight=balanced, classifier__penalty=l2;, score=0.982 total time=   0.0s\n",
      "[CV 4/5] END classifier__C=10, classifier__class_weight=balanced, classifier__penalty=l2;, score=0.988 total time=   0.0s\n",
      "[CV 5/5] END classifier__C=10, classifier__class_weight=balanced, classifier__penalty=l2;, score=0.982 total time=   0.0s\n",
      "[CV 1/5] END classifier__C=10, classifier__class_weight=balanced, classifier__penalty=l1;, score=0.976 total time=   0.0s\n"
     ]
    },
    {
     "name": "stderr",
     "output_type": "stream",
     "text": [
      "/home/utpalraj/coursework/AML/lib/python3.12/site-packages/sklearn/svm/_base.py:1249: ConvergenceWarning: Liblinear failed to converge, increase the number of iterations.\n",
      "  warnings.warn(\n"
     ]
    },
    {
     "name": "stdout",
     "output_type": "stream",
     "text": [
      "[CV 2/5] END classifier__C=10, classifier__class_weight=balanced, classifier__penalty=l1;, score=0.987 total time=   7.2s\n",
      "[CV 3/5] END classifier__C=10, classifier__class_weight=balanced, classifier__penalty=l1;, score=0.970 total time=   0.1s\n"
     ]
    },
    {
     "name": "stderr",
     "output_type": "stream",
     "text": [
      "/home/utpalraj/coursework/AML/lib/python3.12/site-packages/sklearn/svm/_base.py:1249: ConvergenceWarning: Liblinear failed to converge, increase the number of iterations.\n",
      "  warnings.warn(\n"
     ]
    },
    {
     "name": "stdout",
     "output_type": "stream",
     "text": [
      "[CV 4/5] END classifier__C=10, classifier__class_weight=balanced, classifier__penalty=l1;, score=0.984 total time=  12.8s\n",
      "[CV 5/5] END classifier__C=10, classifier__class_weight=balanced, classifier__penalty=l1;, score=0.980 total time=   0.0s\n",
      "[CV 1/5] END classifier__C=100, classifier__class_weight=None, classifier__penalty=l2;, score=0.991 total time=   0.0s\n",
      "[CV 2/5] END classifier__C=100, classifier__class_weight=None, classifier__penalty=l2;, score=0.992 total time=   0.0s\n",
      "[CV 3/5] END classifier__C=100, classifier__class_weight=None, classifier__penalty=l2;, score=0.984 total time=   0.0s\n",
      "[CV 4/5] END classifier__C=100, classifier__class_weight=None, classifier__penalty=l2;, score=0.983 total time=   0.0s\n",
      "[CV 5/5] END classifier__C=100, classifier__class_weight=None, classifier__penalty=l2;, score=0.985 total time=   0.0s\n",
      "[CV 1/5] END classifier__C=100, classifier__class_weight=None, classifier__penalty=l1;, score=0.981 total time=   0.0s\n",
      "[CV 2/5] END classifier__C=100, classifier__class_weight=None, classifier__penalty=l1;, score=0.990 total time=   0.0s\n",
      "[CV 3/5] END classifier__C=100, classifier__class_weight=None, classifier__penalty=l1;, score=0.973 total time=   0.1s\n",
      "[CV 4/5] END classifier__C=100, classifier__class_weight=None, classifier__penalty=l1;, score=0.980 total time=   0.1s\n",
      "[CV 5/5] END classifier__C=100, classifier__class_weight=None, classifier__penalty=l1;, score=0.981 total time=   0.0s\n",
      "[CV 1/5] END classifier__C=100, classifier__class_weight=balanced, classifier__penalty=l2;, score=0.992 total time=   0.0s\n",
      "[CV 2/5] END classifier__C=100, classifier__class_weight=balanced, classifier__penalty=l2;, score=0.990 total time=   0.0s\n",
      "[CV 3/5] END classifier__C=100, classifier__class_weight=balanced, classifier__penalty=l2;, score=0.987 total time=   0.1s\n",
      "[CV 4/5] END classifier__C=100, classifier__class_weight=balanced, classifier__penalty=l2;, score=0.988 total time=   0.0s\n",
      "[CV 5/5] END classifier__C=100, classifier__class_weight=balanced, classifier__penalty=l2;, score=0.987 total time=   0.1s\n",
      "[CV 1/5] END classifier__C=100, classifier__class_weight=balanced, classifier__penalty=l1;, score=0.982 total time=   0.0s\n",
      "[CV 2/5] END classifier__C=100, classifier__class_weight=balanced, classifier__penalty=l1;, score=0.988 total time=   0.0s\n",
      "[CV 3/5] END classifier__C=100, classifier__class_weight=balanced, classifier__penalty=l1;, score=0.971 total time=   0.0s\n",
      "[CV 4/5] END classifier__C=100, classifier__class_weight=balanced, classifier__penalty=l1;, score=0.983 total time=   0.1s\n",
      "[CV 5/5] END classifier__C=100, classifier__class_weight=balanced, classifier__penalty=l1;, score=0.980 total time=   0.0s\n",
      "Best parameters: {'classifier__C': 100, 'classifier__class_weight': 'balanced', 'classifier__penalty': 'l2'}\n",
      "Best score: 0.9885620026875632\n"
     ]
    }
   ],
   "source": [
    "param_grid = {\n",
    "    'classifier__C': [0.1, 1, 10, 100],\n",
    "    'classifier__penalty': ['l2','l1'],\n",
    "    'classifier__class_weight': [None, 'balanced']\n",
    "}\n",
    "\n",
    "LR_Classifier = GridSearchCV(pipeline_LR, param_grid, cv=5, scoring='f1_micro', verbose=3)\n",
    "LR_Classifier.fit(msg_train['message'], msg_train['label'])\n",
    "\n",
    "print(\"Best parameters:\", LR_Classifier.best_params_)\n",
    "print(\"Best score:\", LR_Classifier.best_score_)"
   ]
  },
  {
   "cell_type": "markdown",
   "metadata": {},
   "source": [
    "## Performance on Train Data"
   ]
  },
  {
   "cell_type": "markdown",
   "metadata": {},
   "source": [
    "### Accuracy"
   ]
  },
  {
   "cell_type": "code",
   "execution_count": 37,
   "metadata": {},
   "outputs": [
    {
     "data": {
      "text/plain": [
       "1.0"
      ]
     },
     "execution_count": 37,
     "metadata": {},
     "output_type": "execute_result"
    }
   ],
   "source": [
    "predictions = LR_Classifier.predict(msg_train['message'])\n",
    "accuracy_score(msg_train['label'],predictions)"
   ]
  },
  {
   "cell_type": "markdown",
   "metadata": {},
   "source": [
    "### Precision"
   ]
  },
  {
   "cell_type": "code",
   "execution_count": 38,
   "metadata": {},
   "outputs": [
    {
     "data": {
      "text/plain": [
       "1.0"
      ]
     },
     "execution_count": 38,
     "metadata": {},
     "output_type": "execute_result"
    }
   ],
   "source": [
    "precision_score(msg_train['label'], predictions)"
   ]
  },
  {
   "cell_type": "markdown",
   "metadata": {},
   "source": [
    "### Recall"
   ]
  },
  {
   "cell_type": "code",
   "execution_count": 39,
   "metadata": {},
   "outputs": [
    {
     "data": {
      "text/plain": [
       "1.0"
      ]
     },
     "execution_count": 39,
     "metadata": {},
     "output_type": "execute_result"
    }
   ],
   "source": [
    "recall_score(msg_train['label'], predictions)"
   ]
  },
  {
   "cell_type": "markdown",
   "metadata": {},
   "source": [
    "### F1 Score"
   ]
  },
  {
   "cell_type": "code",
   "execution_count": 40,
   "metadata": {},
   "outputs": [
    {
     "data": {
      "text/plain": [
       "1.0"
      ]
     },
     "execution_count": 40,
     "metadata": {},
     "output_type": "execute_result"
    }
   ],
   "source": [
    "f1_score(msg_train['label'], predictions, pos_label=1)"
   ]
  },
  {
   "cell_type": "markdown",
   "metadata": {},
   "source": [
    "### Precision-Recall Curve"
   ]
  },
  {
   "cell_type": "code",
   "execution_count": 41,
   "metadata": {},
   "outputs": [
    {
     "data": {
      "image/png": "[encoded data removed]",
      "text/plain": [
       "<Figure size 640x480 with 1 Axes>"
      ]
     },
     "metadata": {},
     "output_type": "display_data"
    }
   ],
   "source": [
    "p, r, t = precision_recall_curve(msg_train['label'], LR_Classifier.predict_proba(msg_train['message'])[:,1],pos_label=1)\n",
    "# plot the curve\n",
    "plt.plot(r, p, label='Precision-Recall Curve')\n",
    "plt.xlabel('Recall')\n",
    "plt.ylabel('Precision')\n",
    "plt.title('Precision-Recall Curve')\n",
    "plt.legend()\n",
    "plt.show()"
   ]
  },
  {
   "cell_type": "code",
   "execution_count": 42,
   "metadata": {},
   "outputs": [
    {
     "name": "stdout",
     "output_type": "stream",
     "text": [
      "Area under the Precision-Recall Curve: 1.0\n"
     ]
    }
   ],
   "source": [
    "auc_pr = auc(r,p)\n",
    "# print the area under the curve\n",
    "print('Area under the Precision-Recall Curve:', auc_pr)"
   ]
  },
  {
   "cell_type": "markdown",
   "metadata": {},
   "source": [
    "### Confusion Matrix"
   ]
  },
  {
   "cell_type": "code",
   "execution_count": 43,
   "metadata": {},
   "outputs": [
    {
     "data": {
      "image/png": "[encoded data removed]",
      "text/plain": [
       "<Figure size 640x480 with 2 Axes>"
      ]
     },
     "metadata": {},
     "output_type": "display_data"
    }
   ],
   "source": [
    "cm = confusion_matrix(msg_train['label'], predictions)\n",
    "# Plot the confusion matrix\n",
    "sns.heatmap(cm, annot=True, cmap='Blues', fmt='d', xticklabels=['ham', 'spam'], yticklabels=['ham','spam'])\n",
    "plt.title('Confusion Matrix for Train data')\n",
    "plt.xlabel('Predicted Labels')\n",
    "plt.ylabel('True Labels')\n",
    "plt.show()"
   ]
  },
  {
   "cell_type": "markdown",
   "metadata": {},
   "source": [
    "### Classification Report"
   ]
  },
  {
   "cell_type": "code",
   "execution_count": 44,
   "metadata": {},
   "outputs": [
    {
     "name": "stdout",
     "output_type": "stream",
     "text": [
      "              precision    recall  f1-score   support\n",
      "\n",
      "           0     1.0000    1.0000    1.0000      3873\n",
      "           1     1.0000    1.0000    1.0000       586\n",
      "\n",
      "    accuracy                         1.0000      4459\n",
      "   macro avg     1.0000    1.0000    1.0000      4459\n",
      "weighted avg     1.0000    1.0000    1.0000      4459\n",
      "\n"
     ]
    }
   ],
   "source": [
    "print(classification_report(msg_train['label'],predictions,digits=4))"
   ]
  },
  {
   "cell_type": "markdown",
   "metadata": {},
   "source": [
    "## Performance on Test Data"
   ]
  },
  {
   "cell_type": "markdown",
   "metadata": {},
   "source": [
    "### Accuracy"
   ]
  },
  {
   "cell_type": "code",
   "execution_count": 45,
   "metadata": {},
   "outputs": [
    {
     "data": {
      "text/plain": [
       "0.9865470852017937"
      ]
     },
     "execution_count": 45,
     "metadata": {},
     "output_type": "execute_result"
    }
   ],
   "source": [
    "predictions = LR_Classifier.predict(msg_test['message'])\n",
    "accuracy = accuracy_score(msg_test['label'], predictions)\n",
    "accuracy"
   ]
  },
  {
   "cell_type": "code",
   "execution_count": 46,
   "metadata": {},
   "outputs": [],
   "source": [
    "acc.append(accuracy)"
   ]
  },
  {
   "cell_type": "markdown",
   "metadata": {},
   "source": [
    "### Precision"
   ]
  },
  {
   "cell_type": "code",
   "execution_count": 47,
   "metadata": {},
   "outputs": [
    {
     "data": {
      "text/plain": [
       "0.967948717948718"
      ]
     },
     "execution_count": 47,
     "metadata": {},
     "output_type": "execute_result"
    }
   ],
   "source": [
    "p = precision_score(msg_test['label'], predictions)\n",
    "p"
   ]
  },
  {
   "cell_type": "code",
   "execution_count": 48,
   "metadata": {},
   "outputs": [],
   "source": [
    "precision.append(p)"
   ]
  },
  {
   "cell_type": "markdown",
   "metadata": {},
   "source": [
    "### Recall"
   ]
  },
  {
   "cell_type": "code",
   "execution_count": 49,
   "metadata": {},
   "outputs": [
    {
     "data": {
      "text/plain": [
       "0.937888198757764"
      ]
     },
     "execution_count": 49,
     "metadata": {},
     "output_type": "execute_result"
    }
   ],
   "source": [
    "r = recall_score(msg_test['label'], predictions)\n",
    "r"
   ]
  },
  {
   "cell_type": "code",
   "execution_count": 50,
   "metadata": {},
   "outputs": [],
   "source": [
    "recall.append(r)"
   ]
  },
  {
   "cell_type": "markdown",
   "metadata": {},
   "source": [
    "### F1 Score"
   ]
  },
  {
   "cell_type": "code",
   "execution_count": 51,
   "metadata": {},
   "outputs": [
    {
     "data": {
      "text/plain": [
       "0.9526813880126183"
      ]
     },
     "execution_count": 51,
     "metadata": {},
     "output_type": "execute_result"
    }
   ],
   "source": [
    "f = f1_score(msg_test['label'], predictions, pos_label=1)\n",
    "f"
   ]
  },
  {
   "cell_type": "code",
   "execution_count": 52,
   "metadata": {},
   "outputs": [],
   "source": [
    "f1.append(f)"
   ]
  },
  {
   "cell_type": "markdown",
   "metadata": {},
   "source": [
    "### Precision-Recall Curve"
   ]
  },
  {
   "cell_type": "code",
   "execution_count": 53,
   "metadata": {},
   "outputs": [
    {
     "data": {
      "image/png": "[encoded data removed]",
      "text/plain": [
       "<Figure size 640x480 with 1 Axes>"
      ]
     },
     "metadata": {},
     "output_type": "display_data"
    }
   ],
   "source": [
    "p, r, t = precision_recall_curve(msg_test['label'], LR_Classifier.predict_proba(msg_test['message'])[:,1],pos_label=1)\n",
    "# plot the curve\n",
    "plt.plot(r, p, label='Precision-Recall Curve')\n",
    "plt.xlabel('Recall')\n",
    "plt.ylabel('Precision')\n",
    "plt.title('Precision-Recall Curve')\n",
    "plt.legend()\n",
    "plt.show()"
   ]
  },
  {
   "cell_type": "code",
   "execution_count": 54,
   "metadata": {},
   "outputs": [
    {
     "name": "stdout",
     "output_type": "stream",
     "text": [
      "Area under the Precision-Recall Curve: 0.9834777340385062\n"
     ]
    }
   ],
   "source": [
    "auc_pr = auc(r,p)\n",
    "# print the area under the curve\n",
    "print('Area under the Precision-Recall Curve:', auc_pr)"
   ]
  },
  {
   "cell_type": "code",
   "execution_count": 55,
   "metadata": {},
   "outputs": [],
   "source": [
    "pr_auc.append(auc_pr)"
   ]
  },
  {
   "cell_type": "markdown",
   "metadata": {},
   "source": [
    "### Confusion Matrix"
   ]
  },
  {
   "cell_type": "code",
   "execution_count": 56,
   "metadata": {},
   "outputs": [
    {
     "data": {
      "image/png": "[encoded data removed]",
      "text/plain": [
       "<Figure size 640x480 with 2 Axes>"
      ]
     },
     "metadata": {},
     "output_type": "display_data"
    }
   ],
   "source": [
    "cm = confusion_matrix(msg_test['label'], predictions)\n",
    "# Plot the confusion matrix\n",
    "sns.heatmap(cm, annot=True, cmap='Blues', fmt='d', xticklabels=['ham', 'spam'], yticklabels=['ham','spam'])\n",
    "plt.title('Confusion Matrix for Test data')\n",
    "plt.xlabel('Predicted Labels')\n",
    "plt.ylabel('True Labels')\n",
    "plt.show()"
   ]
  },
  {
   "cell_type": "markdown",
   "metadata": {},
   "source": [
    "### Classification Report"
   ]
  },
  {
   "cell_type": "code",
   "execution_count": 57,
   "metadata": {},
   "outputs": [
    {
     "name": "stdout",
     "output_type": "stream",
     "text": [
      "              precision    recall  f1-score   support\n",
      "\n",
      "           0     0.9896    0.9948    0.9922       954\n",
      "           1     0.9679    0.9379    0.9527       161\n",
      "\n",
      "    accuracy                         0.9865      1115\n",
      "   macro avg     0.9788    0.9663    0.9724      1115\n",
      "weighted avg     0.9865    0.9865    0.9865      1115\n",
      "\n"
     ]
    }
   ],
   "source": [
    "print(classification_report(msg_test['label'], predictions,digits=4))"
   ]
  },
  {
   "cell_type": "markdown",
   "metadata": {},
   "source": [
    "# 3. Support Vector Machines"
   ]
  },
  {
   "cell_type": "code",
   "execution_count": 58,
   "metadata": {},
   "outputs": [
    {
     "data": {
      "text/plain": [
       "{'C': 1.0,\n",
       " 'break_ties': False,\n",
       " 'cache_size': 200,\n",
       " 'class_weight': None,\n",
       " 'coef0': 0.0,\n",
       " 'decision_function_shape': 'ovr',\n",
       " 'degree': 3,\n",
       " 'gamma': 'scale',\n",
       " 'kernel': 'rbf',\n",
       " 'max_iter': -1,\n",
       " 'probability': False,\n",
       " 'random_state': None,\n",
       " 'shrinking': True,\n",
       " 'tol': 0.001,\n",
       " 'verbose': False}"
      ]
     },
     "execution_count": 58,
     "metadata": {},
     "output_type": "execute_result"
    }
   ],
   "source": [
    "SVC().get_params()"
   ]
  },
  {
   "cell_type": "code",
   "execution_count": 59,
   "metadata": {},
   "outputs": [],
   "source": [
    "pipeline_svm = Pipeline([\n",
    "    ('bow', CountVectorizer()),  # strings to token integer counts\n",
    "    ('tfidf', TfidfTransformer()),  # integer counts to weighted TF-IDF scores\n",
    "    ('classifier', SVC(probability=True, random_state=42))  # train on TF-IDF vectors w/ SVM classifier\n",
    "])"
   ]
  },
  {
   "cell_type": "code",
   "execution_count": 60,
   "metadata": {},
   "outputs": [
    {
     "data": {
      "text/plain": [
       "array([0.9380531 , 0.96491228, 0.92727273, 0.97391304, 0.90740741,\n",
       "       0.91743119, 0.85148515, 0.95495495, 0.92592593, 0.90566038])"
      ]
     },
     "execution_count": 60,
     "metadata": {},
     "output_type": "execute_result"
    }
   ],
   "source": [
    "scores = cross_val_score(pipeline_svm,  # steps to convert raw messages into models\n",
    "                         msg_train['message'],  # training data\n",
    "                         msg_train['label'],  # training labels\n",
    "                         cv=10,  # split data randomly into 10 parts: 9 for training, 1 for scoring\n",
    "                         scoring='f1',  # which scoring metric?\n",
    "                         n_jobs=-1,  # -1 = use all cores = faster\n",
    "                         )\n",
    "scores"
   ]
  },
  {
   "cell_type": "code",
   "execution_count": 61,
   "metadata": {},
   "outputs": [
    {
     "data": {
      "text/plain": [
       "(np.float64(0.9267016155620056), np.float64(0.03342972760001904))"
      ]
     },
     "execution_count": 61,
     "metadata": {},
     "output_type": "execute_result"
    }
   ],
   "source": [
    "scores.mean(), scores.std()"
   ]
  },
  {
   "cell_type": "markdown",
   "metadata": {},
   "source": [
    "## Fitting the model"
   ]
  },
  {
   "cell_type": "code",
   "execution_count": 62,
   "metadata": {},
   "outputs": [
    {
     "name": "stdout",
     "output_type": "stream",
     "text": [
      "Fitting 3 folds for each of 18 candidates, totalling 54 fits\n",
      "[CV 1/3] END classifier__C=1, classifier__gamma=scale, classifier__kernel=linear;, score=0.989 total time=   2.1s\n",
      "[CV 2/3] END classifier__C=1, classifier__gamma=scale, classifier__kernel=linear;, score=0.983 total time=   1.6s\n",
      "[CV 3/3] END classifier__C=1, classifier__gamma=scale, classifier__kernel=linear;, score=0.987 total time=   1.6s\n",
      "[CV 1/3] END classifier__C=1, classifier__gamma=scale, classifier__kernel=rbf;, score=0.985 total time=   4.3s\n",
      "[CV 2/3] END classifier__C=1, classifier__gamma=scale, classifier__kernel=rbf;, score=0.976 total time=   4.1s\n",
      "[CV 3/3] END classifier__C=1, classifier__gamma=scale, classifier__kernel=rbf;, score=0.979 total time=   3.5s\n",
      "[CV 1/3] END classifier__C=1, classifier__gamma=scale, classifier__kernel=poly;, score=0.929 total time=   3.6s\n",
      "[CV 2/3] END classifier__C=1, classifier__gamma=scale, classifier__kernel=poly;, score=0.928 total time=   4.3s\n",
      "[CV 3/3] END classifier__C=1, classifier__gamma=scale, classifier__kernel=poly;, score=0.923 total time=   5.9s\n",
      "[CV 1/3] END classifier__C=1, classifier__gamma=auto, classifier__kernel=linear;, score=0.989 total time=   1.7s\n",
      "[CV 2/3] END classifier__C=1, classifier__gamma=auto, classifier__kernel=linear;, score=0.983 total time=   1.4s\n",
      "[CV 3/3] END classifier__C=1, classifier__gamma=auto, classifier__kernel=linear;, score=0.987 total time=   1.3s\n",
      "[CV 1/3] END classifier__C=1, classifier__gamma=auto, classifier__kernel=rbf;, score=0.868 total time=   1.1s\n",
      "[CV 2/3] END classifier__C=1, classifier__gamma=auto, classifier__kernel=rbf;, score=0.869 total time=   1.2s\n",
      "[CV 3/3] END classifier__C=1, classifier__gamma=auto, classifier__kernel=rbf;, score=0.869 total time=   1.2s\n",
      "[CV 1/3] END classifier__C=1, classifier__gamma=auto, classifier__kernel=poly;, score=0.868 total time=   1.5s\n",
      "[CV 2/3] END classifier__C=1, classifier__gamma=auto, classifier__kernel=poly;, score=0.869 total time=   1.7s\n",
      "[CV 3/3] END classifier__C=1, classifier__gamma=auto, classifier__kernel=poly;, score=0.869 total time=   1.4s\n",
      "[CV 1/3] END classifier__C=5, classifier__gamma=scale, classifier__kernel=linear;, score=0.992 total time=   1.6s\n",
      "[CV 2/3] END classifier__C=5, classifier__gamma=scale, classifier__kernel=linear;, score=0.987 total time=   1.6s\n",
      "[CV 3/3] END classifier__C=5, classifier__gamma=scale, classifier__kernel=linear;, score=0.988 total time=   1.7s\n",
      "[CV 1/3] END classifier__C=5, classifier__gamma=scale, classifier__kernel=rbf;, score=0.986 total time=   4.0s\n",
      "[CV 2/3] END classifier__C=5, classifier__gamma=scale, classifier__kernel=rbf;, score=0.980 total time=   4.1s\n",
      "[CV 3/3] END classifier__C=5, classifier__gamma=scale, classifier__kernel=rbf;, score=0.985 total time=   3.9s\n",
      "[CV 1/3] END classifier__C=5, classifier__gamma=scale, classifier__kernel=poly;, score=0.934 total time=   6.2s\n",
      "[CV 2/3] END classifier__C=5, classifier__gamma=scale, classifier__kernel=poly;, score=0.935 total time=   4.5s\n",
      "[CV 3/3] END classifier__C=5, classifier__gamma=scale, classifier__kernel=poly;, score=0.932 total time=   3.5s\n",
      "[CV 1/3] END classifier__C=5, classifier__gamma=auto, classifier__kernel=linear;, score=0.992 total time=   1.2s\n",
      "[CV 2/3] END classifier__C=5, classifier__gamma=auto, classifier__kernel=linear;, score=0.987 total time=   1.2s\n",
      "[CV 3/3] END classifier__C=5, classifier__gamma=auto, classifier__kernel=linear;, score=0.988 total time=   1.2s\n",
      "[CV 1/3] END classifier__C=5, classifier__gamma=auto, classifier__kernel=rbf;, score=0.868 total time=   1.4s\n",
      "[CV 2/3] END classifier__C=5, classifier__gamma=auto, classifier__kernel=rbf;, score=0.869 total time=   1.4s\n",
      "[CV 3/3] END classifier__C=5, classifier__gamma=auto, classifier__kernel=rbf;, score=0.869 total time=   1.7s\n",
      "[CV 1/3] END classifier__C=5, classifier__gamma=auto, classifier__kernel=poly;, score=0.868 total time=   1.3s\n",
      "[CV 2/3] END classifier__C=5, classifier__gamma=auto, classifier__kernel=poly;, score=0.869 total time=   1.2s\n",
      "[CV 3/3] END classifier__C=5, classifier__gamma=auto, classifier__kernel=poly;, score=0.869 total time=   1.3s\n",
      "[CV 1/3] END classifier__C=10, classifier__gamma=scale, classifier__kernel=linear;, score=0.991 total time=   1.6s\n",
      "[CV 2/3] END classifier__C=10, classifier__gamma=scale, classifier__kernel=linear;, score=0.987 total time=   1.6s\n",
      "[CV 3/3] END classifier__C=10, classifier__gamma=scale, classifier__kernel=linear;, score=0.988 total time=   1.5s\n",
      "[CV 1/3] END classifier__C=10, classifier__gamma=scale, classifier__kernel=rbf;, score=0.986 total time=   3.8s\n",
      "[CV 2/3] END classifier__C=10, classifier__gamma=scale, classifier__kernel=rbf;, score=0.980 total time=   5.7s\n",
      "[CV 3/3] END classifier__C=10, classifier__gamma=scale, classifier__kernel=rbf;, score=0.985 total time=   3.7s\n",
      "[CV 1/3] END classifier__C=10, classifier__gamma=scale, classifier__kernel=poly;, score=0.933 total time=   4.2s\n",
      "[CV 2/3] END classifier__C=10, classifier__gamma=scale, classifier__kernel=poly;, score=0.935 total time=   4.1s\n",
      "[CV 3/3] END classifier__C=10, classifier__gamma=scale, classifier__kernel=poly;, score=0.932 total time=   4.6s\n",
      "[CV 1/3] END classifier__C=10, classifier__gamma=auto, classifier__kernel=linear;, score=0.991 total time=   1.6s\n",
      "[CV 2/3] END classifier__C=10, classifier__gamma=auto, classifier__kernel=linear;, score=0.987 total time=   1.5s\n",
      "[CV 3/3] END classifier__C=10, classifier__gamma=auto, classifier__kernel=linear;, score=0.988 total time=   1.5s\n",
      "[CV 1/3] END classifier__C=10, classifier__gamma=auto, classifier__kernel=rbf;, score=0.868 total time=   1.9s\n",
      "[CV 2/3] END classifier__C=10, classifier__gamma=auto, classifier__kernel=rbf;, score=0.869 total time=   1.8s\n",
      "[CV 3/3] END classifier__C=10, classifier__gamma=auto, classifier__kernel=rbf;, score=0.869 total time=   1.9s\n",
      "[CV 1/3] END classifier__C=10, classifier__gamma=auto, classifier__kernel=poly;, score=0.868 total time=   1.4s\n",
      "[CV 2/3] END classifier__C=10, classifier__gamma=auto, classifier__kernel=poly;, score=0.869 total time=   1.3s\n",
      "[CV 3/3] END classifier__C=10, classifier__gamma=auto, classifier__kernel=poly;, score=0.869 total time=   2.7s\n",
      "Best parameters: {'classifier__C': 10, 'classifier__gamma': 'scale', 'classifier__kernel': 'linear'}\n",
      "Best score: 0.9887861692315908\n"
     ]
    }
   ],
   "source": [
    "param_grid = {\n",
    "    'classifier__C': [1, 5, 10],\n",
    "    'classifier__kernel': ['linear', 'rbf', 'poly'],\n",
    "    'classifier__gamma': ['scale', 'auto']\n",
    "}\n",
    "\n",
    "svm_classifier = GridSearchCV(pipeline_svm, param_grid, cv=3, scoring='f1_micro',verbose=3)\n",
    "svm_classifier.fit(msg_train['message'], msg_train['label'])\n",
    "\n",
    "print(\"Best parameters:\", svm_classifier.best_params_)\n",
    "print(\"Best score:\", svm_classifier.best_score_)"
   ]
  },
  {
   "cell_type": "markdown",
   "metadata": {},
   "source": [
    "## Performance on Train Data"
   ]
  },
  {
   "cell_type": "markdown",
   "metadata": {},
   "source": [
    "### Accuracy"
   ]
  },
  {
   "cell_type": "code",
   "execution_count": 63,
   "metadata": {},
   "outputs": [
    {
     "data": {
      "text/plain": [
       "1.0"
      ]
     },
     "execution_count": 63,
     "metadata": {},
     "output_type": "execute_result"
    }
   ],
   "source": [
    "predictions = svm_classifier.predict(msg_train['message'])\n",
    "accuracy_score(msg_train['label'], predictions)"
   ]
  },
  {
   "cell_type": "markdown",
   "metadata": {},
   "source": [
    "### Precision"
   ]
  },
  {
   "cell_type": "code",
   "execution_count": 64,
   "metadata": {},
   "outputs": [
    {
     "data": {
      "text/plain": [
       "1.0"
      ]
     },
     "execution_count": 64,
     "metadata": {},
     "output_type": "execute_result"
    }
   ],
   "source": [
    "precision_score(msg_train['label'], predictions)"
   ]
  },
  {
   "cell_type": "markdown",
   "metadata": {},
   "source": [
    "### Recall"
   ]
  },
  {
   "cell_type": "code",
   "execution_count": 65,
   "metadata": {},
   "outputs": [
    {
     "data": {
      "text/plain": [
       "1.0"
      ]
     },
     "execution_count": 65,
     "metadata": {},
     "output_type": "execute_result"
    }
   ],
   "source": [
    "recall_score(msg_train['label'], predictions)"
   ]
  },
  {
   "cell_type": "markdown",
   "metadata": {},
   "source": [
    "### F1 Score"
   ]
  },
  {
   "cell_type": "code",
   "execution_count": 66,
   "metadata": {},
   "outputs": [
    {
     "data": {
      "text/plain": [
       "1.0"
      ]
     },
     "execution_count": 66,
     "metadata": {},
     "output_type": "execute_result"
    }
   ],
   "source": [
    "f1_score(msg_train['label'], predictions, pos_label=1)"
   ]
  },
  {
   "cell_type": "markdown",
   "metadata": {},
   "source": [
    "### Precision-Recall Curve"
   ]
  },
  {
   "cell_type": "code",
   "execution_count": 67,
   "metadata": {},
   "outputs": [
    {
     "data": {
      "image/png": "[encoded data removed]",
      "text/plain": [
       "<Figure size 640x480 with 1 Axes>"
      ]
     },
     "metadata": {},
     "output_type": "display_data"
    }
   ],
   "source": [
    "p, r, t = precision_recall_curve(msg_train['label'], svm_classifier.predict_proba(msg_train['message'])[:,1],pos_label=1)\n",
    "# plot the curve\n",
    "plt.plot(r, p, label='Precision-Recall Curve')\n",
    "plt.xlabel('Recall')\n",
    "plt.ylabel('Precision')\n",
    "plt.title('Precision-Recall Curve')\n",
    "plt.legend()\n",
    "plt.show()"
   ]
  },
  {
   "cell_type": "code",
   "execution_count": 68,
   "metadata": {},
   "outputs": [
    {
     "name": "stdout",
     "output_type": "stream",
     "text": [
      "Area under the Precision-Recall Curve: 1.0\n"
     ]
    }
   ],
   "source": [
    "auc_pr = auc(r,p)\n",
    "# print the area under the curve\n",
    "print('Area under the Precision-Recall Curve:', auc_pr)"
   ]
  },
  {
   "cell_type": "markdown",
   "metadata": {},
   "source": [
    "### Confusion Matrix"
   ]
  },
  {
   "cell_type": "code",
   "execution_count": 69,
   "metadata": {},
   "outputs": [
    {
     "data": {
      "image/png": "[encoded data removed]",
      "text/plain": [
       "<Figure size 640x480 with 2 Axes>"
      ]
     },
     "metadata": {},
     "output_type": "display_data"
    }
   ],
   "source": [
    "cm = confusion_matrix(msg_train['label'], predictions)\n",
    "# Plot the confusion matrix\n",
    "sns.heatmap(cm, annot=True, cmap='Blues', fmt='d', xticklabels=['ham', 'spam'], yticklabels=['ham','spam'])\n",
    "plt.title('Confusion Matrix for Train data')\n",
    "plt.xlabel('Predicted Labels')\n",
    "plt.ylabel('True Labels')\n",
    "plt.show()"
   ]
  },
  {
   "cell_type": "markdown",
   "metadata": {},
   "source": [
    "### Classification Report"
   ]
  },
  {
   "cell_type": "code",
   "execution_count": 70,
   "metadata": {},
   "outputs": [
    {
     "name": "stdout",
     "output_type": "stream",
     "text": [
      "              precision    recall  f1-score   support\n",
      "\n",
      "           0     1.0000    1.0000    1.0000      3873\n",
      "           1     1.0000    1.0000    1.0000       586\n",
      "\n",
      "    accuracy                         1.0000      4459\n",
      "   macro avg     1.0000    1.0000    1.0000      4459\n",
      "weighted avg     1.0000    1.0000    1.0000      4459\n",
      "\n"
     ]
    }
   ],
   "source": [
    "print(classification_report(msg_train['label'], predictions, digits=4))"
   ]
  },
  {
   "cell_type": "markdown",
   "metadata": {},
   "source": [
    "## Performance on Test Data"
   ]
  },
  {
   "cell_type": "markdown",
   "metadata": {},
   "source": [
    "### Accuracy"
   ]
  },
  {
   "cell_type": "code",
   "execution_count": 71,
   "metadata": {},
   "outputs": [
    {
     "data": {
      "text/plain": [
       "0.9865470852017937"
      ]
     },
     "execution_count": 71,
     "metadata": {},
     "output_type": "execute_result"
    }
   ],
   "source": [
    "predictions = svm_classifier.predict(msg_test['message'])\n",
    "accuracy = accuracy_score(msg_test['label'], predictions)\n",
    "accuracy"
   ]
  },
  {
   "cell_type": "code",
   "execution_count": 72,
   "metadata": {},
   "outputs": [],
   "source": [
    "acc.append(accuracy)"
   ]
  },
  {
   "cell_type": "markdown",
   "metadata": {},
   "source": [
    "### Precision"
   ]
  },
  {
   "cell_type": "code",
   "execution_count": 73,
   "metadata": {},
   "outputs": [
    {
     "data": {
      "text/plain": [
       "0.9802631578947368"
      ]
     },
     "execution_count": 73,
     "metadata": {},
     "output_type": "execute_result"
    }
   ],
   "source": [
    "p = precision_score(msg_test['label'], predictions)\n",
    "p"
   ]
  },
  {
   "cell_type": "code",
   "execution_count": 74,
   "metadata": {},
   "outputs": [],
   "source": [
    "precision.append(p)"
   ]
  },
  {
   "cell_type": "markdown",
   "metadata": {},
   "source": [
    "### Recall"
   ]
  },
  {
   "cell_type": "code",
   "execution_count": 75,
   "metadata": {},
   "outputs": [
    {
     "data": {
      "text/plain": [
       "0.9254658385093167"
      ]
     },
     "execution_count": 75,
     "metadata": {},
     "output_type": "execute_result"
    }
   ],
   "source": [
    "r = recall_score(msg_test['label'], predictions)\n",
    "r"
   ]
  },
  {
   "cell_type": "code",
   "execution_count": 76,
   "metadata": {},
   "outputs": [],
   "source": [
    "recall.append(r)"
   ]
  },
  {
   "cell_type": "markdown",
   "metadata": {},
   "source": [
    "### F1 Score"
   ]
  },
  {
   "cell_type": "code",
   "execution_count": 77,
   "metadata": {},
   "outputs": [
    {
     "data": {
      "text/plain": [
       "0.952076677316294"
      ]
     },
     "execution_count": 77,
     "metadata": {},
     "output_type": "execute_result"
    }
   ],
   "source": [
    "f = f1_score(msg_test['label'], predictions, pos_label=1)\n",
    "f"
   ]
  },
  {
   "cell_type": "code",
   "execution_count": 78,
   "metadata": {},
   "outputs": [],
   "source": [
    "f1.append(f)"
   ]
  },
  {
   "cell_type": "markdown",
   "metadata": {},
   "source": [
    "### Precision-Recall Curve"
   ]
  },
  {
   "cell_type": "code",
   "execution_count": 79,
   "metadata": {},
   "outputs": [
    {
     "data": {
      "image/png": "[encoded data removed]",
      "text/plain": [
       "<Figure size 640x480 with 1 Axes>"
      ]
     },
     "metadata": {},
     "output_type": "display_data"
    }
   ],
   "source": [
    "p, r, t = precision_recall_curve(msg_test['label'], LR_Classifier.predict_proba(msg_test['message'])[:,1],pos_label=1)\n",
    "# plot the curve\n",
    "plt.plot(r, p, label='Precision-Recall Curve')\n",
    "plt.xlabel('Recall')\n",
    "plt.ylabel('Precision')\n",
    "plt.title('Precision-Recall Curve')\n",
    "plt.legend()\n",
    "plt.show()"
   ]
  },
  {
   "cell_type": "code",
   "execution_count": 80,
   "metadata": {},
   "outputs": [
    {
     "name": "stdout",
     "output_type": "stream",
     "text": [
      "Area under the Precision-Recall Curve: 0.9834777340385062\n"
     ]
    }
   ],
   "source": [
    "auc_pr = auc(r,p)\n",
    "# print the area under the curve\n",
    "print('Area under the Precision-Recall Curve:', auc_pr)"
   ]
  },
  {
   "cell_type": "code",
   "execution_count": 81,
   "metadata": {},
   "outputs": [],
   "source": [
    "pr_auc.append(auc_pr)"
   ]
  },
  {
   "cell_type": "markdown",
   "metadata": {},
   "source": [
    "### Confusion Matrix"
   ]
  },
  {
   "cell_type": "code",
   "execution_count": 82,
   "metadata": {},
   "outputs": [
    {
     "data": {
      "image/png": "[encoded data removed]",
      "text/plain": [
       "<Figure size 640x480 with 2 Axes>"
      ]
     },
     "metadata": {},
     "output_type": "display_data"
    }
   ],
   "source": [
    "cm = confusion_matrix(msg_test['label'], predictions)\n",
    "# Plot the confusion matrix\n",
    "sns.heatmap(cm, annot=True, cmap='Blues', fmt='d', xticklabels=['ham', 'spam'], yticklabels=['ham','spam'])\n",
    "plt.title('Confusion Matrix for Test data')\n",
    "plt.xlabel('Predicted Labels')\n",
    "plt.ylabel('True Labels')\n",
    "plt.show()"
   ]
  },
  {
   "cell_type": "markdown",
   "metadata": {},
   "source": [
    "### Classification Report"
   ]
  },
  {
   "cell_type": "code",
   "execution_count": 83,
   "metadata": {},
   "outputs": [
    {
     "name": "stdout",
     "output_type": "stream",
     "text": [
      "              precision    recall  f1-score   support\n",
      "\n",
      "           0     0.9875    0.9969    0.9922       954\n",
      "           1     0.9803    0.9255    0.9521       161\n",
      "\n",
      "    accuracy                         0.9865      1115\n",
      "   macro avg     0.9839    0.9612    0.9721      1115\n",
      "weighted avg     0.9865    0.9865    0.9864      1115\n",
      "\n"
     ]
    }
   ],
   "source": [
    "print(classification_report(msg_test['label'], predictions,digits=4))"
   ]
  },
  {
   "cell_type": "markdown",
   "metadata": {},
   "source": [
    "# Benchmarking the performance"
   ]
  },
  {
   "cell_type": "code",
   "execution_count": 84,
   "metadata": {},
   "outputs": [
    {
     "data": {
      "text/html": [
       "<div>\n",
       "<style scoped>\n",
       "    .dataframe tbody tr th:only-of-type {\n",
       "        vertical-align: middle;\n",
       "    }\n",
       "\n",
       "    .dataframe tbody tr th {\n",
       "        vertical-align: top;\n",
       "    }\n",
       "\n",
       "    .dataframe thead th {\n",
       "        text-align: right;\n",
       "    }\n",
       "</style>\n",
       "<table border=\"1\" class=\"dataframe\">\n",
       "  <thead>\n",
       "    <tr style=\"text-align: right;\">\n",
       "      <th></th>\n",
       "      <th>Model</th>\n",
       "      <th>F1 Score</th>\n",
       "      <th>Accuracy</th>\n",
       "      <th>Precision</th>\n",
       "      <th>Recall</th>\n",
       "      <th>AUC-PR</th>\n",
       "    </tr>\n",
       "  </thead>\n",
       "  <tbody>\n",
       "    <tr>\n",
       "      <th>0</th>\n",
       "      <td>Naive Bayes</td>\n",
       "      <td>0.889655</td>\n",
       "      <td>0.971300</td>\n",
       "      <td>1.000000</td>\n",
       "      <td>0.801242</td>\n",
       "      <td>0.969421</td>\n",
       "    </tr>\n",
       "    <tr>\n",
       "      <th>1</th>\n",
       "      <td>Logistic Regression</td>\n",
       "      <td>0.952681</td>\n",
       "      <td>0.986547</td>\n",
       "      <td>0.967949</td>\n",
       "      <td>0.937888</td>\n",
       "      <td>0.983478</td>\n",
       "    </tr>\n",
       "    <tr>\n",
       "      <th>2</th>\n",
       "      <td>Support Vector Machines</td>\n",
       "      <td>0.952077</td>\n",
       "      <td>0.986547</td>\n",
       "      <td>0.980263</td>\n",
       "      <td>0.925466</td>\n",
       "      <td>0.983478</td>\n",
       "    </tr>\n",
       "  </tbody>\n",
       "</table>\n",
       "</div>"
      ],
      "text/plain": [
       "                     Model  F1 Score  Accuracy  Precision    Recall    AUC-PR\n",
       "0              Naive Bayes  0.889655  0.971300   1.000000  0.801242  0.969421\n",
       "1      Logistic Regression  0.952681  0.986547   0.967949  0.937888  0.983478\n",
       "2  Support Vector Machines  0.952077  0.986547   0.980263  0.925466  0.983478"
      ]
     },
     "execution_count": 84,
     "metadata": {},
     "output_type": "execute_result"
    }
   ],
   "source": [
    "pd.DataFrame({'Model':models, 'F1 Score':f1, 'Accuracy':acc, 'Precision':precision, 'Recall':recall, 'AUC-PR':pr_auc})"
   ]
  }
 ],
 "metadata": {
  "kernelspec": {
   "display_name": "AML",
   "language": "python",
   "name": "python3"
  },
  "language_info": {
   "codemirror_mode": {
    "name": "ipython",
    "version": 3
   },
   "file_extension": ".py",
   "mimetype": "text/x-python",
   "name": "python",
   "nbconvert_exporter": "python",
   "pygments_lexer": "ipython3",
   "version": "3.12.3"
  }
 },
 "nbformat": 4,
 "nbformat_minor": 2
}
