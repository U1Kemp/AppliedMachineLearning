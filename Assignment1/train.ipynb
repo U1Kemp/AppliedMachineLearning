{
 "cells": [
  {
   "cell_type": "markdown",
   "metadata": {},
   "source": [
    "# Importing libraries"
   ]
  },
  {
   "cell_type": "code",
   "execution_count": 1,
   "metadata": {},
   "outputs": [],
   "source": [
    "%matplotlib inline\n",
    "import matplotlib.pyplot as plt\n",
    "import seaborn as sns\n",
    "import pandas as pd\n",
    "from sklearn.feature_extraction.text import CountVectorizer, TfidfTransformer\n",
    "from sklearn.naive_bayes import MultinomialNB\n",
    "from sklearn.svm import SVC\n",
    "from sklearn.linear_model import LogisticRegression\n",
    "from sklearn.metrics import classification_report, f1_score, accuracy_score, confusion_matrix, precision_score, recall_score, precision_recall_curve, auc\n",
    "from sklearn.pipeline import Pipeline\n",
    "from sklearn.model_selection import GridSearchCV, cross_val_score"
   ]
  },
  {
   "cell_type": "markdown",
   "metadata": {},
   "source": [
    "# Loading train and test data"
   ]
  },
  {
   "cell_type": "markdown",
   "metadata": {},
   "source": [
    "## Train Data"
   ]
  },
  {
   "cell_type": "code",
   "execution_count": 2,
   "metadata": {},
   "outputs": [
    {
     "data": {
      "text/html": [
       "<div>\n",
       "<style scoped>\n",
       "    .dataframe tbody tr th:only-of-type {\n",
       "        vertical-align: middle;\n",
       "    }\n",
       "\n",
       "    .dataframe tbody tr th {\n",
       "        vertical-align: top;\n",
       "    }\n",
       "\n",
       "    .dataframe thead th {\n",
       "        text-align: right;\n",
       "    }\n",
       "</style>\n",
       "<table border=\"1\" class=\"dataframe\">\n",
       "  <thead>\n",
       "    <tr style=\"text-align: right;\">\n",
       "      <th></th>\n",
       "      <th>label</th>\n",
       "      <th>message</th>\n",
       "      <th>length</th>\n",
       "    </tr>\n",
       "  </thead>\n",
       "  <tbody>\n",
       "    <tr>\n",
       "      <th>0</th>\n",
       "      <td>1</td>\n",
       "      <td>['free2day', 'sexy', 'st', 'george', \"'s\", 'da...</td>\n",
       "      <td>26</td>\n",
       "    </tr>\n",
       "    <tr>\n",
       "      <th>1</th>\n",
       "      <td>0</td>\n",
       "      <td>['armand', 'say', 'get', 'as', 'epsilon']</td>\n",
       "      <td>5</td>\n",
       "    </tr>\n",
       "    <tr>\n",
       "      <th>2</th>\n",
       "      <td>0</td>\n",
       "      <td>['lol', 'i', \"'m\", 'hot', 'air', 'balloon', '!']</td>\n",
       "      <td>7</td>\n",
       "    </tr>\n",
       "    <tr>\n",
       "      <th>3</th>\n",
       "      <td>0</td>\n",
       "      <td>['you', 'know', ',', 'wot', 'people', 'wear', ...</td>\n",
       "      <td>21</td>\n",
       "    </tr>\n",
       "    <tr>\n",
       "      <th>4</th>\n",
       "      <td>0</td>\n",
       "      <td>['good', 'morning', ',', 'love', '...', 'i', '...</td>\n",
       "      <td>27</td>\n",
       "    </tr>\n",
       "    <tr>\n",
       "      <th>...</th>\n",
       "      <td>...</td>\n",
       "      <td>...</td>\n",
       "      <td>...</td>\n",
       "    </tr>\n",
       "    <tr>\n",
       "      <th>4454</th>\n",
       "      <td>0</td>\n",
       "      <td>['hi', ',', 'wlcome', 'back', ',', 'wonder', '...</td>\n",
       "      <td>13</td>\n",
       "    </tr>\n",
       "    <tr>\n",
       "      <th>4455</th>\n",
       "      <td>1</td>\n",
       "      <td>['ree', 'entry', '2', 'weekly', 'comp', 'chanc...</td>\n",
       "      <td>27</td>\n",
       "    </tr>\n",
       "    <tr>\n",
       "      <th>4456</th>\n",
       "      <td>0</td>\n",
       "      <td>['``', 'oh', 'fuck', '.', 'juswoke', 'up', 'in...</td>\n",
       "      <td>31</td>\n",
       "    </tr>\n",
       "    <tr>\n",
       "      <th>4457</th>\n",
       "      <td>0</td>\n",
       "      <td>['not', 'much', 'no', 'fights', '.', 'it', 'wa...</td>\n",
       "      <td>12</td>\n",
       "    </tr>\n",
       "    <tr>\n",
       "      <th>4458</th>\n",
       "      <td>0</td>\n",
       "      <td>['did', 'say', 'somebody', 'named', 'tampa']</td>\n",
       "      <td>5</td>\n",
       "    </tr>\n",
       "  </tbody>\n",
       "</table>\n",
       "<p>4459 rows × 3 columns</p>\n",
       "</div>"
      ],
      "text/plain": [
       "      label                                            message  length\n",
       "0         1  ['free2day', 'sexy', 'st', 'george', \"'s\", 'da...      26\n",
       "1         0          ['armand', 'say', 'get', 'as', 'epsilon']       5\n",
       "2         0   ['lol', 'i', \"'m\", 'hot', 'air', 'balloon', '!']       7\n",
       "3         0  ['you', 'know', ',', 'wot', 'people', 'wear', ...      21\n",
       "4         0  ['good', 'morning', ',', 'love', '...', 'i', '...      27\n",
       "...     ...                                                ...     ...\n",
       "4454      0  ['hi', ',', 'wlcome', 'back', ',', 'wonder', '...      13\n",
       "4455      1  ['ree', 'entry', '2', 'weekly', 'comp', 'chanc...      27\n",
       "4456      0  ['``', 'oh', 'fuck', '.', 'juswoke', 'up', 'in...      31\n",
       "4457      0  ['not', 'much', 'no', 'fights', '.', 'it', 'wa...      12\n",
       "4458      0       ['did', 'say', 'somebody', 'named', 'tampa']       5\n",
       "\n",
       "[4459 rows x 3 columns]"
      ]
     },
     "execution_count": 2,
     "metadata": {},
     "output_type": "execute_result"
    }
   ],
   "source": [
    "msg_train = pd.read_csv('train.csv')\n",
    "msg_train"
   ]
  },
  {
   "cell_type": "markdown",
   "metadata": {},
   "source": [
    "## Test Data"
   ]
  },
  {
   "cell_type": "code",
   "execution_count": 3,
   "metadata": {},
   "outputs": [
    {
     "data": {
      "text/html": [
       "<div>\n",
       "<style scoped>\n",
       "    .dataframe tbody tr th:only-of-type {\n",
       "        vertical-align: middle;\n",
       "    }\n",
       "\n",
       "    .dataframe tbody tr th {\n",
       "        vertical-align: top;\n",
       "    }\n",
       "\n",
       "    .dataframe thead th {\n",
       "        text-align: right;\n",
       "    }\n",
       "</style>\n",
       "<table border=\"1\" class=\"dataframe\">\n",
       "  <thead>\n",
       "    <tr style=\"text-align: right;\">\n",
       "      <th></th>\n",
       "      <th>label</th>\n",
       "      <th>message</th>\n",
       "      <th>length</th>\n",
       "    </tr>\n",
       "  </thead>\n",
       "  <tbody>\n",
       "    <tr>\n",
       "      <th>0</th>\n",
       "      <td>0</td>\n",
       "      <td>['you', 'still', 'coming', 'tonight', '?']</td>\n",
       "      <td>5</td>\n",
       "    </tr>\n",
       "    <tr>\n",
       "      <th>1</th>\n",
       "      <td>0</td>\n",
       "      <td>['``', 'hey', 'babe', '!', 'far', '2', 'spun-o...</td>\n",
       "      <td>46</td>\n",
       "    </tr>\n",
       "    <tr>\n",
       "      <th>2</th>\n",
       "      <td>0</td>\n",
       "      <td>['ya', 'even', 'cooky', 'jelly']</td>\n",
       "      <td>4</td>\n",
       "    </tr>\n",
       "    <tr>\n",
       "      <th>3</th>\n",
       "      <td>0</td>\n",
       "      <td>['sorry', \"'ve\", 'gone', 'place', '.', 'i.ll',...</td>\n",
       "      <td>11</td>\n",
       "    </tr>\n",
       "    <tr>\n",
       "      <th>4</th>\n",
       "      <td>0</td>\n",
       "      <td>['when', 'going', 'ride', 'bike', '?']</td>\n",
       "      <td>5</td>\n",
       "    </tr>\n",
       "    <tr>\n",
       "      <th>...</th>\n",
       "      <td>...</td>\n",
       "      <td>...</td>\n",
       "      <td>...</td>\n",
       "    </tr>\n",
       "    <tr>\n",
       "      <th>1110</th>\n",
       "      <td>0</td>\n",
       "      <td>['my', 'supervisor', 'find', '4', 'one', 'lor'...</td>\n",
       "      <td>19</td>\n",
       "    </tr>\n",
       "    <tr>\n",
       "      <th>1111</th>\n",
       "      <td>1</td>\n",
       "      <td>['bored', 'housewife', '!', 'chat', 'n', 'date...</td>\n",
       "      <td>14</td>\n",
       "    </tr>\n",
       "    <tr>\n",
       "      <th>1112</th>\n",
       "      <td>0</td>\n",
       "      <td>['rose', 'red', ',', 'red', 'blood', ',', 'blo...</td>\n",
       "      <td>59</td>\n",
       "    </tr>\n",
       "    <tr>\n",
       "      <th>1113</th>\n",
       "      <td>0</td>\n",
       "      <td>['also', 'remember', 'bead', \"n't\", 'come', '....</td>\n",
       "      <td>8</td>\n",
       "    </tr>\n",
       "    <tr>\n",
       "      <th>1114</th>\n",
       "      <td>1</td>\n",
       "      <td>['hey', 'boys', '.', 'want', 'hot', 'xxx', 'pi...</td>\n",
       "      <td>29</td>\n",
       "    </tr>\n",
       "  </tbody>\n",
       "</table>\n",
       "<p>1115 rows × 3 columns</p>\n",
       "</div>"
      ],
      "text/plain": [
       "      label                                            message  length\n",
       "0         0         ['you', 'still', 'coming', 'tonight', '?']       5\n",
       "1         0  ['``', 'hey', 'babe', '!', 'far', '2', 'spun-o...      46\n",
       "2         0                   ['ya', 'even', 'cooky', 'jelly']       4\n",
       "3         0  ['sorry', \"'ve\", 'gone', 'place', '.', 'i.ll',...      11\n",
       "4         0             ['when', 'going', 'ride', 'bike', '?']       5\n",
       "...     ...                                                ...     ...\n",
       "1110      0  ['my', 'supervisor', 'find', '4', 'one', 'lor'...      19\n",
       "1111      1  ['bored', 'housewife', '!', 'chat', 'n', 'date...      14\n",
       "1112      0  ['rose', 'red', ',', 'red', 'blood', ',', 'blo...      59\n",
       "1113      0  ['also', 'remember', 'bead', \"n't\", 'come', '....       8\n",
       "1114      1  ['hey', 'boys', '.', 'want', 'hot', 'xxx', 'pi...      29\n",
       "\n",
       "[1115 rows x 3 columns]"
      ]
     },
     "execution_count": 3,
     "metadata": {},
     "output_type": "execute_result"
    }
   ],
   "source": [
    "msg_test = pd.read_csv('test.csv')\n",
    "msg_test"
   ]
  },
  {
   "cell_type": "markdown",
   "metadata": {},
   "source": [
    "# Model Selection\n",
    "\n",
    "We choose to use the following three models for spam/ham classification and record their Accuracy, Precision, Recall, F1-score and Area under the Precision-Recall respectively.\n",
    "\n",
    "1. Naive Bayes\n",
    "2. Logistic Regression\n",
    "3. Support Vector Machine"
   ]
  },
  {
   "cell_type": "code",
   "execution_count": 4,
   "metadata": {},
   "outputs": [],
   "source": [
    "models = ['Naive Bayes', 'Logistic Regression', 'Support Vector Machines']\n",
    "f1 = []\n",
    "acc = []\n",
    "precision = []\n",
    "recall = []\n",
    "pr_auc = []"
   ]
  },
  {
   "cell_type": "markdown",
   "metadata": {},
   "source": [
    "# 1. Naive Bayes Classifier"
   ]
  },
  {
   "cell_type": "code",
   "execution_count": 5,
   "metadata": {},
   "outputs": [
    {
     "data": {
      "text/plain": [
       "{'alpha': 1.0, 'class_prior': None, 'fit_prior': True, 'force_alpha': True}"
      ]
     },
     "execution_count": 5,
     "metadata": {},
     "output_type": "execute_result"
    }
   ],
   "source": [
    "MultinomialNB().get_params() # Multinomial Naive Bayes"
   ]
  },
  {
   "cell_type": "markdown",
   "metadata": {},
   "source": [
    "## Creating pipeline"
   ]
  },
  {
   "cell_type": "code",
   "execution_count": 6,
   "metadata": {},
   "outputs": [],
   "source": [
    "pipeline_nb = Pipeline([\n",
    "    ('bow', CountVectorizer()),  # strings to token integer counts\n",
    "    ('tfidf', TfidfTransformer()),  # integer counts to weighted TF-IDF scores\n",
    "    ('classifier', MultinomialNB()),  # train on TF-IDF vectors w/ Naive Bayes classifier\n",
    "])"
   ]
  },
  {
   "cell_type": "markdown",
   "metadata": {},
   "source": [
    "## Cross Validation Scores"
   ]
  },
  {
   "cell_type": "code",
   "execution_count": 7,
   "metadata": {},
   "outputs": [
    {
     "data": {
      "text/plain": [
       "array([0.96412556, 0.97982063, 0.96412556, 0.97757848, 0.96636771,\n",
       "       0.97533632, 0.9529148 , 0.97982063, 0.96412556, 0.9505618 ])"
      ]
     },
     "execution_count": 7,
     "metadata": {},
     "output_type": "execute_result"
    }
   ],
   "source": [
    "scores = cross_val_score(pipeline_nb,  # steps to convert raw messages into models\n",
    "                         msg_train['message'],  # training data\n",
    "                         msg_train['label'],  # training labels\n",
    "                         cv=10,  # split data randomly into 10 parts: 9 for training, 1 for scoring\n",
    "                         scoring='accuracy',  # which scoring metric?\n",
    "                         n_jobs=-1,  # -1 = use all cores = faster\n",
    "                         )\n",
    "scores"
   ]
  },
  {
   "cell_type": "code",
   "execution_count": 8,
   "metadata": {},
   "outputs": [
    {
     "data": {
      "text/plain": [
       "(np.float64(0.9674777044389581), np.float64(0.010008235582897696))"
      ]
     },
     "execution_count": 8,
     "metadata": {},
     "output_type": "execute_result"
    }
   ],
   "source": [
    "scores.mean(), scores.std()"
   ]
  },
  {
   "cell_type": "markdown",
   "metadata": {},
   "source": [
    "## Fitting the model"
   ]
  },
  {
   "cell_type": "code",
   "execution_count": 9,
   "metadata": {},
   "outputs": [
    {
     "name": "stdout",
     "output_type": "stream",
     "text": [
      "Fitting 5 folds for each of 4 candidates, totalling 20 fits\n"
     ]
    },
    {
     "name": "stdout",
     "output_type": "stream",
     "text": [
      "[CV 3/5] END .............classifier__alpha=0.1;, score=0.946 total time=   0.2s\n",
      "[CV 5/5] END .............classifier__alpha=0.1;, score=0.924 total time=   0.2s\n",
      "[CV 4/5] END .............classifier__alpha=0.2;, score=0.927 total time=   0.2s\n",
      "[CV 1/5] END .............classifier__alpha=0.2;, score=0.952 total time=   0.2s\n",
      "[CV 3/5] END .............classifier__alpha=0.2;, score=0.941 total time=   0.2s\n",
      "[CV 2/5] END .............classifier__alpha=0.2;, score=0.960 total time=   0.2s\n",
      "[CV 4/5] END .............classifier__alpha=0.1;, score=0.937 total time=   0.3s\n",
      "[CV 1/5] END .............classifier__alpha=0.5;, score=0.922 total time=   0.2s\n",
      "[CV 2/5] END .............classifier__alpha=0.5;, score=0.946 total time=   0.2s\n",
      "[CV 5/5] END .............classifier__alpha=0.2;, score=0.910 total time=   0.3s\n",
      "[CV 3/5] END .............classifier__alpha=0.5;, score=0.896 total time=   0.2s\n",
      "[CV 2/5] END ...............classifier__alpha=1;, score=0.870 total time=   0.2s\n",
      "[CV 4/5] END .............classifier__alpha=0.5;, score=0.891 total time=   0.2s\n",
      "[CV 3/5] END ...............classifier__alpha=1;, score=0.864 total time=   0.2s\n",
      "[CV 1/5] END ...............classifier__alpha=1;, score=0.871 total time=   0.2s\n",
      "[CV 5/5] END .............classifier__alpha=0.5;, score=0.871 total time=   0.2s\n",
      "[CV 4/5] END ...............classifier__alpha=1;, score=0.836 total time=   0.2s\n",
      "[CV 5/5] END ...............classifier__alpha=1;, score=0.788 total time=   0.2s\n",
      "[CV 2/5] END .............classifier__alpha=0.1;, score=0.961 total time=   0.1s\n",
      "[CV 1/5] END .............classifier__alpha=0.1;, score=0.944 total time=   0.1s\n",
      "Best parameters: {'classifier__alpha': 0.1}\n",
      "Best score: 0.9424178464178464\n"
     ]
    }
   ],
   "source": [
    "param_grid = {\n",
    "    'classifier__alpha': [0.1, 0.2, 0.5, 1],\n",
    "}\n",
    "\n",
    "NB_Classifier = GridSearchCV(pipeline_nb, param_grid, cv=5, scoring='f1', verbose=3, n_jobs=-1)\n",
    "NB_Classifier.fit(msg_train['message'], msg_train['label'])\n",
    "\n",
    "print(\"Best parameters:\", NB_Classifier.best_params_)\n",
    "print(\"Best score:\", NB_Classifier.best_score_)"
   ]
  },
  {
   "cell_type": "markdown",
   "metadata": {},
   "source": [
    "## Performance on Train Data"
   ]
  },
  {
   "cell_type": "markdown",
   "metadata": {},
   "source": [
    "### Accuracy"
   ]
  },
  {
   "cell_type": "code",
   "execution_count": 10,
   "metadata": {},
   "outputs": [
    {
     "data": {
      "text/plain": [
       "0.9979816102265082"
      ]
     },
     "execution_count": 10,
     "metadata": {},
     "output_type": "execute_result"
    }
   ],
   "source": [
    "predictions = NB_Classifier.predict(msg_train['message'])\n",
    "accuracy_score(msg_train['label'], predictions)"
   ]
  },
  {
   "cell_type": "markdown",
   "metadata": {},
   "source": [
    "### Precision"
   ]
  },
  {
   "cell_type": "code",
   "execution_count": 11,
   "metadata": {},
   "outputs": [
    {
     "data": {
      "text/plain": [
       "1.0"
      ]
     },
     "execution_count": 11,
     "metadata": {},
     "output_type": "execute_result"
    }
   ],
   "source": [
    "precision_score(msg_train['label'], predictions)"
   ]
  },
  {
   "cell_type": "markdown",
   "metadata": {},
   "source": [
    "### Recall"
   ]
  },
  {
   "cell_type": "code",
   "execution_count": 12,
   "metadata": {},
   "outputs": [
    {
     "data": {
      "text/plain": [
       "0.984641638225256"
      ]
     },
     "execution_count": 12,
     "metadata": {},
     "output_type": "execute_result"
    }
   ],
   "source": [
    "recall_score(msg_train['label'], predictions)"
   ]
  },
  {
   "cell_type": "markdown",
   "metadata": {},
   "source": [
    "### F1 Score"
   ]
  },
  {
   "cell_type": "code",
   "execution_count": 13,
   "metadata": {},
   "outputs": [
    {
     "data": {
      "text/plain": [
       "0.9922613929492692"
      ]
     },
     "execution_count": 13,
     "metadata": {},
     "output_type": "execute_result"
    }
   ],
   "source": [
    "f1_score(msg_train['label'], predictions, pos_label=1)"
   ]
  },
  {
   "cell_type": "markdown",
   "metadata": {},
   "source": [
    "### Precision-Recall Curve"
   ]
  },
  {
   "cell_type": "code",
   "execution_count": 14,
   "metadata": {},
   "outputs": [
    {
     "data": {
      "image/png": "[encoded data removed]",
      "text/plain": [
       "<Figure size 640x480 with 1 Axes>"
      ]
     },
     "metadata": {},
     "output_type": "display_data"
    }
   ],
   "source": [
    "p, r, t = precision_recall_curve(msg_train['label'], NB_Classifier.predict_proba(msg_train['message'])[:,1],pos_label=1)\n",
    "# plot the curve\n",
    "plt.plot(r, p, label='Precision-Recall Curve')\n",
    "plt.xlabel('Recall')\n",
    "plt.ylabel('Precision')\n",
    "plt.title('Precision-Recall Curve')\n",
    "plt.legend()\n",
    "plt.show()"
   ]
  },
  {
   "cell_type": "code",
   "execution_count": 15,
   "metadata": {},
   "outputs": [
    {
     "name": "stdout",
     "output_type": "stream",
     "text": [
      "Area under the Precision-Recall Curve: 0.9992110026145932\n"
     ]
    }
   ],
   "source": [
    "auc_pr = auc(r,p)\n",
    "# print the area under the curve\n",
    "print('Area under the Precision-Recall Curve:', auc_pr)"
   ]
  },
  {
   "cell_type": "markdown",
   "metadata": {},
   "source": [
    "### Confusion Matrix"
   ]
  },
  {
   "cell_type": "code",
   "execution_count": 16,
   "metadata": {},
   "outputs": [
    {
     "data": {
      "image/png": "[encoded data removed]",
      "text/plain": [
       "<Figure size 640x480 with 2 Axes>"
      ]
     },
     "metadata": {},
     "output_type": "display_data"
    }
   ],
   "source": [
    "cm = confusion_matrix(msg_train['label'], predictions)\n",
    "# Plot the confusion matrix\n",
    "sns.heatmap(cm, annot=True, cmap='Blues', fmt='d', xticklabels=['ham', 'spam'], yticklabels=['ham','spam'])\n",
    "plt.title('Confusion Matrix for Train Data')\n",
    "plt.xlabel('Predicted Labels')\n",
    "plt.ylabel('True Labels')\n",
    "plt.show()"
   ]
  },
  {
   "cell_type": "markdown",
   "metadata": {},
   "source": [
    "### Classification Report"
   ]
  },
  {
   "cell_type": "code",
   "execution_count": 17,
   "metadata": {},
   "outputs": [
    {
     "name": "stdout",
     "output_type": "stream",
     "text": [
      "              precision    recall  f1-score   support\n",
      "\n",
      "           0     0.9977    1.0000    0.9988      3873\n",
      "           1     1.0000    0.9846    0.9923       586\n",
      "\n",
      "    accuracy                         0.9980      4459\n",
      "   macro avg     0.9988    0.9923    0.9956      4459\n",
      "weighted avg     0.9980    0.9980    0.9980      4459\n",
      "\n"
     ]
    }
   ],
   "source": [
    "print(classification_report(msg_train['label'], predictions, digits=4))"
   ]
  },
  {
   "cell_type": "markdown",
   "metadata": {},
   "source": [
    "## Performance on Test Data"
   ]
  },
  {
   "cell_type": "markdown",
   "metadata": {},
   "source": [
    "### Accuracy"
   ]
  },
  {
   "cell_type": "code",
   "execution_count": 18,
   "metadata": {},
   "outputs": [
    {
     "data": {
      "text/plain": [
       "0.9865470852017937"
      ]
     },
     "execution_count": 18,
     "metadata": {},
     "output_type": "execute_result"
    }
   ],
   "source": [
    "predictions = NB_Classifier.predict(msg_test['message'])\n",
    "accuracy = accuracy_score(msg_test['label'], predictions)\n",
    "accuracy"
   ]
  },
  {
   "cell_type": "code",
   "execution_count": 19,
   "metadata": {},
   "outputs": [],
   "source": [
    "acc.append(accuracy)"
   ]
  },
  {
   "cell_type": "markdown",
   "metadata": {},
   "source": [
    "### Precision"
   ]
  },
  {
   "cell_type": "code",
   "execution_count": 20,
   "metadata": {},
   "outputs": [
    {
     "data": {
      "text/plain": [
       "1.0"
      ]
     },
     "execution_count": 20,
     "metadata": {},
     "output_type": "execute_result"
    }
   ],
   "source": [
    "p = precision_score(msg_test['label'], predictions)\n",
    "p"
   ]
  },
  {
   "cell_type": "code",
   "execution_count": 21,
   "metadata": {},
   "outputs": [],
   "source": [
    "precision.append(p)"
   ]
  },
  {
   "cell_type": "markdown",
   "metadata": {},
   "source": [
    "### Recall"
   ]
  },
  {
   "cell_type": "code",
   "execution_count": 22,
   "metadata": {},
   "outputs": [
    {
     "data": {
      "text/plain": [
       "0.906832298136646"
      ]
     },
     "execution_count": 22,
     "metadata": {},
     "output_type": "execute_result"
    }
   ],
   "source": [
    "r = recall_score(msg_test['label'], predictions)\n",
    "r"
   ]
  },
  {
   "cell_type": "code",
   "execution_count": 23,
   "metadata": {},
   "outputs": [],
   "source": [
    "recall.append(r)"
   ]
  },
  {
   "cell_type": "markdown",
   "metadata": {},
   "source": [
    "### F1 Score"
   ]
  },
  {
   "cell_type": "code",
   "execution_count": 24,
   "metadata": {},
   "outputs": [
    {
     "data": {
      "text/plain": [
       "0.9511400651465798"
      ]
     },
     "execution_count": 24,
     "metadata": {},
     "output_type": "execute_result"
    }
   ],
   "source": [
    "f = f1_score(msg_test['label'], predictions, pos_label=1)\n",
    "f"
   ]
  },
  {
   "cell_type": "code",
   "execution_count": 25,
   "metadata": {},
   "outputs": [],
   "source": [
    "f1.append(f)"
   ]
  },
  {
   "cell_type": "markdown",
   "metadata": {},
   "source": [
    "### Precision-Recall Curve"
   ]
  },
  {
   "cell_type": "code",
   "execution_count": 26,
   "metadata": {},
   "outputs": [
    {
     "data": {
      "image/png": "[encoded data removed]",
      "text/plain": [
       "<Figure size 640x480 with 1 Axes>"
      ]
     },
     "metadata": {},
     "output_type": "display_data"
    }
   ],
   "source": [
    "p, r, t = precision_recall_curve(msg_test['label'], NB_Classifier.predict_proba(msg_test['message'])[:,1],pos_label=1)\n",
    "# plot the curve\n",
    "plt.plot(r, p, label='Precision-Recall Curve')\n",
    "plt.xlabel('Recall')\n",
    "plt.ylabel('Precision')\n",
    "plt.title('Precision-Recall Curve')\n",
    "plt.legend()\n",
    "plt.show()"
   ]
  },
  {
   "cell_type": "code",
   "execution_count": 27,
   "metadata": {},
   "outputs": [
    {
     "name": "stdout",
     "output_type": "stream",
     "text": [
      "Area under the Precision-Recall Curve: 0.9827191491550886\n"
     ]
    }
   ],
   "source": [
    "auc_pr = auc(r,p)\n",
    "# print the area under the curve\n",
    "print('Area under the Precision-Recall Curve:', auc_pr)"
   ]
  },
  {
   "cell_type": "code",
   "execution_count": 28,
   "metadata": {},
   "outputs": [],
   "source": [
    "pr_auc.append(auc_pr)"
   ]
  },
  {
   "cell_type": "markdown",
   "metadata": {},
   "source": [
    "### Confusion Matrix"
   ]
  },
  {
   "cell_type": "code",
   "execution_count": 29,
   "metadata": {},
   "outputs": [
    {
     "data": {
      "image/png": "[encoded data removed]",
      "text/plain": [
       "<Figure size 640x480 with 2 Axes>"
      ]
     },
     "metadata": {},
     "output_type": "display_data"
    }
   ],
   "source": [
    "cm = confusion_matrix(msg_test['label'], predictions)\n",
    "# Plot the confusion matrix\n",
    "sns.heatmap(cm, annot=True, cmap='Blues', fmt='d', xticklabels=['ham', 'spam'], yticklabels=['ham','spam'])\n",
    "plt.title('Confusion Matrix for Test data')\n",
    "plt.xlabel('Predicted Labels')\n",
    "plt.ylabel('True Labels')\n",
    "plt.show()"
   ]
  },
  {
   "cell_type": "markdown",
   "metadata": {},
   "source": [
    "### Classification Report"
   ]
  },
  {
   "cell_type": "code",
   "execution_count": 30,
   "metadata": {},
   "outputs": [
    {
     "name": "stdout",
     "output_type": "stream",
     "text": [
      "              precision    recall  f1-score   support\n",
      "\n",
      "           0     0.9845    1.0000    0.9922       954\n",
      "           1     1.0000    0.9068    0.9511       161\n",
      "\n",
      "    accuracy                         0.9865      1115\n",
      "   macro avg     0.9923    0.9534    0.9717      1115\n",
      "weighted avg     0.9868    0.9865    0.9863      1115\n",
      "\n"
     ]
    }
   ],
   "source": [
    "print(classification_report(msg_test['label'], predictions, digits=4))"
   ]
  },
  {
   "cell_type": "markdown",
   "metadata": {},
   "source": [
    "# 2. Logistic Regression"
   ]
  },
  {
   "cell_type": "code",
   "execution_count": 31,
   "metadata": {},
   "outputs": [
    {
     "data": {
      "text/plain": [
       "{'C': 1.0,\n",
       " 'class_weight': None,\n",
       " 'dual': False,\n",
       " 'fit_intercept': True,\n",
       " 'intercept_scaling': 1,\n",
       " 'l1_ratio': None,\n",
       " 'max_iter': 100,\n",
       " 'multi_class': 'deprecated',\n",
       " 'n_jobs': None,\n",
       " 'penalty': 'l2',\n",
       " 'random_state': None,\n",
       " 'solver': 'lbfgs',\n",
       " 'tol': 0.0001,\n",
       " 'verbose': 0,\n",
       " 'warm_start': False}"
      ]
     },
     "execution_count": 31,
     "metadata": {},
     "output_type": "execute_result"
    }
   ],
   "source": [
    "LogisticRegression().get_params()"
   ]
  },
  {
   "cell_type": "markdown",
   "metadata": {},
   "source": [
    "## Creating Pipeline"
   ]
  },
  {
   "cell_type": "code",
   "execution_count": 32,
   "metadata": {},
   "outputs": [],
   "source": [
    "pipeline_LR = Pipeline([\n",
    "    ('bow', CountVectorizer()),  # strings to token integer counts\n",
    "    ('tfidf', TfidfTransformer()),  # integer counts to weighted TF-IDF scores\n",
    "    ('classifier', LogisticRegression(random_state=42, solver='liblinear', max_iter=1000))  # train on TF-IDF vectors w/ logistic regression\n",
    "])"
   ]
  },
  {
   "cell_type": "markdown",
   "metadata": {},
   "source": [
    "## Cross Validation Scores"
   ]
  },
  {
   "cell_type": "code",
   "execution_count": 33,
   "metadata": {},
   "outputs": [
    {
     "data": {
      "text/plain": [
       "array([0.82352941, 0.91891892, 0.85436893, 0.91891892, 0.85436893,\n",
       "       0.87619048, 0.75268817, 0.87619048, 0.85148515, 0.75789474])"
      ]
     },
     "execution_count": 33,
     "metadata": {},
     "output_type": "execute_result"
    }
   ],
   "source": [
    "scores = cross_val_score(pipeline_LR,  # steps to convert raw messages into models\n",
    "                         msg_train['message'],  # training data\n",
    "                         msg_train['label'],  # training labels\n",
    "                         cv=10,  # split data randomly into 10 parts: 9 for training, 1 for scoring\n",
    "                         scoring='f1',  # which scoring metric?\n",
    "                         n_jobs=-1,  # -1 = use all cores = faster\n",
    "                         )\n",
    "scores"
   ]
  },
  {
   "cell_type": "code",
   "execution_count": 34,
   "metadata": {},
   "outputs": [
    {
     "data": {
      "text/plain": [
       "(np.float64(0.8484554123461134), np.float64(0.054352280126538165))"
      ]
     },
     "execution_count": 34,
     "metadata": {},
     "output_type": "execute_result"
    }
   ],
   "source": [
    "scores.mean(), scores.std()"
   ]
  },
  {
   "cell_type": "markdown",
   "metadata": {},
   "source": [
    "## Fitting the model"
   ]
  },
  {
   "cell_type": "code",
   "execution_count": 35,
   "metadata": {},
   "outputs": [
    {
     "name": "stdout",
     "output_type": "stream",
     "text": [
      "Fitting 3 folds for each of 16 candidates, totalling 48 fits\n",
      "[CV 3/3] END classifier__C=1, classifier__class_weight=None, classifier__penalty=l2;, score=0.784 total time=   0.1s\n",
      "[CV 2/3] END classifier__C=1, classifier__class_weight=None, classifier__penalty=l1;, score=0.742 total time=   0.1s\n",
      "[CV 1/3] END classifier__C=1, classifier__class_weight=None, classifier__penalty=l1;, score=0.836 total time=   0.1s\n",
      "[CV 2/3] END classifier__C=1, classifier__class_weight=balanced, classifier__penalty=l2;, score=0.905 total time=   0.1s\n",
      "[CV 1/3] END classifier__C=1, classifier__class_weight=None, classifier__penalty=l2;, score=0.845 total time=   0.1s\n",
      "[CV 3/3] END classifier__C=1, classifier__class_weight=None, classifier__penalty=l1;, score=0.784 total time=   0.2s\n",
      "[CV 2/3] END classifier__C=1, classifier__class_weight=None, classifier__penalty=l2;, score=0.810 total time=   0.2s\n",
      "[CV 1/3] END classifier__C=1, classifier__class_weight=balanced, classifier__penalty=l2;, score=0.932 total time=   0.2s\n",
      "[CV 3/3] END classifier__C=1, classifier__class_weight=balanced, classifier__penalty=l2;, score=0.913 total time=   0.2s\n",
      "[CV 1/3] END classifier__C=1, classifier__class_weight=balanced, classifier__penalty=l1;, score=0.848 total time=   0.2s\n",
      "[CV 3/3] END classifier__C=1, classifier__class_weight=balanced, classifier__penalty=l1;, score=0.856 total time=   0.2s\n",
      "[CV 1/3] END classifier__C=5, classifier__class_weight=None, classifier__penalty=l2;, score=0.939 total time=   0.1s\n",
      "[CV 2/3] END classifier__C=1, classifier__class_weight=balanced, classifier__penalty=l1;, score=0.836 total time=   0.2s\n",
      "[CV 3/3] END classifier__C=5, classifier__class_weight=None, classifier__penalty=l2;, score=0.923 total time=   0.1s\n",
      "[CV 2/3] END classifier__C=5, classifier__class_weight=None, classifier__penalty=l2;, score=0.920 total time=   0.1s\n",
      "[CV 1/3] END classifier__C=5, classifier__class_weight=None, classifier__penalty=l1;, score=0.929 total time=   0.1s\n",
      "[CV 2/3] END classifier__C=5, classifier__class_weight=None, classifier__penalty=l1;, score=0.904 total time=   0.1s\n",
      "[CV 2/3] END classifier__C=5, classifier__class_weight=balanced, classifier__penalty=l2;, score=0.932 total time=   0.1s\n",
      "[CV 1/3] END classifier__C=5, classifier__class_weight=balanced, classifier__penalty=l1;, score=0.898 total time=   0.1s\n",
      "[CV 3/3] END classifier__C=5, classifier__class_weight=balanced, classifier__penalty=l2;, score=0.940 total time=   0.1s\n",
      "[CV 2/3] END classifier__C=5, classifier__class_weight=balanced, classifier__penalty=l1;, score=0.897 total time=   0.1s\n",
      "[CV 1/3] END classifier__C=5, classifier__class_weight=balanced, classifier__penalty=l2;, score=0.944 total time=   0.2s\n",
      "[CV 3/3] END classifier__C=5, classifier__class_weight=balanced, classifier__penalty=l1;, score=0.928 total time=   0.1s\n",
      "[CV 1/3] END classifier__C=10, classifier__class_weight=None, classifier__penalty=l2;, score=0.950 total time=   0.1s\n",
      "[CV 3/3] END classifier__C=10, classifier__class_weight=None, classifier__penalty=l2;, score=0.938 total time=   0.1s\n",
      "[CV 1/3] END classifier__C=10, classifier__class_weight=balanced, classifier__penalty=l2;, score=0.954 total time=   0.1s\n",
      "[CV 3/3] END classifier__C=10, classifier__class_weight=balanced, classifier__penalty=l2;, score=0.950 total time=   0.1s\n",
      "[CV 2/3] END classifier__C=10, classifier__class_weight=balanced, classifier__penalty=l1;, score=0.908 total time=   0.1s\n",
      "[CV 1/3] END classifier__C=50, classifier__class_weight=None, classifier__penalty=l2;, score=0.953 total time=   0.1s\n",
      "[CV 3/3] END classifier__C=50, classifier__class_weight=None, classifier__penalty=l2;, score=0.946 total time=   0.1s\n",
      "[CV 3/3] END classifier__C=50, classifier__class_weight=balanced, classifier__penalty=l2;, score=0.955 total time=   0.1s\n",
      "[CV 2/3] END classifier__C=50, classifier__class_weight=None, classifier__penalty=l1;, score=0.913 total time=   0.1s\n",
      "[CV 1/3] END classifier__C=10, classifier__class_weight=None, classifier__penalty=l1;, score=0.933 total time=   0.1s\n",
      "[CV 1/3] END classifier__C=50, classifier__class_weight=balanced, classifier__penalty=l2;, score=0.961 total time=   0.2s\n",
      "[CV 2/3] END classifier__C=10, classifier__class_weight=None, classifier__penalty=l2;, score=0.923 total time=   0.1s\n",
      "[CV 2/3] END classifier__C=10, classifier__class_weight=balanced, classifier__penalty=l2;, score=0.937 total time=   0.1s\n",
      "[CV 1/3] END classifier__C=10, classifier__class_weight=balanced, classifier__penalty=l1;, score=0.918 total time=   0.1s\n",
      "[CV 3/3] END classifier__C=10, classifier__class_weight=balanced, classifier__penalty=l1;, score=0.935 total time=   0.1s\n",
      "[CV 2/3] END classifier__C=50, classifier__class_weight=None, classifier__penalty=l2;, score=0.934 total time=   0.1s\n",
      "[CV 1/3] END classifier__C=50, classifier__class_weight=None, classifier__penalty=l1;, score=0.925 total time=   0.1s\n",
      "[CV 1/3] END classifier__C=50, classifier__class_weight=balanced, classifier__penalty=l1;, score=0.930 total time=   0.1s\n",
      "[CV 3/3] END classifier__C=50, classifier__class_weight=None, classifier__penalty=l1;, score=0.936 total time=   0.1s\n",
      "[CV 2/3] END classifier__C=50, classifier__class_weight=balanced, classifier__penalty=l2;, score=0.944 total time=   0.1s\n",
      "[CV 2/3] END classifier__C=50, classifier__class_weight=balanced, classifier__penalty=l1;, score=0.917 total time=   0.1s\n",
      "[CV 3/3] END classifier__C=50, classifier__class_weight=balanced, classifier__penalty=l1;, score=0.935 total time=   0.1s\n",
      "[CV 3/3] END classifier__C=5, classifier__class_weight=None, classifier__penalty=l1;, score=0.926 total time=   1.3s\n"
     ]
    },
    {
     "name": "stderr",
     "output_type": "stream",
     "text": [
      "/home/utpalraj/coursework/AML/lib/python3.12/site-packages/sklearn/svm/_base.py:1249: ConvergenceWarning: Liblinear failed to converge, increase the number of iterations.\n",
      "  warnings.warn(\n"
     ]
    },
    {
     "name": "stdout",
     "output_type": "stream",
     "text": [
      "[CV 2/3] END classifier__C=10, classifier__class_weight=None, classifier__penalty=l1;, score=0.916 total time=   3.8s\n",
      "[CV 3/3] END classifier__C=10, classifier__class_weight=None, classifier__penalty=l1;, score=0.928 total time=   0.1s\n",
      "Best parameters: {'classifier__C': 50, 'classifier__class_weight': 'balanced', 'classifier__penalty': 'l2'}\n",
      "Best score: 0.9534618096036761\n"
     ]
    }
   ],
   "source": [
    "param_grid = {\n",
    "    'classifier__C': [1, 5, 10, 50],\n",
    "    'classifier__penalty': ['l2','l1'],\n",
    "    'classifier__class_weight': [None, 'balanced']\n",
    "}\n",
    "\n",
    "LR_Classifier = GridSearchCV(pipeline_LR, param_grid, cv=3, scoring='f1', verbose=3, n_jobs=-1)\n",
    "LR_Classifier.fit(msg_train['message'], msg_train['label'])\n",
    "\n",
    "print(\"Best parameters:\", LR_Classifier.best_params_)\n",
    "print(\"Best score:\", LR_Classifier.best_score_)"
   ]
  },
  {
   "cell_type": "markdown",
   "metadata": {},
   "source": [
    "## Performance on Train Data"
   ]
  },
  {
   "cell_type": "markdown",
   "metadata": {},
   "source": [
    "### Accuracy"
   ]
  },
  {
   "cell_type": "code",
   "execution_count": 36,
   "metadata": {},
   "outputs": [
    {
     "data": {
      "text/plain": [
       "1.0"
      ]
     },
     "execution_count": 36,
     "metadata": {},
     "output_type": "execute_result"
    }
   ],
   "source": [
    "predictions = LR_Classifier.predict(msg_train['message'])\n",
    "accuracy_score(msg_train['label'],predictions)"
   ]
  },
  {
   "cell_type": "markdown",
   "metadata": {},
   "source": [
    "### Precision"
   ]
  },
  {
   "cell_type": "code",
   "execution_count": 37,
   "metadata": {},
   "outputs": [
    {
     "data": {
      "text/plain": [
       "1.0"
      ]
     },
     "execution_count": 37,
     "metadata": {},
     "output_type": "execute_result"
    }
   ],
   "source": [
    "precision_score(msg_train['label'], predictions)"
   ]
  },
  {
   "cell_type": "markdown",
   "metadata": {},
   "source": [
    "### Recall"
   ]
  },
  {
   "cell_type": "code",
   "execution_count": 38,
   "metadata": {},
   "outputs": [
    {
     "data": {
      "text/plain": [
       "1.0"
      ]
     },
     "execution_count": 38,
     "metadata": {},
     "output_type": "execute_result"
    }
   ],
   "source": [
    "recall_score(msg_train['label'], predictions)"
   ]
  },
  {
   "cell_type": "markdown",
   "metadata": {},
   "source": [
    "### F1 Score"
   ]
  },
  {
   "cell_type": "code",
   "execution_count": 39,
   "metadata": {},
   "outputs": [
    {
     "data": {
      "text/plain": [
       "1.0"
      ]
     },
     "execution_count": 39,
     "metadata": {},
     "output_type": "execute_result"
    }
   ],
   "source": [
    "f1_score(msg_train['label'], predictions, pos_label=1)"
   ]
  },
  {
   "cell_type": "markdown",
   "metadata": {},
   "source": [
    "### Precision-Recall Curve"
   ]
  },
  {
   "cell_type": "code",
   "execution_count": 40,
   "metadata": {},
   "outputs": [
    {
     "data": {
      "image/png": "[encoded data removed]",
      "text/plain": [
       "<Figure size 640x480 with 1 Axes>"
      ]
     },
     "metadata": {},
     "output_type": "display_data"
    }
   ],
   "source": [
    "p, r, t = precision_recall_curve(msg_train['label'], LR_Classifier.predict_proba(msg_train['message'])[:,1],pos_label=1)\n",
    "# plot the curve\n",
    "plt.plot(r, p, label='Precision-Recall Curve')\n",
    "plt.xlabel('Recall')\n",
    "plt.ylabel('Precision')\n",
    "plt.title('Precision-Recall Curve')\n",
    "plt.legend()\n",
    "plt.show()"
   ]
  },
  {
   "cell_type": "code",
   "execution_count": 41,
   "metadata": {},
   "outputs": [
    {
     "name": "stdout",
     "output_type": "stream",
     "text": [
      "Area under the Precision-Recall Curve: 1.0\n"
     ]
    }
   ],
   "source": [
    "auc_pr = auc(r,p)\n",
    "# print the area under the curve\n",
    "print('Area under the Precision-Recall Curve:', auc_pr)"
   ]
  },
  {
   "cell_type": "markdown",
   "metadata": {},
   "source": [
    "### Confusion Matrix"
   ]
  },
  {
   "cell_type": "code",
   "execution_count": 42,
   "metadata": {},
   "outputs": [
    {
     "data": {
      "image/png": "[encoded data removed]",
      "text/plain": [
       "<Figure size 640x480 with 2 Axes>"
      ]
     },
     "metadata": {},
     "output_type": "display_data"
    }
   ],
   "source": [
    "cm = confusion_matrix(msg_train['label'], predictions)\n",
    "# Plot the confusion matrix\n",
    "sns.heatmap(cm, annot=True, cmap='Blues', fmt='d', xticklabels=['ham', 'spam'], yticklabels=['ham','spam'])\n",
    "plt.title('Confusion Matrix for Train data')\n",
    "plt.xlabel('Predicted Labels')\n",
    "plt.ylabel('True Labels')\n",
    "plt.show()"
   ]
  },
  {
   "cell_type": "markdown",
   "metadata": {},
   "source": [
    "### Classification Report"
   ]
  },
  {
   "cell_type": "code",
   "execution_count": 43,
   "metadata": {},
   "outputs": [
    {
     "name": "stdout",
     "output_type": "stream",
     "text": [
      "              precision    recall  f1-score   support\n",
      "\n",
      "           0     1.0000    1.0000    1.0000      3873\n",
      "           1     1.0000    1.0000    1.0000       586\n",
      "\n",
      "    accuracy                         1.0000      4459\n",
      "   macro avg     1.0000    1.0000    1.0000      4459\n",
      "weighted avg     1.0000    1.0000    1.0000      4459\n",
      "\n"
     ]
    }
   ],
   "source": [
    "print(classification_report(msg_train['label'],predictions,digits=4))"
   ]
  },
  {
   "cell_type": "markdown",
   "metadata": {},
   "source": [
    "## Performance on Test Data"
   ]
  },
  {
   "cell_type": "markdown",
   "metadata": {},
   "source": [
    "### Accuracy"
   ]
  },
  {
   "cell_type": "code",
   "execution_count": 44,
   "metadata": {},
   "outputs": [
    {
     "data": {
      "text/plain": [
       "0.9856502242152466"
      ]
     },
     "execution_count": 44,
     "metadata": {},
     "output_type": "execute_result"
    }
   ],
   "source": [
    "predictions = LR_Classifier.predict(msg_test['message'])\n",
    "accuracy = accuracy_score(msg_test['label'], predictions)\n",
    "accuracy"
   ]
  },
  {
   "cell_type": "code",
   "execution_count": 45,
   "metadata": {},
   "outputs": [],
   "source": [
    "acc.append(accuracy)"
   ]
  },
  {
   "cell_type": "markdown",
   "metadata": {},
   "source": [
    "### Precision"
   ]
  },
  {
   "cell_type": "code",
   "execution_count": 46,
   "metadata": {},
   "outputs": [
    {
     "data": {
      "text/plain": [
       "0.9559748427672956"
      ]
     },
     "execution_count": 46,
     "metadata": {},
     "output_type": "execute_result"
    }
   ],
   "source": [
    "p = precision_score(msg_test['label'], predictions)\n",
    "p"
   ]
  },
  {
   "cell_type": "code",
   "execution_count": 47,
   "metadata": {},
   "outputs": [],
   "source": [
    "precision.append(p)"
   ]
  },
  {
   "cell_type": "markdown",
   "metadata": {},
   "source": [
    "### Recall"
   ]
  },
  {
   "cell_type": "code",
   "execution_count": 48,
   "metadata": {},
   "outputs": [
    {
     "data": {
      "text/plain": [
       "0.9440993788819876"
      ]
     },
     "execution_count": 48,
     "metadata": {},
     "output_type": "execute_result"
    }
   ],
   "source": [
    "r = recall_score(msg_test['label'], predictions)\n",
    "r"
   ]
  },
  {
   "cell_type": "code",
   "execution_count": 49,
   "metadata": {},
   "outputs": [],
   "source": [
    "recall.append(r)"
   ]
  },
  {
   "cell_type": "markdown",
   "metadata": {},
   "source": [
    "### F1 Score"
   ]
  },
  {
   "cell_type": "code",
   "execution_count": 50,
   "metadata": {},
   "outputs": [
    {
     "data": {
      "text/plain": [
       "0.95"
      ]
     },
     "execution_count": 50,
     "metadata": {},
     "output_type": "execute_result"
    }
   ],
   "source": [
    "f = f1_score(msg_test['label'], predictions, pos_label=1)\n",
    "f"
   ]
  },
  {
   "cell_type": "code",
   "execution_count": 51,
   "metadata": {},
   "outputs": [],
   "source": [
    "f1.append(f)"
   ]
  },
  {
   "cell_type": "markdown",
   "metadata": {},
   "source": [
    "### Precision-Recall Curve"
   ]
  },
  {
   "cell_type": "code",
   "execution_count": 52,
   "metadata": {},
   "outputs": [
    {
     "data": {
      "image/png": "[encoded data removed]",
      "text/plain": [
       "<Figure size 640x480 with 1 Axes>"
      ]
     },
     "metadata": {},
     "output_type": "display_data"
    }
   ],
   "source": [
    "p, r, t = precision_recall_curve(msg_test['label'], LR_Classifier.predict_proba(msg_test['message'])[:,1],pos_label=1)\n",
    "# plot the curve\n",
    "plt.plot(r, p, label='Precision-Recall Curve')\n",
    "plt.xlabel('Recall')\n",
    "plt.ylabel('Precision')\n",
    "plt.title('Precision-Recall Curve')\n",
    "plt.legend()\n",
    "plt.show()"
   ]
  },
  {
   "cell_type": "code",
   "execution_count": 53,
   "metadata": {},
   "outputs": [
    {
     "name": "stdout",
     "output_type": "stream",
     "text": [
      "Area under the Precision-Recall Curve: 0.9834448267450075\n"
     ]
    }
   ],
   "source": [
    "auc_pr = auc(r,p)\n",
    "# print the area under the curve\n",
    "print('Area under the Precision-Recall Curve:', auc_pr)"
   ]
  },
  {
   "cell_type": "code",
   "execution_count": 54,
   "metadata": {},
   "outputs": [],
   "source": [
    "pr_auc.append(auc_pr)"
   ]
  },
  {
   "cell_type": "markdown",
   "metadata": {},
   "source": [
    "### Confusion Matrix"
   ]
  },
  {
   "cell_type": "code",
   "execution_count": 55,
   "metadata": {},
   "outputs": [
    {
     "data": {
      "image/png": "[encoded data removed]",
      "text/plain": [
       "<Figure size 640x480 with 2 Axes>"
      ]
     },
     "metadata": {},
     "output_type": "display_data"
    }
   ],
   "source": [
    "cm = confusion_matrix(msg_test['label'], predictions)\n",
    "# Plot the confusion matrix\n",
    "sns.heatmap(cm, annot=True, cmap='Blues', fmt='d', xticklabels=['ham', 'spam'], yticklabels=['ham','spam'])\n",
    "plt.title('Confusion Matrix for Test data')\n",
    "plt.xlabel('Predicted Labels')\n",
    "plt.ylabel('True Labels')\n",
    "plt.show()"
   ]
  },
  {
   "cell_type": "markdown",
   "metadata": {},
   "source": [
    "### Classification Report"
   ]
  },
  {
   "cell_type": "code",
   "execution_count": 56,
   "metadata": {},
   "outputs": [
    {
     "name": "stdout",
     "output_type": "stream",
     "text": [
      "              precision    recall  f1-score   support\n",
      "\n",
      "           0     0.9906    0.9927    0.9916       954\n",
      "           1     0.9560    0.9441    0.9500       161\n",
      "\n",
      "    accuracy                         0.9857      1115\n",
      "   macro avg     0.9733    0.9684    0.9708      1115\n",
      "weighted avg     0.9856    0.9857    0.9856      1115\n",
      "\n"
     ]
    }
   ],
   "source": [
    "print(classification_report(msg_test['label'], predictions,digits=4))"
   ]
  },
  {
   "cell_type": "markdown",
   "metadata": {},
   "source": [
    "# 3. Support Vector Machines"
   ]
  },
  {
   "cell_type": "code",
   "execution_count": 57,
   "metadata": {},
   "outputs": [
    {
     "data": {
      "text/plain": [
       "{'C': 1.0,\n",
       " 'break_ties': False,\n",
       " 'cache_size': 200,\n",
       " 'class_weight': None,\n",
       " 'coef0': 0.0,\n",
       " 'decision_function_shape': 'ovr',\n",
       " 'degree': 3,\n",
       " 'gamma': 'scale',\n",
       " 'kernel': 'rbf',\n",
       " 'max_iter': -1,\n",
       " 'probability': False,\n",
       " 'random_state': None,\n",
       " 'shrinking': True,\n",
       " 'tol': 0.001,\n",
       " 'verbose': False}"
      ]
     },
     "execution_count": 57,
     "metadata": {},
     "output_type": "execute_result"
    }
   ],
   "source": [
    "SVC().get_params()"
   ]
  },
  {
   "cell_type": "markdown",
   "metadata": {},
   "source": [
    "## Creating Pipeline"
   ]
  },
  {
   "cell_type": "code",
   "execution_count": 58,
   "metadata": {},
   "outputs": [],
   "source": [
    "pipeline_svm = Pipeline([\n",
    "    ('bow', CountVectorizer()),  # strings to token integer counts\n",
    "    ('tfidf', TfidfTransformer()),  # integer counts to weighted TF-IDF scores\n",
    "    ('classifier', SVC(probability=True, random_state=42))  # train on TF-IDF vectors w/ SVM classifier\n",
    "])"
   ]
  },
  {
   "cell_type": "markdown",
   "metadata": {},
   "source": [
    "## Cross Validation Score"
   ]
  },
  {
   "cell_type": "code",
   "execution_count": 59,
   "metadata": {},
   "outputs": [
    {
     "data": {
      "text/plain": [
       "array([0.9380531 , 0.96491228, 0.92727273, 0.97391304, 0.90740741,\n",
       "       0.91743119, 0.85148515, 0.95495495, 0.92592593, 0.90566038])"
      ]
     },
     "execution_count": 59,
     "metadata": {},
     "output_type": "execute_result"
    }
   ],
   "source": [
    "scores = cross_val_score(pipeline_svm,  # steps to convert raw messages into models\n",
    "                         msg_train['message'],  # training data\n",
    "                         msg_train['label'],  # training labels\n",
    "                         cv=10,  # split data randomly into 10 parts: 9 for training, 1 for scoring\n",
    "                         scoring='f1',  # which scoring metric?\n",
    "                         n_jobs=-1,  # -1 = use all cores = faster\n",
    "                         )\n",
    "scores"
   ]
  },
  {
   "cell_type": "code",
   "execution_count": 60,
   "metadata": {},
   "outputs": [
    {
     "data": {
      "text/plain": [
       "(np.float64(0.9267016155620056), np.float64(0.03342972760001904))"
      ]
     },
     "execution_count": 60,
     "metadata": {},
     "output_type": "execute_result"
    }
   ],
   "source": [
    "scores.mean(), scores.std()"
   ]
  },
  {
   "cell_type": "markdown",
   "metadata": {},
   "source": [
    "## Fitting the model"
   ]
  },
  {
   "cell_type": "code",
   "execution_count": 61,
   "metadata": {},
   "outputs": [
    {
     "name": "stdout",
     "output_type": "stream",
     "text": [
      "Fitting 3 folds for each of 32 candidates, totalling 96 fits\n",
      "[CV 3/3] END classifier__C=0.5, classifier__gamma=scale, classifier__kernel=sigmoid;, score=0.914 total time=   3.8s\n",
      "[CV 3/3] END classifier__C=0.5, classifier__gamma=scale, classifier__kernel=linear;, score=0.920 total time=   4.1s\n",
      "[CV 1/3] END classifier__C=0.5, classifier__gamma=scale, classifier__kernel=linear;, score=0.936 total time=   4.2s\n",
      "[CV 2/3] END classifier__C=0.5, classifier__gamma=scale, classifier__kernel=linear;, score=0.917 total time=   4.3s\n",
      "[CV 2/3] END classifier__C=0.5, classifier__gamma=scale, classifier__kernel=sigmoid;, score=0.908 total time=   4.5s\n",
      "[CV 1/3] END classifier__C=0.5, classifier__gamma=scale, classifier__kernel=sigmoid;, score=0.921 total time=   4.6s\n",
      "[CV 1/3] END classifier__C=0.5, classifier__gamma=auto, classifier__kernel=linear;, score=0.936 total time=   4.0s\n",
      "[CV 2/3] END classifier__C=0.5, classifier__gamma=auto, classifier__kernel=linear;, score=0.917 total time=   3.9s\n",
      "[CV 3/3] END classifier__C=0.5, classifier__gamma=auto, classifier__kernel=linear;, score=0.920 total time=   3.9s\n",
      "[CV 1/3] END classifier__C=0.5, classifier__gamma=auto, classifier__kernel=rbf;, score=0.000 total time=   5.3s\n",
      "[CV 1/3] END classifier__C=0.5, classifier__gamma=scale, classifier__kernel=rbf;, score=0.838 total time=  10.2s\n",
      "[CV 3/3] END classifier__C=0.5, classifier__gamma=auto, classifier__kernel=rbf;, score=0.000 total time=   5.7s\n",
      "[CV 2/3] END classifier__C=0.5, classifier__gamma=auto, classifier__kernel=rbf;, score=0.000 total time=   5.9s\n",
      "[CV 3/3] END classifier__C=0.5, classifier__gamma=scale, classifier__kernel=rbf;, score=0.804 total time=  11.5s\n",
      "[CV 2/3] END classifier__C=0.5, classifier__gamma=scale, classifier__kernel=rbf;, score=0.822 total time=  11.6s\n",
      "[CV 1/3] END classifier__C=0.5, classifier__gamma=auto, classifier__kernel=poly;, score=0.000 total time=   4.3s\n",
      "[CV 2/3] END classifier__C=0.5, classifier__gamma=auto, classifier__kernel=poly;, score=0.000 total time=   4.2s\n",
      "[CV 3/3] END classifier__C=0.5, classifier__gamma=auto, classifier__kernel=poly;, score=0.000 total time=   4.2s\n",
      "[CV 1/3] END classifier__C=0.5, classifier__gamma=auto, classifier__kernel=sigmoid;, score=0.000 total time=   3.2s\n",
      "[CV 2/3] END classifier__C=0.5, classifier__gamma=auto, classifier__kernel=sigmoid;, score=0.000 total time=   3.1s\n",
      "[CV 2/3] END classifier__C=0.5, classifier__gamma=scale, classifier__kernel=poly;, score=0.297 total time=  13.8s\n",
      "[CV 3/3] END classifier__C=0.5, classifier__gamma=scale, classifier__kernel=poly;, score=0.227 total time=  13.9s\n",
      "[CV 1/3] END classifier__C=0.5, classifier__gamma=scale, classifier__kernel=poly;, score=0.288 total time=  14.0s\n",
      "[CV 3/3] END classifier__C=0.5, classifier__gamma=auto, classifier__kernel=sigmoid;, score=0.000 total time=   3.9s\n",
      "[CV 1/3] END classifier__C=1, classifier__gamma=scale, classifier__kernel=linear;, score=0.958 total time=   4.4s\n",
      "[CV 2/3] END classifier__C=1, classifier__gamma=scale, classifier__kernel=linear;, score=0.932 total time=   4.6s\n",
      "[CV 3/3] END classifier__C=1, classifier__gamma=scale, classifier__kernel=linear;, score=0.946 total time=   4.6s\n",
      "[CV 1/3] END classifier__C=1, classifier__gamma=scale, classifier__kernel=sigmoid;, score=0.953 total time=   4.6s\n",
      "[CV 3/3] END classifier__C=1, classifier__gamma=scale, classifier__kernel=sigmoid;, score=0.935 total time=   4.6s\n",
      "[CV 2/3] END classifier__C=1, classifier__gamma=scale, classifier__kernel=sigmoid;, score=0.937 total time=   5.0s\n",
      "[CV 1/3] END classifier__C=1, classifier__gamma=auto, classifier__kernel=linear;, score=0.958 total time=   5.7s\n",
      "[CV 2/3] END classifier__C=1, classifier__gamma=auto, classifier__kernel=linear;, score=0.932 total time=   4.8s\n",
      "[CV 3/3] END classifier__C=1, classifier__gamma=auto, classifier__kernel=linear;, score=0.946 total time=   5.4s\n",
      "[CV 1/3] END classifier__C=1, classifier__gamma=auto, classifier__kernel=rbf;, score=0.000 total time=   4.1s\n",
      "[CV 2/3] END classifier__C=1, classifier__gamma=auto, classifier__kernel=rbf;, score=0.000 total time=   3.7s\n",
      "[CV 2/3] END classifier__C=1, classifier__gamma=scale, classifier__kernel=rbf;, score=0.901 total time=  10.9s\n",
      "[CV 3/3] END classifier__C=1, classifier__gamma=auto, classifier__kernel=rbf;, score=0.000 total time=   4.3s\n",
      "[CV 1/3] END classifier__C=1, classifier__gamma=scale, classifier__kernel=rbf;, score=0.938 total time=  11.9s\n",
      "[CV 3/3] END classifier__C=1, classifier__gamma=scale, classifier__kernel=rbf;, score=0.914 total time=  11.9s\n",
      "[CV 1/3] END classifier__C=1, classifier__gamma=auto, classifier__kernel=poly;, score=0.000 total time=   3.7s\n",
      "[CV 2/3] END classifier__C=1, classifier__gamma=auto, classifier__kernel=poly;, score=0.000 total time=   3.5s\n",
      "[CV 1/3] END classifier__C=1, classifier__gamma=scale, classifier__kernel=poly;, score=0.629 total time=  12.5s\n",
      "[CV 3/3] END classifier__C=1, classifier__gamma=auto, classifier__kernel=poly;, score=0.000 total time=   4.3s\n",
      "[CV 2/3] END classifier__C=1, classifier__gamma=auto, classifier__kernel=sigmoid;, score=0.000 total time=   3.4s\n",
      "[CV 3/3] END classifier__C=1, classifier__gamma=auto, classifier__kernel=sigmoid;, score=0.000 total time=   3.3s\n",
      "[CV 1/3] END classifier__C=1, classifier__gamma=auto, classifier__kernel=sigmoid;, score=0.000 total time=   4.1s\n",
      "[CV 3/3] END classifier__C=1, classifier__gamma=scale, classifier__kernel=poly;, score=0.587 total time=  13.5s\n",
      "[CV 1/3] END classifier__C=5, classifier__gamma=scale, classifier__kernel=linear;, score=0.969 total time=   4.0s\n",
      "[CV 2/3] END classifier__C=1, classifier__gamma=scale, classifier__kernel=poly;, score=0.622 total time=  14.6s\n",
      "[CV 3/3] END classifier__C=5, classifier__gamma=scale, classifier__kernel=linear;, score=0.952 total time=   4.7s\n",
      "[CV 2/3] END classifier__C=5, classifier__gamma=scale, classifier__kernel=linear;, score=0.946 total time=   4.8s\n",
      "[CV 1/3] END classifier__C=5, classifier__gamma=scale, classifier__kernel=sigmoid;, score=0.959 total time=   3.3s\n",
      "[CV 3/3] END classifier__C=5, classifier__gamma=scale, classifier__kernel=sigmoid;, score=0.950 total time=   2.9s\n",
      "[CV 2/3] END classifier__C=5, classifier__gamma=scale, classifier__kernel=sigmoid;, score=0.935 total time=   3.1s\n",
      "[CV 1/3] END classifier__C=5, classifier__gamma=auto, classifier__kernel=linear;, score=0.969 total time=   3.5s\n",
      "[CV 3/3] END classifier__C=5, classifier__gamma=auto, classifier__kernel=linear;, score=0.952 total time=   3.6s\n",
      "[CV 2/3] END classifier__C=5, classifier__gamma=auto, classifier__kernel=linear;, score=0.946 total time=   3.7s\n",
      "[CV 1/3] END classifier__C=5, classifier__gamma=auto, classifier__kernel=rbf;, score=0.000 total time=   4.2s\n",
      "[CV 2/3] END classifier__C=5, classifier__gamma=auto, classifier__kernel=rbf;, score=0.000 total time=   3.9s\n",
      "[CV 1/3] END classifier__C=5, classifier__gamma=auto, classifier__kernel=poly;, score=0.000 total time=   2.9s\n",
      "[CV 3/3] END classifier__C=5, classifier__gamma=auto, classifier__kernel=rbf;, score=0.000 total time=   4.5s\n",
      "[CV 2/3] END classifier__C=5, classifier__gamma=scale, classifier__kernel=rbf;, score=0.920 total time=  11.1s\n",
      "[CV 1/3] END classifier__C=5, classifier__gamma=scale, classifier__kernel=rbf;, score=0.944 total time=  11.3s\n",
      "[CV 2/3] END classifier__C=5, classifier__gamma=auto, classifier__kernel=poly;, score=0.000 total time=   3.5s\n",
      "[CV 3/3] END classifier__C=5, classifier__gamma=auto, classifier__kernel=poly;, score=0.000 total time=   3.4s\n",
      "[CV 3/3] END classifier__C=5, classifier__gamma=scale, classifier__kernel=rbf;, score=0.937 total time=  10.7s\n",
      "[CV 1/3] END classifier__C=5, classifier__gamma=scale, classifier__kernel=poly;, score=0.667 total time=  12.1s\n",
      "[CV 2/3] END classifier__C=5, classifier__gamma=auto, classifier__kernel=sigmoid;, score=0.000 total time=   3.9s\n",
      "[CV 3/3] END classifier__C=5, classifier__gamma=scale, classifier__kernel=poly;, score=0.651 total time=  12.0s\n",
      "[CV 2/3] END classifier__C=5, classifier__gamma=scale, classifier__kernel=poly;, score=0.669 total time=  12.4s\n",
      "[CV 3/3] END classifier__C=5, classifier__gamma=auto, classifier__kernel=sigmoid;, score=0.000 total time=   4.5s\n",
      "[CV 1/3] END classifier__C=5, classifier__gamma=auto, classifier__kernel=sigmoid;, score=0.000 total time=   4.7s\n",
      "[CV 1/3] END classifier__C=10, classifier__gamma=scale, classifier__kernel=linear;, score=0.966 total time=   4.5s\n",
      "[CV 2/3] END classifier__C=10, classifier__gamma=scale, classifier__kernel=linear;, score=0.949 total time=   4.0s\n",
      "[CV 3/3] END classifier__C=10, classifier__gamma=scale, classifier__kernel=linear;, score=0.952 total time=   4.1s\n",
      "[CV 1/3] END classifier__C=10, classifier__gamma=scale, classifier__kernel=sigmoid;, score=0.938 total time=   3.2s\n",
      "[CV 2/3] END classifier__C=10, classifier__gamma=scale, classifier__kernel=sigmoid;, score=0.923 total time=   3.0s\n",
      "[CV 3/3] END classifier__C=10, classifier__gamma=scale, classifier__kernel=sigmoid;, score=0.942 total time=   4.6s\n",
      "[CV 2/3] END classifier__C=10, classifier__gamma=auto, classifier__kernel=linear;, score=0.949 total time=   5.0s\n",
      "[CV 3/3] END classifier__C=10, classifier__gamma=auto, classifier__kernel=linear;, score=0.952 total time=   5.2s\n",
      "[CV 1/3] END classifier__C=10, classifier__gamma=auto, classifier__kernel=linear;, score=0.966 total time=   5.7s\n",
      "[CV 2/3] END classifier__C=10, classifier__gamma=auto, classifier__kernel=rbf;, score=0.000 total time=   5.7s\n",
      "[CV 1/3] END classifier__C=10, classifier__gamma=auto, classifier__kernel=poly;, score=0.000 total time=   3.1s\n",
      "[CV 1/3] END classifier__C=10, classifier__gamma=auto, classifier__kernel=rbf;, score=0.000 total time=   6.1s\n",
      "[CV 2/3] END classifier__C=10, classifier__gamma=auto, classifier__kernel=poly;, score=0.000 total time=   3.1s\n",
      "[CV 3/3] END classifier__C=10, classifier__gamma=auto, classifier__kernel=rbf;, score=0.000 total time=   4.8s\n",
      "[CV 3/3] END classifier__C=10, classifier__gamma=scale, classifier__kernel=rbf;, score=0.937 total time=  12.3s\n",
      "[CV 2/3] END classifier__C=10, classifier__gamma=scale, classifier__kernel=rbf;, score=0.920 total time=  12.5s\n",
      "[CV 1/3] END classifier__C=10, classifier__gamma=scale, classifier__kernel=rbf;, score=0.944 total time=  12.6s\n",
      "[CV 3/3] END classifier__C=10, classifier__gamma=auto, classifier__kernel=poly;, score=0.000 total time=   3.7s\n",
      "[CV 2/3] END classifier__C=10, classifier__gamma=scale, classifier__kernel=poly;, score=0.669 total time=  13.2s\n",
      "[CV 3/3] END classifier__C=10, classifier__gamma=scale, classifier__kernel=poly;, score=0.651 total time=  12.9s\n",
      "[CV 1/3] END classifier__C=10, classifier__gamma=scale, classifier__kernel=poly;, score=0.658 total time=  13.2s\n",
      "[CV 2/3] END classifier__C=10, classifier__gamma=auto, classifier__kernel=sigmoid;, score=0.000 total time=   3.7s\n",
      "[CV 1/3] END classifier__C=10, classifier__gamma=auto, classifier__kernel=sigmoid;, score=0.000 total time=   3.8s\n",
      "[CV 3/3] END classifier__C=10, classifier__gamma=auto, classifier__kernel=sigmoid;, score=0.000 total time=   3.6s\n",
      "Best parameters: {'classifier__C': 10, 'classifier__gamma': 'scale', 'classifier__kernel': 'linear'}\n",
      "Best score: 0.955485802157893\n"
     ]
    }
   ],
   "source": [
    "param_grid = {\n",
    "    'classifier__C': [0.5 ,1, 5, 10],\n",
    "    'classifier__kernel': ['linear', 'rbf', 'poly', 'sigmoid'],\n",
    "    'classifier__gamma': ['scale', 'auto']\n",
    "}\n",
    "\n",
    "svm_classifier = GridSearchCV(pipeline_svm, param_grid, cv=3, scoring='f1',verbose=3, n_jobs=-1)\n",
    "svm_classifier.fit(msg_train['message'], msg_train['label'])\n",
    "\n",
    "print(\"Best parameters:\", svm_classifier.best_params_)\n",
    "print(\"Best score:\", svm_classifier.best_score_)"
   ]
  },
  {
   "cell_type": "markdown",
   "metadata": {},
   "source": [
    "## Performance on Train Data"
   ]
  },
  {
   "cell_type": "markdown",
   "metadata": {},
   "source": [
    "### Accuracy"
   ]
  },
  {
   "cell_type": "code",
   "execution_count": 62,
   "metadata": {},
   "outputs": [
    {
     "data": {
      "text/plain": [
       "1.0"
      ]
     },
     "execution_count": 62,
     "metadata": {},
     "output_type": "execute_result"
    }
   ],
   "source": [
    "predictions = svm_classifier.predict(msg_train['message'])\n",
    "accuracy_score(msg_train['label'], predictions)"
   ]
  },
  {
   "cell_type": "markdown",
   "metadata": {},
   "source": [
    "### Precision"
   ]
  },
  {
   "cell_type": "code",
   "execution_count": 63,
   "metadata": {},
   "outputs": [
    {
     "data": {
      "text/plain": [
       "1.0"
      ]
     },
     "execution_count": 63,
     "metadata": {},
     "output_type": "execute_result"
    }
   ],
   "source": [
    "precision_score(msg_train['label'], predictions)"
   ]
  },
  {
   "cell_type": "markdown",
   "metadata": {},
   "source": [
    "### Recall"
   ]
  },
  {
   "cell_type": "code",
   "execution_count": 64,
   "metadata": {},
   "outputs": [
    {
     "data": {
      "text/plain": [
       "1.0"
      ]
     },
     "execution_count": 64,
     "metadata": {},
     "output_type": "execute_result"
    }
   ],
   "source": [
    "recall_score(msg_train['label'], predictions)"
   ]
  },
  {
   "cell_type": "markdown",
   "metadata": {},
   "source": [
    "### F1 Score"
   ]
  },
  {
   "cell_type": "code",
   "execution_count": 65,
   "metadata": {},
   "outputs": [
    {
     "data": {
      "text/plain": [
       "1.0"
      ]
     },
     "execution_count": 65,
     "metadata": {},
     "output_type": "execute_result"
    }
   ],
   "source": [
    "f1_score(msg_train['label'], predictions, pos_label=1)"
   ]
  },
  {
   "cell_type": "markdown",
   "metadata": {},
   "source": [
    "### Precision-Recall Curve"
   ]
  },
  {
   "cell_type": "code",
   "execution_count": 66,
   "metadata": {},
   "outputs": [
    {
     "data": {
      "image/png": "[encoded data removed]",
      "text/plain": [
       "<Figure size 640x480 with 1 Axes>"
      ]
     },
     "metadata": {},
     "output_type": "display_data"
    }
   ],
   "source": [
    "p, r, t = precision_recall_curve(msg_train['label'], svm_classifier.predict_proba(msg_train['message'])[:,1],pos_label=1)\n",
    "# plot the curve\n",
    "plt.plot(r, p, label='Precision-Recall Curve')\n",
    "plt.xlabel('Recall')\n",
    "plt.ylabel('Precision')\n",
    "plt.title('Precision-Recall Curve')\n",
    "plt.legend()\n",
    "plt.show()"
   ]
  },
  {
   "cell_type": "code",
   "execution_count": 67,
   "metadata": {},
   "outputs": [
    {
     "name": "stdout",
     "output_type": "stream",
     "text": [
      "Area under the Precision-Recall Curve: 1.0\n"
     ]
    }
   ],
   "source": [
    "auc_pr = auc(r,p)\n",
    "# print the area under the curve\n",
    "print('Area under the Precision-Recall Curve:', auc_pr)"
   ]
  },
  {
   "cell_type": "markdown",
   "metadata": {},
   "source": [
    "### Confusion Matrix"
   ]
  },
  {
   "cell_type": "code",
   "execution_count": 68,
   "metadata": {},
   "outputs": [
    {
     "data": {
      "image/png": "[encoded data removed]",
      "text/plain": [
       "<Figure size 640x480 with 2 Axes>"
      ]
     },
     "metadata": {},
     "output_type": "display_data"
    }
   ],
   "source": [
    "cm = confusion_matrix(msg_train['label'], predictions)\n",
    "# Plot the confusion matrix\n",
    "sns.heatmap(cm, annot=True, cmap='Blues', fmt='d', xticklabels=['ham', 'spam'], yticklabels=['ham','spam'])\n",
    "plt.title('Confusion Matrix for Train data')\n",
    "plt.xlabel('Predicted Labels')\n",
    "plt.ylabel('True Labels')\n",
    "plt.show()"
   ]
  },
  {
   "cell_type": "markdown",
   "metadata": {},
   "source": [
    "### Classification Report"
   ]
  },
  {
   "cell_type": "code",
   "execution_count": 69,
   "metadata": {},
   "outputs": [
    {
     "name": "stdout",
     "output_type": "stream",
     "text": [
      "              precision    recall  f1-score   support\n",
      "\n",
      "           0     1.0000    1.0000    1.0000      3873\n",
      "           1     1.0000    1.0000    1.0000       586\n",
      "\n",
      "    accuracy                         1.0000      4459\n",
      "   macro avg     1.0000    1.0000    1.0000      4459\n",
      "weighted avg     1.0000    1.0000    1.0000      4459\n",
      "\n"
     ]
    }
   ],
   "source": [
    "print(classification_report(msg_train['label'], predictions, digits=4))"
   ]
  },
  {
   "cell_type": "markdown",
   "metadata": {},
   "source": [
    "## Performance on Test Data"
   ]
  },
  {
   "cell_type": "markdown",
   "metadata": {},
   "source": [
    "### Accuracy"
   ]
  },
  {
   "cell_type": "code",
   "execution_count": 70,
   "metadata": {},
   "outputs": [
    {
     "data": {
      "text/plain": [
       "0.9865470852017937"
      ]
     },
     "execution_count": 70,
     "metadata": {},
     "output_type": "execute_result"
    }
   ],
   "source": [
    "predictions = svm_classifier.predict(msg_test['message'])\n",
    "accuracy = accuracy_score(msg_test['label'], predictions)\n",
    "accuracy"
   ]
  },
  {
   "cell_type": "code",
   "execution_count": 71,
   "metadata": {},
   "outputs": [],
   "source": [
    "acc.append(accuracy)"
   ]
  },
  {
   "cell_type": "markdown",
   "metadata": {},
   "source": [
    "### Precision"
   ]
  },
  {
   "cell_type": "code",
   "execution_count": 72,
   "metadata": {},
   "outputs": [
    {
     "data": {
      "text/plain": [
       "0.9802631578947368"
      ]
     },
     "execution_count": 72,
     "metadata": {},
     "output_type": "execute_result"
    }
   ],
   "source": [
    "p = precision_score(msg_test['label'], predictions)\n",
    "p"
   ]
  },
  {
   "cell_type": "code",
   "execution_count": 73,
   "metadata": {},
   "outputs": [],
   "source": [
    "precision.append(p)"
   ]
  },
  {
   "cell_type": "markdown",
   "metadata": {},
   "source": [
    "### Recall"
   ]
  },
  {
   "cell_type": "code",
   "execution_count": 74,
   "metadata": {},
   "outputs": [
    {
     "data": {
      "text/plain": [
       "0.9254658385093167"
      ]
     },
     "execution_count": 74,
     "metadata": {},
     "output_type": "execute_result"
    }
   ],
   "source": [
    "r = recall_score(msg_test['label'], predictions)\n",
    "r"
   ]
  },
  {
   "cell_type": "code",
   "execution_count": 75,
   "metadata": {},
   "outputs": [],
   "source": [
    "recall.append(r)"
   ]
  },
  {
   "cell_type": "markdown",
   "metadata": {},
   "source": [
    "### F1 Score"
   ]
  },
  {
   "cell_type": "code",
   "execution_count": 76,
   "metadata": {},
   "outputs": [
    {
     "data": {
      "text/plain": [
       "0.952076677316294"
      ]
     },
     "execution_count": 76,
     "metadata": {},
     "output_type": "execute_result"
    }
   ],
   "source": [
    "f = f1_score(msg_test['label'], predictions, pos_label=1)\n",
    "f"
   ]
  },
  {
   "cell_type": "code",
   "execution_count": 77,
   "metadata": {},
   "outputs": [],
   "source": [
    "f1.append(f)"
   ]
  },
  {
   "cell_type": "markdown",
   "metadata": {},
   "source": [
    "### Precision-Recall Curve"
   ]
  },
  {
   "cell_type": "code",
   "execution_count": 78,
   "metadata": {},
   "outputs": [
    {
     "data": {
      "image/png": "[encoded data removed]",
      "text/plain": [
       "<Figure size 640x480 with 1 Axes>"
      ]
     },
     "metadata": {},
     "output_type": "display_data"
    }
   ],
   "source": [
    "p, r, t = precision_recall_curve(msg_test['label'], LR_Classifier.predict_proba(msg_test['message'])[:,1],pos_label=1)\n",
    "# plot the curve\n",
    "plt.plot(r, p, label='Precision-Recall Curve')\n",
    "plt.xlabel('Recall')\n",
    "plt.ylabel('Precision')\n",
    "plt.title('Precision-Recall Curve')\n",
    "plt.legend()\n",
    "plt.show()"
   ]
  },
  {
   "cell_type": "code",
   "execution_count": 79,
   "metadata": {},
   "outputs": [
    {
     "name": "stdout",
     "output_type": "stream",
     "text": [
      "Area under the Precision-Recall Curve: 0.9834448267450075\n"
     ]
    }
   ],
   "source": [
    "auc_pr = auc(r,p)\n",
    "# print the area under the curve\n",
    "print('Area under the Precision-Recall Curve:', auc_pr)"
   ]
  },
  {
   "cell_type": "code",
   "execution_count": 80,
   "metadata": {},
   "outputs": [],
   "source": [
    "pr_auc.append(auc_pr)"
   ]
  },
  {
   "cell_type": "markdown",
   "metadata": {},
   "source": [
    "### Confusion Matrix"
   ]
  },
  {
   "cell_type": "code",
   "execution_count": 81,
   "metadata": {},
   "outputs": [
    {
     "data": {
      "image/png": "[encoded data removed]",
      "text/plain": [
       "<Figure size 640x480 with 2 Axes>"
      ]
     },
     "metadata": {},
     "output_type": "display_data"
    }
   ],
   "source": [
    "cm = confusion_matrix(msg_test['label'], predictions)\n",
    "# Plot the confusion matrix\n",
    "sns.heatmap(cm, annot=True, cmap='Blues', fmt='d', xticklabels=['ham', 'spam'], yticklabels=['ham','spam'])\n",
    "plt.title('Confusion Matrix for Test data')\n",
    "plt.xlabel('Predicted Labels')\n",
    "plt.ylabel('True Labels')\n",
    "plt.show()"
   ]
  },
  {
   "cell_type": "markdown",
   "metadata": {},
   "source": [
    "### Classification Report"
   ]
  },
  {
   "cell_type": "code",
   "execution_count": 82,
   "metadata": {},
   "outputs": [
    {
     "name": "stdout",
     "output_type": "stream",
     "text": [
      "              precision    recall  f1-score   support\n",
      "\n",
      "           0     0.9875    0.9969    0.9922       954\n",
      "           1     0.9803    0.9255    0.9521       161\n",
      "\n",
      "    accuracy                         0.9865      1115\n",
      "   macro avg     0.9839    0.9612    0.9721      1115\n",
      "weighted avg     0.9865    0.9865    0.9864      1115\n",
      "\n"
     ]
    }
   ],
   "source": [
    "print(classification_report(msg_test['label'], predictions,digits=4))"
   ]
  },
  {
   "cell_type": "markdown",
   "metadata": {},
   "source": [
    "# Benchmarking the performance"
   ]
  },
  {
   "cell_type": "code",
   "execution_count": 83,
   "metadata": {},
   "outputs": [
    {
     "data": {
      "text/html": [
       "<div>\n",
       "<style scoped>\n",
       "    .dataframe tbody tr th:only-of-type {\n",
       "        vertical-align: middle;\n",
       "    }\n",
       "\n",
       "    .dataframe tbody tr th {\n",
       "        vertical-align: top;\n",
       "    }\n",
       "\n",
       "    .dataframe thead th {\n",
       "        text-align: right;\n",
       "    }\n",
       "</style>\n",
       "<table border=\"1\" class=\"dataframe\">\n",
       "  <thead>\n",
       "    <tr style=\"text-align: right;\">\n",
       "      <th></th>\n",
       "      <th>Model</th>\n",
       "      <th>F1 Score</th>\n",
       "      <th>Accuracy</th>\n",
       "      <th>Precision</th>\n",
       "      <th>Recall</th>\n",
       "      <th>AUC-PR</th>\n",
       "    </tr>\n",
       "  </thead>\n",
       "  <tbody>\n",
       "    <tr>\n",
       "      <th>0</th>\n",
       "      <td>Naive Bayes</td>\n",
       "      <td>0.951140</td>\n",
       "      <td>0.986547</td>\n",
       "      <td>1.000000</td>\n",
       "      <td>0.906832</td>\n",
       "      <td>0.982719</td>\n",
       "    </tr>\n",
       "    <tr>\n",
       "      <th>1</th>\n",
       "      <td>Logistic Regression</td>\n",
       "      <td>0.950000</td>\n",
       "      <td>0.985650</td>\n",
       "      <td>0.955975</td>\n",
       "      <td>0.944099</td>\n",
       "      <td>0.983445</td>\n",
       "    </tr>\n",
       "    <tr>\n",
       "      <th>2</th>\n",
       "      <td>Support Vector Machines</td>\n",
       "      <td>0.952077</td>\n",
       "      <td>0.986547</td>\n",
       "      <td>0.980263</td>\n",
       "      <td>0.925466</td>\n",
       "      <td>0.983445</td>\n",
       "    </tr>\n",
       "  </tbody>\n",
       "</table>\n",
       "</div>"
      ],
      "text/plain": [
       "                     Model  F1 Score  Accuracy  Precision    Recall    AUC-PR\n",
       "0              Naive Bayes  0.951140  0.986547   1.000000  0.906832  0.982719\n",
       "1      Logistic Regression  0.950000  0.985650   0.955975  0.944099  0.983445\n",
       "2  Support Vector Machines  0.952077  0.986547   0.980263  0.925466  0.983445"
      ]
     },
     "execution_count": 83,
     "metadata": {},
     "output_type": "execute_result"
    }
   ],
   "source": [
    "pd.DataFrame({'Model':models, 'F1 Score':f1, 'Accuracy':acc, 'Precision':precision, 'Recall':recall, 'AUC-PR':pr_auc})"
   ]
  },
  {
   "cell_type": "markdown",
   "metadata": {},
   "source": [
    "# Best Model\n",
    "\n",
    "We consider the following:\n",
    "- Excessive spam can negatively impact user experience.\n",
    "- Misclassifying ham as spam is more harmful than missing some spam.\n",
    "\n",
    "Based on this, we prioritize high precision (to avoid misclassifying ham as spam) over high recall (since capturing all spam is less critical).\n",
    "\n",
    "Since all models achieve a recall greater than 0.90 (meaning they are all fairly good at detecting spam), and Naive Bayes has the highest precision, it is the best choice for spam/ham classification."
   ]
  }
 ],
 "metadata": {
  "kernelspec": {
   "display_name": "AML",
   "language": "python",
   "name": "python3"
  },
  "language_info": {
   "codemirror_mode": {
    "name": "ipython",
    "version": 3
   },
   "file_extension": ".py",
   "mimetype": "text/x-python",
   "name": "python",
   "nbconvert_exporter": "python",
   "pygments_lexer": "ipython3",
   "version": "3.12.3"
  }
 },
 "nbformat": 4,
 "nbformat_minor": 2
}
