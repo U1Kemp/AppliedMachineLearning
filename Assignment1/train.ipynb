{
 "cells": [
  {
   "cell_type": "markdown",
   "metadata": {},
   "source": [
    "# Importing libraries"
   ]
  },
  {
   "cell_type": "code",
   "execution_count": 123,
   "metadata": {},
   "outputs": [],
   "source": [
    "%matplotlib inline\n",
    "import matplotlib.pyplot as plt\n",
    "import seaborn as sns\n",
    "import pandas as pd\n",
    "from sklearn.feature_extraction.text import CountVectorizer, TfidfTransformer, TfidfVectorizer\n",
    "from sklearn.naive_bayes import MultinomialNB\n",
    "from sklearn.svm import SVC\n",
    "from sklearn.linear_model import LogisticRegression\n",
    "from sklearn.metrics import classification_report, f1_score, accuracy_score, confusion_matrix\n",
    "from sklearn.pipeline import Pipeline\n",
    "from sklearn.model_selection import GridSearchCV, cross_val_score"
   ]
  },
  {
   "cell_type": "markdown",
   "metadata": {},
   "source": [
    "# Loading train and test data"
   ]
  },
  {
   "cell_type": "code",
   "execution_count": 124,
   "metadata": {},
   "outputs": [
    {
     "data": {
      "text/html": [
       "<div>\n",
       "<style scoped>\n",
       "    .dataframe tbody tr th:only-of-type {\n",
       "        vertical-align: middle;\n",
       "    }\n",
       "\n",
       "    .dataframe tbody tr th {\n",
       "        vertical-align: top;\n",
       "    }\n",
       "\n",
       "    .dataframe thead th {\n",
       "        text-align: right;\n",
       "    }\n",
       "</style>\n",
       "<table border=\"1\" class=\"dataframe\">\n",
       "  <thead>\n",
       "    <tr style=\"text-align: right;\">\n",
       "      <th></th>\n",
       "      <th>label</th>\n",
       "      <th>message</th>\n",
       "      <th>length</th>\n",
       "    </tr>\n",
       "  </thead>\n",
       "  <tbody>\n",
       "    <tr>\n",
       "      <th>0</th>\n",
       "      <td>spam</td>\n",
       "      <td>['sexy', 'st', 'george', 'day', 'pic', 'jordan...</td>\n",
       "      <td>16</td>\n",
       "    </tr>\n",
       "    <tr>\n",
       "      <th>1</th>\n",
       "      <td>ham</td>\n",
       "      <td>['armand', 'say', 'get', 'as', 'epsilon']</td>\n",
       "      <td>5</td>\n",
       "    </tr>\n",
       "    <tr>\n",
       "      <th>2</th>\n",
       "      <td>ham</td>\n",
       "      <td>['lol', 'i', 'hot', 'air', 'balloon']</td>\n",
       "      <td>5</td>\n",
       "    </tr>\n",
       "    <tr>\n",
       "      <th>3</th>\n",
       "      <td>ham</td>\n",
       "      <td>['you', 'know', 'wot', 'people', 'wear', 't', ...</td>\n",
       "      <td>14</td>\n",
       "    </tr>\n",
       "    <tr>\n",
       "      <th>4</th>\n",
       "      <td>ham</td>\n",
       "      <td>['good', 'morning', 'love', 'i', 'go', 'sleep'...</td>\n",
       "      <td>21</td>\n",
       "    </tr>\n",
       "    <tr>\n",
       "      <th>...</th>\n",
       "      <td>...</td>\n",
       "      <td>...</td>\n",
       "      <td>...</td>\n",
       "    </tr>\n",
       "    <tr>\n",
       "      <th>4454</th>\n",
       "      <td>ham</td>\n",
       "      <td>['hi', 'wlcome', 'back', 'wonder', 'got', 'eat...</td>\n",
       "      <td>10</td>\n",
       "    </tr>\n",
       "    <tr>\n",
       "      <th>4455</th>\n",
       "      <td>spam</td>\n",
       "      <td>['ree', 'entry', 'weekly', 'comp', 'chance', '...</td>\n",
       "      <td>18</td>\n",
       "    </tr>\n",
       "    <tr>\n",
       "      <th>4456</th>\n",
       "      <td>ham</td>\n",
       "      <td>['oh', 'fuck', 'juswoke', 'up', 'in', 'a', 'be...</td>\n",
       "      <td>22</td>\n",
       "    </tr>\n",
       "    <tr>\n",
       "      <th>4457</th>\n",
       "      <td>ham</td>\n",
       "      <td>['not', 'much', 'no', 'fights', 'it', 'was', '...</td>\n",
       "      <td>9</td>\n",
       "    </tr>\n",
       "    <tr>\n",
       "      <th>4458</th>\n",
       "      <td>ham</td>\n",
       "      <td>['did', 'say', 'somebody', 'named', 'tampa']</td>\n",
       "      <td>5</td>\n",
       "    </tr>\n",
       "  </tbody>\n",
       "</table>\n",
       "<p>4459 rows × 3 columns</p>\n",
       "</div>"
      ],
      "text/plain": [
       "     label                                            message  length\n",
       "0     spam  ['sexy', 'st', 'george', 'day', 'pic', 'jordan...      16\n",
       "1      ham          ['armand', 'say', 'get', 'as', 'epsilon']       5\n",
       "2      ham              ['lol', 'i', 'hot', 'air', 'balloon']       5\n",
       "3      ham  ['you', 'know', 'wot', 'people', 'wear', 't', ...      14\n",
       "4      ham  ['good', 'morning', 'love', 'i', 'go', 'sleep'...      21\n",
       "...    ...                                                ...     ...\n",
       "4454   ham  ['hi', 'wlcome', 'back', 'wonder', 'got', 'eat...      10\n",
       "4455  spam  ['ree', 'entry', 'weekly', 'comp', 'chance', '...      18\n",
       "4456   ham  ['oh', 'fuck', 'juswoke', 'up', 'in', 'a', 'be...      22\n",
       "4457   ham  ['not', 'much', 'no', 'fights', 'it', 'was', '...       9\n",
       "4458   ham       ['did', 'say', 'somebody', 'named', 'tampa']       5\n",
       "\n",
       "[4459 rows x 3 columns]"
      ]
     },
     "execution_count": 124,
     "metadata": {},
     "output_type": "execute_result"
    }
   ],
   "source": [
    "msg_train = pd.read_csv('train.csv')\n",
    "msg_train"
   ]
  },
  {
   "cell_type": "code",
   "execution_count": 125,
   "metadata": {},
   "outputs": [
    {
     "data": {
      "text/html": [
       "<div>\n",
       "<style scoped>\n",
       "    .dataframe tbody tr th:only-of-type {\n",
       "        vertical-align: middle;\n",
       "    }\n",
       "\n",
       "    .dataframe tbody tr th {\n",
       "        vertical-align: top;\n",
       "    }\n",
       "\n",
       "    .dataframe thead th {\n",
       "        text-align: right;\n",
       "    }\n",
       "</style>\n",
       "<table border=\"1\" class=\"dataframe\">\n",
       "  <thead>\n",
       "    <tr style=\"text-align: right;\">\n",
       "      <th></th>\n",
       "      <th>label</th>\n",
       "      <th>message</th>\n",
       "      <th>length</th>\n",
       "    </tr>\n",
       "  </thead>\n",
       "  <tbody>\n",
       "    <tr>\n",
       "      <th>0</th>\n",
       "      <td>ham</td>\n",
       "      <td>['you', 'still', 'coming', 'tonight']</td>\n",
       "      <td>4</td>\n",
       "    </tr>\n",
       "    <tr>\n",
       "      <th>1</th>\n",
       "      <td>ham</td>\n",
       "      <td>['hey', 'babe', 'far', 'spk', 'at', 'da', 'mo'...</td>\n",
       "      <td>30</td>\n",
       "    </tr>\n",
       "    <tr>\n",
       "      <th>2</th>\n",
       "      <td>ham</td>\n",
       "      <td>['ya', 'even', 'cooky', 'jelly']</td>\n",
       "      <td>4</td>\n",
       "    </tr>\n",
       "    <tr>\n",
       "      <th>3</th>\n",
       "      <td>ham</td>\n",
       "      <td>['sorry', 'gone', 'place', 'tomorrow', 'really...</td>\n",
       "      <td>6</td>\n",
       "    </tr>\n",
       "    <tr>\n",
       "      <th>4</th>\n",
       "      <td>ham</td>\n",
       "      <td>['when', 'going', 'ride', 'bike']</td>\n",
       "      <td>4</td>\n",
       "    </tr>\n",
       "    <tr>\n",
       "      <th>...</th>\n",
       "      <td>...</td>\n",
       "      <td>...</td>\n",
       "      <td>...</td>\n",
       "    </tr>\n",
       "    <tr>\n",
       "      <th>1110</th>\n",
       "      <td>ham</td>\n",
       "      <td>['my', 'supervisor', 'find', 'one', 'lor', 'th...</td>\n",
       "      <td>15</td>\n",
       "    </tr>\n",
       "    <tr>\n",
       "      <th>1111</th>\n",
       "      <td>spam</td>\n",
       "      <td>['bored', 'housewife', 'chat', 'n', 'date', 'r...</td>\n",
       "      <td>7</td>\n",
       "    </tr>\n",
       "    <tr>\n",
       "      <th>1112</th>\n",
       "      <td>ham</td>\n",
       "      <td>['rose', 'red', 'red', 'blood', 'blood', 'hear...</td>\n",
       "      <td>36</td>\n",
       "    </tr>\n",
       "    <tr>\n",
       "      <th>1113</th>\n",
       "      <td>ham</td>\n",
       "      <td>['also', 'remember', 'bead', 'come', 'ever']</td>\n",
       "      <td>5</td>\n",
       "    </tr>\n",
       "    <tr>\n",
       "      <th>1114</th>\n",
       "      <td>spam</td>\n",
       "      <td>['hey', 'boys', 'want', 'hot', 'xxx', 'pic', '...</td>\n",
       "      <td>20</td>\n",
       "    </tr>\n",
       "  </tbody>\n",
       "</table>\n",
       "<p>1115 rows × 3 columns</p>\n",
       "</div>"
      ],
      "text/plain": [
       "     label                                            message  length\n",
       "0      ham              ['you', 'still', 'coming', 'tonight']       4\n",
       "1      ham  ['hey', 'babe', 'far', 'spk', 'at', 'da', 'mo'...      30\n",
       "2      ham                   ['ya', 'even', 'cooky', 'jelly']       4\n",
       "3      ham  ['sorry', 'gone', 'place', 'tomorrow', 'really...       6\n",
       "4      ham                  ['when', 'going', 'ride', 'bike']       4\n",
       "...    ...                                                ...     ...\n",
       "1110   ham  ['my', 'supervisor', 'find', 'one', 'lor', 'th...      15\n",
       "1111  spam  ['bored', 'housewife', 'chat', 'n', 'date', 'r...       7\n",
       "1112   ham  ['rose', 'red', 'red', 'blood', 'blood', 'hear...      36\n",
       "1113   ham       ['also', 'remember', 'bead', 'come', 'ever']       5\n",
       "1114  spam  ['hey', 'boys', 'want', 'hot', 'xxx', 'pic', '...      20\n",
       "\n",
       "[1115 rows x 3 columns]"
      ]
     },
     "execution_count": 125,
     "metadata": {},
     "output_type": "execute_result"
    }
   ],
   "source": [
    "msg_test = pd.read_csv('test.csv')\n",
    "msg_test"
   ]
  },
  {
   "cell_type": "code",
   "execution_count": 126,
   "metadata": {},
   "outputs": [],
   "source": [
    "models, f1 = ['Naive Bayes', 'Logistic Regression', 'Support Vector Machines'], []"
   ]
  },
  {
   "cell_type": "markdown",
   "metadata": {},
   "source": [
    "# 1. Naive Bayes Classifier"
   ]
  },
  {
   "cell_type": "code",
   "execution_count": 127,
   "metadata": {},
   "outputs": [],
   "source": [
    "pipeline_nb = Pipeline([\n",
    "    ('bow', CountVectorizer()),  # strings to token integer counts\n",
    "    ('tfidf', TfidfTransformer()),  # integer counts to weighted TF-IDF scores\n",
    "    ('classifier', MultinomialNB()),  # train on TF-IDF vectors w/ Naive Bayes classifier\n",
    "])"
   ]
  },
  {
   "cell_type": "code",
   "execution_count": 128,
   "metadata": {},
   "outputs": [
    {
     "data": {
      "text/plain": [
       "array([0.95515695, 0.97309417, 0.9573991 , 0.97309417, 0.96412556,\n",
       "       0.96860987, 0.94843049, 0.97309417, 0.95515695, 0.9505618 ])"
      ]
     },
     "execution_count": 128,
     "metadata": {},
     "output_type": "execute_result"
    }
   ],
   "source": [
    "scores = cross_val_score(pipeline_nb,  # steps to convert raw messages into models\n",
    "                         msg_train['message'],  # training data\n",
    "                         msg_train['label'],  # training labels\n",
    "                         cv=10,  # split data randomly into 10 parts: 9 for training, 1 for scoring\n",
    "                         scoring='accuracy',  # which scoring metric?\n",
    "                         n_jobs=-1,  # -1 = use all cores = faster\n",
    "                         )\n",
    "scores"
   ]
  },
  {
   "cell_type": "code",
   "execution_count": 129,
   "metadata": {},
   "outputs": [
    {
     "data": {
      "text/plain": [
       "(np.float64(0.9618723232730387), np.float64(0.009203662586574195))"
      ]
     },
     "execution_count": 129,
     "metadata": {},
     "output_type": "execute_result"
    }
   ],
   "source": [
    "scores.mean(), scores.std()"
   ]
  },
  {
   "cell_type": "markdown",
   "metadata": {},
   "source": [
    "## Fitting the model"
   ]
  },
  {
   "cell_type": "code",
   "execution_count": 130,
   "metadata": {},
   "outputs": [
    {
     "data": {
      "text/html": [
       "<style>#sk-container-id-2 {\n",
       "  /* Definition of color scheme common for light and dark mode */\n",
       "  --sklearn-color-text: #000;\n",
       "  --sklearn-color-text-muted: #666;\n",
       "  --sklearn-color-line: gray;\n",
       "  /* Definition of color scheme for unfitted estimators */\n",
       "  --sklearn-color-unfitted-level-0: #fff5e6;\n",
       "  --sklearn-color-unfitted-level-1: #f6e4d2;\n",
       "  --sklearn-color-unfitted-level-2: #ffe0b3;\n",
       "  --sklearn-color-unfitted-level-3: chocolate;\n",
       "  /* Definition of color scheme for fitted estimators */\n",
       "  --sklearn-color-fitted-level-0: #f0f8ff;\n",
       "  --sklearn-color-fitted-level-1: #d4ebff;\n",
       "  --sklearn-color-fitted-level-2: #b3dbfd;\n",
       "  --sklearn-color-fitted-level-3: cornflowerblue;\n",
       "\n",
       "  /* Specific color for light theme */\n",
       "  --sklearn-color-text-on-default-background: var(--sg-text-color, var(--theme-code-foreground, var(--jp-content-font-color1, black)));\n",
       "  --sklearn-color-background: var(--sg-background-color, var(--theme-background, var(--jp-layout-color0, white)));\n",
       "  --sklearn-color-border-box: var(--sg-text-color, var(--theme-code-foreground, var(--jp-content-font-color1, black)));\n",
       "  --sklearn-color-icon: #696969;\n",
       "\n",
       "  @media (prefers-color-scheme: dark) {\n",
       "    /* Redefinition of color scheme for dark theme */\n",
       "    --sklearn-color-text-on-default-background: var(--sg-text-color, var(--theme-code-foreground, var(--jp-content-font-color1, white)));\n",
       "    --sklearn-color-background: var(--sg-background-color, var(--theme-background, var(--jp-layout-color0, #111)));\n",
       "    --sklearn-color-border-box: var(--sg-text-color, var(--theme-code-foreground, var(--jp-content-font-color1, white)));\n",
       "    --sklearn-color-icon: #878787;\n",
       "  }\n",
       "}\n",
       "\n",
       "#sk-container-id-2 {\n",
       "  color: var(--sklearn-color-text);\n",
       "}\n",
       "\n",
       "#sk-container-id-2 pre {\n",
       "  padding: 0;\n",
       "}\n",
       "\n",
       "#sk-container-id-2 input.sk-hidden--visually {\n",
       "  border: 0;\n",
       "  clip: rect(1px 1px 1px 1px);\n",
       "  clip: rect(1px, 1px, 1px, 1px);\n",
       "  height: 1px;\n",
       "  margin: -1px;\n",
       "  overflow: hidden;\n",
       "  padding: 0;\n",
       "  position: absolute;\n",
       "  width: 1px;\n",
       "}\n",
       "\n",
       "#sk-container-id-2 div.sk-dashed-wrapped {\n",
       "  border: 1px dashed var(--sklearn-color-line);\n",
       "  margin: 0 0.4em 0.5em 0.4em;\n",
       "  box-sizing: border-box;\n",
       "  padding-bottom: 0.4em;\n",
       "  background-color: var(--sklearn-color-background);\n",
       "}\n",
       "\n",
       "#sk-container-id-2 div.sk-container {\n",
       "  /* jupyter's `normalize.less` sets `[hidden] { display: none; }`\n",
       "     but bootstrap.min.css set `[hidden] { display: none !important; }`\n",
       "     so we also need the `!important` here to be able to override the\n",
       "     default hidden behavior on the sphinx rendered scikit-learn.org.\n",
       "     See: https://github.com/scikit-learn/scikit-learn/issues/21755 */\n",
       "  display: inline-block !important;\n",
       "  position: relative;\n",
       "}\n",
       "\n",
       "#sk-container-id-2 div.sk-text-repr-fallback {\n",
       "  display: none;\n",
       "}\n",
       "\n",
       "div.sk-parallel-item,\n",
       "div.sk-serial,\n",
       "div.sk-item {\n",
       "  /* draw centered vertical line to link estimators */\n",
       "  background-image: linear-gradient(var(--sklearn-color-text-on-default-background), var(--sklearn-color-text-on-default-background));\n",
       "  background-size: 2px 100%;\n",
       "  background-repeat: no-repeat;\n",
       "  background-position: center center;\n",
       "}\n",
       "\n",
       "/* Parallel-specific style estimator block */\n",
       "\n",
       "#sk-container-id-2 div.sk-parallel-item::after {\n",
       "  content: \"\";\n",
       "  width: 100%;\n",
       "  border-bottom: 2px solid var(--sklearn-color-text-on-default-background);\n",
       "  flex-grow: 1;\n",
       "}\n",
       "\n",
       "#sk-container-id-2 div.sk-parallel {\n",
       "  display: flex;\n",
       "  align-items: stretch;\n",
       "  justify-content: center;\n",
       "  background-color: var(--sklearn-color-background);\n",
       "  position: relative;\n",
       "}\n",
       "\n",
       "#sk-container-id-2 div.sk-parallel-item {\n",
       "  display: flex;\n",
       "  flex-direction: column;\n",
       "}\n",
       "\n",
       "#sk-container-id-2 div.sk-parallel-item:first-child::after {\n",
       "  align-self: flex-end;\n",
       "  width: 50%;\n",
       "}\n",
       "\n",
       "#sk-container-id-2 div.sk-parallel-item:last-child::after {\n",
       "  align-self: flex-start;\n",
       "  width: 50%;\n",
       "}\n",
       "\n",
       "#sk-container-id-2 div.sk-parallel-item:only-child::after {\n",
       "  width: 0;\n",
       "}\n",
       "\n",
       "/* Serial-specific style estimator block */\n",
       "\n",
       "#sk-container-id-2 div.sk-serial {\n",
       "  display: flex;\n",
       "  flex-direction: column;\n",
       "  align-items: center;\n",
       "  background-color: var(--sklearn-color-background);\n",
       "  padding-right: 1em;\n",
       "  padding-left: 1em;\n",
       "}\n",
       "\n",
       "\n",
       "/* Toggleable style: style used for estimator/Pipeline/ColumnTransformer box that is\n",
       "clickable and can be expanded/collapsed.\n",
       "- Pipeline and ColumnTransformer use this feature and define the default style\n",
       "- Estimators will overwrite some part of the style using the `sk-estimator` class\n",
       "*/\n",
       "\n",
       "/* Pipeline and ColumnTransformer style (default) */\n",
       "\n",
       "#sk-container-id-2 div.sk-toggleable {\n",
       "  /* Default theme specific background. It is overwritten whether we have a\n",
       "  specific estimator or a Pipeline/ColumnTransformer */\n",
       "  background-color: var(--sklearn-color-background);\n",
       "}\n",
       "\n",
       "/* Toggleable label */\n",
       "#sk-container-id-2 label.sk-toggleable__label {\n",
       "  cursor: pointer;\n",
       "  display: flex;\n",
       "  width: 100%;\n",
       "  margin-bottom: 0;\n",
       "  padding: 0.5em;\n",
       "  box-sizing: border-box;\n",
       "  text-align: center;\n",
       "  align-items: start;\n",
       "  justify-content: space-between;\n",
       "  gap: 0.5em;\n",
       "}\n",
       "\n",
       "#sk-container-id-2 label.sk-toggleable__label .caption {\n",
       "  font-size: 0.6rem;\n",
       "  font-weight: lighter;\n",
       "  color: var(--sklearn-color-text-muted);\n",
       "}\n",
       "\n",
       "#sk-container-id-2 label.sk-toggleable__label-arrow:before {\n",
       "  /* Arrow on the left of the label */\n",
       "  content: \"▸\";\n",
       "  float: left;\n",
       "  margin-right: 0.25em;\n",
       "  color: var(--sklearn-color-icon);\n",
       "}\n",
       "\n",
       "#sk-container-id-2 label.sk-toggleable__label-arrow:hover:before {\n",
       "  color: var(--sklearn-color-text);\n",
       "}\n",
       "\n",
       "/* Toggleable content - dropdown */\n",
       "\n",
       "#sk-container-id-2 div.sk-toggleable__content {\n",
       "  max-height: 0;\n",
       "  max-width: 0;\n",
       "  overflow: hidden;\n",
       "  text-align: left;\n",
       "  /* unfitted */\n",
       "  background-color: var(--sklearn-color-unfitted-level-0);\n",
       "}\n",
       "\n",
       "#sk-container-id-2 div.sk-toggleable__content.fitted {\n",
       "  /* fitted */\n",
       "  background-color: var(--sklearn-color-fitted-level-0);\n",
       "}\n",
       "\n",
       "#sk-container-id-2 div.sk-toggleable__content pre {\n",
       "  margin: 0.2em;\n",
       "  border-radius: 0.25em;\n",
       "  color: var(--sklearn-color-text);\n",
       "  /* unfitted */\n",
       "  background-color: var(--sklearn-color-unfitted-level-0);\n",
       "}\n",
       "\n",
       "#sk-container-id-2 div.sk-toggleable__content.fitted pre {\n",
       "  /* unfitted */\n",
       "  background-color: var(--sklearn-color-fitted-level-0);\n",
       "}\n",
       "\n",
       "#sk-container-id-2 input.sk-toggleable__control:checked~div.sk-toggleable__content {\n",
       "  /* Expand drop-down */\n",
       "  max-height: 200px;\n",
       "  max-width: 100%;\n",
       "  overflow: auto;\n",
       "}\n",
       "\n",
       "#sk-container-id-2 input.sk-toggleable__control:checked~label.sk-toggleable__label-arrow:before {\n",
       "  content: \"▾\";\n",
       "}\n",
       "\n",
       "/* Pipeline/ColumnTransformer-specific style */\n",
       "\n",
       "#sk-container-id-2 div.sk-label input.sk-toggleable__control:checked~label.sk-toggleable__label {\n",
       "  color: var(--sklearn-color-text);\n",
       "  background-color: var(--sklearn-color-unfitted-level-2);\n",
       "}\n",
       "\n",
       "#sk-container-id-2 div.sk-label.fitted input.sk-toggleable__control:checked~label.sk-toggleable__label {\n",
       "  background-color: var(--sklearn-color-fitted-level-2);\n",
       "}\n",
       "\n",
       "/* Estimator-specific style */\n",
       "\n",
       "/* Colorize estimator box */\n",
       "#sk-container-id-2 div.sk-estimator input.sk-toggleable__control:checked~label.sk-toggleable__label {\n",
       "  /* unfitted */\n",
       "  background-color: var(--sklearn-color-unfitted-level-2);\n",
       "}\n",
       "\n",
       "#sk-container-id-2 div.sk-estimator.fitted input.sk-toggleable__control:checked~label.sk-toggleable__label {\n",
       "  /* fitted */\n",
       "  background-color: var(--sklearn-color-fitted-level-2);\n",
       "}\n",
       "\n",
       "#sk-container-id-2 div.sk-label label.sk-toggleable__label,\n",
       "#sk-container-id-2 div.sk-label label {\n",
       "  /* The background is the default theme color */\n",
       "  color: var(--sklearn-color-text-on-default-background);\n",
       "}\n",
       "\n",
       "/* On hover, darken the color of the background */\n",
       "#sk-container-id-2 div.sk-label:hover label.sk-toggleable__label {\n",
       "  color: var(--sklearn-color-text);\n",
       "  background-color: var(--sklearn-color-unfitted-level-2);\n",
       "}\n",
       "\n",
       "/* Label box, darken color on hover, fitted */\n",
       "#sk-container-id-2 div.sk-label.fitted:hover label.sk-toggleable__label.fitted {\n",
       "  color: var(--sklearn-color-text);\n",
       "  background-color: var(--sklearn-color-fitted-level-2);\n",
       "}\n",
       "\n",
       "/* Estimator label */\n",
       "\n",
       "#sk-container-id-2 div.sk-label label {\n",
       "  font-family: monospace;\n",
       "  font-weight: bold;\n",
       "  display: inline-block;\n",
       "  line-height: 1.2em;\n",
       "}\n",
       "\n",
       "#sk-container-id-2 div.sk-label-container {\n",
       "  text-align: center;\n",
       "}\n",
       "\n",
       "/* Estimator-specific */\n",
       "#sk-container-id-2 div.sk-estimator {\n",
       "  font-family: monospace;\n",
       "  border: 1px dotted var(--sklearn-color-border-box);\n",
       "  border-radius: 0.25em;\n",
       "  box-sizing: border-box;\n",
       "  margin-bottom: 0.5em;\n",
       "  /* unfitted */\n",
       "  background-color: var(--sklearn-color-unfitted-level-0);\n",
       "}\n",
       "\n",
       "#sk-container-id-2 div.sk-estimator.fitted {\n",
       "  /* fitted */\n",
       "  background-color: var(--sklearn-color-fitted-level-0);\n",
       "}\n",
       "\n",
       "/* on hover */\n",
       "#sk-container-id-2 div.sk-estimator:hover {\n",
       "  /* unfitted */\n",
       "  background-color: var(--sklearn-color-unfitted-level-2);\n",
       "}\n",
       "\n",
       "#sk-container-id-2 div.sk-estimator.fitted:hover {\n",
       "  /* fitted */\n",
       "  background-color: var(--sklearn-color-fitted-level-2);\n",
       "}\n",
       "\n",
       "/* Specification for estimator info (e.g. \"i\" and \"?\") */\n",
       "\n",
       "/* Common style for \"i\" and \"?\" */\n",
       "\n",
       ".sk-estimator-doc-link,\n",
       "a:link.sk-estimator-doc-link,\n",
       "a:visited.sk-estimator-doc-link {\n",
       "  float: right;\n",
       "  font-size: smaller;\n",
       "  line-height: 1em;\n",
       "  font-family: monospace;\n",
       "  background-color: var(--sklearn-color-background);\n",
       "  border-radius: 1em;\n",
       "  height: 1em;\n",
       "  width: 1em;\n",
       "  text-decoration: none !important;\n",
       "  margin-left: 0.5em;\n",
       "  text-align: center;\n",
       "  /* unfitted */\n",
       "  border: var(--sklearn-color-unfitted-level-1) 1pt solid;\n",
       "  color: var(--sklearn-color-unfitted-level-1);\n",
       "}\n",
       "\n",
       ".sk-estimator-doc-link.fitted,\n",
       "a:link.sk-estimator-doc-link.fitted,\n",
       "a:visited.sk-estimator-doc-link.fitted {\n",
       "  /* fitted */\n",
       "  border: var(--sklearn-color-fitted-level-1) 1pt solid;\n",
       "  color: var(--sklearn-color-fitted-level-1);\n",
       "}\n",
       "\n",
       "/* On hover */\n",
       "div.sk-estimator:hover .sk-estimator-doc-link:hover,\n",
       ".sk-estimator-doc-link:hover,\n",
       "div.sk-label-container:hover .sk-estimator-doc-link:hover,\n",
       ".sk-estimator-doc-link:hover {\n",
       "  /* unfitted */\n",
       "  background-color: var(--sklearn-color-unfitted-level-3);\n",
       "  color: var(--sklearn-color-background);\n",
       "  text-decoration: none;\n",
       "}\n",
       "\n",
       "div.sk-estimator.fitted:hover .sk-estimator-doc-link.fitted:hover,\n",
       ".sk-estimator-doc-link.fitted:hover,\n",
       "div.sk-label-container:hover .sk-estimator-doc-link.fitted:hover,\n",
       ".sk-estimator-doc-link.fitted:hover {\n",
       "  /* fitted */\n",
       "  background-color: var(--sklearn-color-fitted-level-3);\n",
       "  color: var(--sklearn-color-background);\n",
       "  text-decoration: none;\n",
       "}\n",
       "\n",
       "/* Span, style for the box shown on hovering the info icon */\n",
       ".sk-estimator-doc-link span {\n",
       "  display: none;\n",
       "  z-index: 9999;\n",
       "  position: relative;\n",
       "  font-weight: normal;\n",
       "  right: .2ex;\n",
       "  padding: .5ex;\n",
       "  margin: .5ex;\n",
       "  width: min-content;\n",
       "  min-width: 20ex;\n",
       "  max-width: 50ex;\n",
       "  color: var(--sklearn-color-text);\n",
       "  box-shadow: 2pt 2pt 4pt #999;\n",
       "  /* unfitted */\n",
       "  background: var(--sklearn-color-unfitted-level-0);\n",
       "  border: .5pt solid var(--sklearn-color-unfitted-level-3);\n",
       "}\n",
       "\n",
       ".sk-estimator-doc-link.fitted span {\n",
       "  /* fitted */\n",
       "  background: var(--sklearn-color-fitted-level-0);\n",
       "  border: var(--sklearn-color-fitted-level-3);\n",
       "}\n",
       "\n",
       ".sk-estimator-doc-link:hover span {\n",
       "  display: block;\n",
       "}\n",
       "\n",
       "/* \"?\"-specific style due to the `<a>` HTML tag */\n",
       "\n",
       "#sk-container-id-2 a.estimator_doc_link {\n",
       "  float: right;\n",
       "  font-size: 1rem;\n",
       "  line-height: 1em;\n",
       "  font-family: monospace;\n",
       "  background-color: var(--sklearn-color-background);\n",
       "  border-radius: 1rem;\n",
       "  height: 1rem;\n",
       "  width: 1rem;\n",
       "  text-decoration: none;\n",
       "  /* unfitted */\n",
       "  color: var(--sklearn-color-unfitted-level-1);\n",
       "  border: var(--sklearn-color-unfitted-level-1) 1pt solid;\n",
       "}\n",
       "\n",
       "#sk-container-id-2 a.estimator_doc_link.fitted {\n",
       "  /* fitted */\n",
       "  border: var(--sklearn-color-fitted-level-1) 1pt solid;\n",
       "  color: var(--sklearn-color-fitted-level-1);\n",
       "}\n",
       "\n",
       "/* On hover */\n",
       "#sk-container-id-2 a.estimator_doc_link:hover {\n",
       "  /* unfitted */\n",
       "  background-color: var(--sklearn-color-unfitted-level-3);\n",
       "  color: var(--sklearn-color-background);\n",
       "  text-decoration: none;\n",
       "}\n",
       "\n",
       "#sk-container-id-2 a.estimator_doc_link.fitted:hover {\n",
       "  /* fitted */\n",
       "  background-color: var(--sklearn-color-fitted-level-3);\n",
       "}\n",
       "</style><div id=\"sk-container-id-2\" class=\"sk-top-container\"><div class=\"sk-text-repr-fallback\"><pre>Pipeline(steps=[(&#x27;bow&#x27;, CountVectorizer()), (&#x27;tfidf&#x27;, TfidfTransformer()),\n",
       "                (&#x27;classifier&#x27;, MultinomialNB())])</pre><b>In a Jupyter environment, please rerun this cell to show the HTML representation or trust the notebook. <br />On GitHub, the HTML representation is unable to render, please try loading this page with nbviewer.org.</b></div><div class=\"sk-container\" hidden><div class=\"sk-item sk-dashed-wrapped\"><div class=\"sk-label-container\"><div class=\"sk-label fitted sk-toggleable\"><input class=\"sk-toggleable__control sk-hidden--visually\" id=\"sk-estimator-id-5\" type=\"checkbox\" ><label for=\"sk-estimator-id-5\" class=\"sk-toggleable__label fitted sk-toggleable__label-arrow\"><div><div>Pipeline</div></div><div><a class=\"sk-estimator-doc-link fitted\" rel=\"noreferrer\" target=\"_blank\" href=\"https://scikit-learn.org/1.6/modules/generated/sklearn.pipeline.Pipeline.html\">?<span>Documentation for Pipeline</span></a><span class=\"sk-estimator-doc-link fitted\">i<span>Fitted</span></span></div></label><div class=\"sk-toggleable__content fitted\"><pre>Pipeline(steps=[(&#x27;bow&#x27;, CountVectorizer()), (&#x27;tfidf&#x27;, TfidfTransformer()),\n",
       "                (&#x27;classifier&#x27;, MultinomialNB())])</pre></div> </div></div><div class=\"sk-serial\"><div class=\"sk-item\"><div class=\"sk-estimator fitted sk-toggleable\"><input class=\"sk-toggleable__control sk-hidden--visually\" id=\"sk-estimator-id-6\" type=\"checkbox\" ><label for=\"sk-estimator-id-6\" class=\"sk-toggleable__label fitted sk-toggleable__label-arrow\"><div><div>CountVectorizer</div></div><div><a class=\"sk-estimator-doc-link fitted\" rel=\"noreferrer\" target=\"_blank\" href=\"https://scikit-learn.org/1.6/modules/generated/sklearn.feature_extraction.text.CountVectorizer.html\">?<span>Documentation for CountVectorizer</span></a></div></label><div class=\"sk-toggleable__content fitted\"><pre>CountVectorizer()</pre></div> </div></div><div class=\"sk-item\"><div class=\"sk-estimator fitted sk-toggleable\"><input class=\"sk-toggleable__control sk-hidden--visually\" id=\"sk-estimator-id-7\" type=\"checkbox\" ><label for=\"sk-estimator-id-7\" class=\"sk-toggleable__label fitted sk-toggleable__label-arrow\"><div><div>TfidfTransformer</div></div><div><a class=\"sk-estimator-doc-link fitted\" rel=\"noreferrer\" target=\"_blank\" href=\"https://scikit-learn.org/1.6/modules/generated/sklearn.feature_extraction.text.TfidfTransformer.html\">?<span>Documentation for TfidfTransformer</span></a></div></label><div class=\"sk-toggleable__content fitted\"><pre>TfidfTransformer()</pre></div> </div></div><div class=\"sk-item\"><div class=\"sk-estimator fitted sk-toggleable\"><input class=\"sk-toggleable__control sk-hidden--visually\" id=\"sk-estimator-id-8\" type=\"checkbox\" ><label for=\"sk-estimator-id-8\" class=\"sk-toggleable__label fitted sk-toggleable__label-arrow\"><div><div>MultinomialNB</div></div><div><a class=\"sk-estimator-doc-link fitted\" rel=\"noreferrer\" target=\"_blank\" href=\"https://scikit-learn.org/1.6/modules/generated/sklearn.naive_bayes.MultinomialNB.html\">?<span>Documentation for MultinomialNB</span></a></div></label><div class=\"sk-toggleable__content fitted\"><pre>MultinomialNB()</pre></div> </div></div></div></div></div></div>"
      ],
      "text/plain": [
       "Pipeline(steps=[('bow', CountVectorizer()), ('tfidf', TfidfTransformer()),\n",
       "                ('classifier', MultinomialNB())])"
      ]
     },
     "execution_count": 130,
     "metadata": {},
     "output_type": "execute_result"
    }
   ],
   "source": [
    "pipeline_nb.fit(msg_train['message'],msg_train['label'])"
   ]
  },
  {
   "cell_type": "markdown",
   "metadata": {},
   "source": [
    "## Performance on Train Data"
   ]
  },
  {
   "cell_type": "code",
   "execution_count": 131,
   "metadata": {},
   "outputs": [
    {
     "data": {
      "text/plain": [
       "0.9739851984749944"
      ]
     },
     "execution_count": 131,
     "metadata": {},
     "output_type": "execute_result"
    }
   ],
   "source": [
    "predictions = pipeline_nb.predict(msg_train['message'])\n",
    "accuracy_score(msg_train['label'], predictions)"
   ]
  },
  {
   "cell_type": "code",
   "execution_count": 132,
   "metadata": {},
   "outputs": [
    {
     "data": {
      "text/plain": [
       "0.8901515151515151"
      ]
     },
     "execution_count": 132,
     "metadata": {},
     "output_type": "execute_result"
    }
   ],
   "source": [
    "f1_score(msg_train['label'], predictions, pos_label='spam')"
   ]
  },
  {
   "cell_type": "code",
   "execution_count": 133,
   "metadata": {},
   "outputs": [
    {
     "data": {
      "image/png": "[encoded data removed]",
      "text/plain": [
       "<Figure size 640x480 with 2 Axes>"
      ]
     },
     "metadata": {},
     "output_type": "display_data"
    }
   ],
   "source": [
    "cm = confusion_matrix(msg_train['label'], predictions)\n",
    "# Plot the confusion matrix\n",
    "sns.heatmap(cm, annot=True, cmap='Blues', fmt='d', xticklabels=['ham', 'spam'], yticklabels=['ham','spam'])\n",
    "plt.title('Confusion Matrix for Training')\n",
    "plt.xlabel('Predicted Labels')\n",
    "plt.ylabel('True Labels')\n",
    "plt.show()"
   ]
  },
  {
   "cell_type": "code",
   "execution_count": 134,
   "metadata": {},
   "outputs": [
    {
     "name": "stdout",
     "output_type": "stream",
     "text": [
      "              precision    recall  f1-score   support\n",
      "\n",
      "         ham       0.97      1.00      0.99      3873\n",
      "        spam       1.00      0.80      0.89       586\n",
      "\n",
      "    accuracy                           0.97      4459\n",
      "   macro avg       0.99      0.90      0.94      4459\n",
      "weighted avg       0.97      0.97      0.97      4459\n",
      "\n"
     ]
    }
   ],
   "source": [
    "print(classification_report(msg_train['label'], predictions))"
   ]
  },
  {
   "cell_type": "markdown",
   "metadata": {},
   "source": [
    "## Performance on Test Data"
   ]
  },
  {
   "cell_type": "code",
   "execution_count": 135,
   "metadata": {},
   "outputs": [
    {
     "data": {
      "text/plain": [
       "0.9668161434977578"
      ]
     },
     "execution_count": 135,
     "metadata": {},
     "output_type": "execute_result"
    }
   ],
   "source": [
    "predictions = pipeline_nb.predict(msg_test['message'])\n",
    "accuracy_score(msg_test['label'], predictions)"
   ]
  },
  {
   "cell_type": "code",
   "execution_count": 136,
   "metadata": {},
   "outputs": [
    {
     "data": {
      "text/plain": [
       "0.8701754385964913"
      ]
     },
     "execution_count": 136,
     "metadata": {},
     "output_type": "execute_result"
    }
   ],
   "source": [
    "f = f1_score(msg_test['label'], predictions, pos_label='spam')\n",
    "f"
   ]
  },
  {
   "cell_type": "code",
   "execution_count": 137,
   "metadata": {},
   "outputs": [],
   "source": [
    "f1.append(f)"
   ]
  },
  {
   "cell_type": "code",
   "execution_count": 138,
   "metadata": {},
   "outputs": [],
   "source": [
    "cm = confusion_matrix(msg_test['label'], predictions)"
   ]
  },
  {
   "cell_type": "code",
   "execution_count": 139,
   "metadata": {},
   "outputs": [
    {
     "data": {
      "image/png": "[encoded data removed]",
      "text/plain": [
       "<Figure size 640x480 with 2 Axes>"
      ]
     },
     "metadata": {},
     "output_type": "display_data"
    }
   ],
   "source": [
    "# Plot the confusion matrix\n",
    "sns.heatmap(cm, annot=True, cmap='Blues', fmt='d', xticklabels=['ham', 'spam'], yticklabels=['ham','spam'])\n",
    "plt.title('Confusion Matrix for Test data')\n",
    "plt.xlabel('Predicted Labels')\n",
    "plt.ylabel('True Labels')\n",
    "plt.show()"
   ]
  },
  {
   "cell_type": "code",
   "execution_count": 140,
   "metadata": {},
   "outputs": [
    {
     "name": "stdout",
     "output_type": "stream",
     "text": [
      "              precision    recall  f1-score   support\n",
      "\n",
      "         ham       0.96      1.00      0.98       954\n",
      "        spam       1.00      0.77      0.87       161\n",
      "\n",
      "    accuracy                           0.97      1115\n",
      "   macro avg       0.98      0.89      0.93      1115\n",
      "weighted avg       0.97      0.97      0.96      1115\n",
      "\n"
     ]
    }
   ],
   "source": [
    "print(classification_report(msg_test['label'], predictions))"
   ]
  },
  {
   "cell_type": "markdown",
   "metadata": {},
   "source": [
    "# 2. Logistic Regression"
   ]
  },
  {
   "cell_type": "code",
   "execution_count": 141,
   "metadata": {},
   "outputs": [
    {
     "data": {
      "text/plain": [
       "{'C': 1.0,\n",
       " 'class_weight': None,\n",
       " 'dual': False,\n",
       " 'fit_intercept': True,\n",
       " 'intercept_scaling': 1,\n",
       " 'l1_ratio': None,\n",
       " 'max_iter': 100,\n",
       " 'multi_class': 'deprecated',\n",
       " 'n_jobs': None,\n",
       " 'penalty': 'l2',\n",
       " 'random_state': None,\n",
       " 'solver': 'lbfgs',\n",
       " 'tol': 0.0001,\n",
       " 'verbose': 0,\n",
       " 'warm_start': False}"
      ]
     },
     "execution_count": 141,
     "metadata": {},
     "output_type": "execute_result"
    }
   ],
   "source": [
    "LogisticRegression().get_params()"
   ]
  },
  {
   "cell_type": "code",
   "execution_count": 142,
   "metadata": {},
   "outputs": [],
   "source": [
    "pipeline_LR = Pipeline([\n",
    "    ('bow', CountVectorizer()),  # strings to token integer counts\n",
    "    ('tfidf', TfidfTransformer()),  # integer counts to weighted TF-IDF scores\n",
    "    ('classifier', LogisticRegression())  # train on TF-IDF vectors w/ logistic regression\n",
    "])"
   ]
  },
  {
   "cell_type": "code",
   "execution_count": 143,
   "metadata": {},
   "outputs": [
    {
     "data": {
      "text/plain": [
       "array([0.9529148 , 0.97085202, 0.95067265, 0.96860987, 0.96636771,\n",
       "       0.95964126, 0.93721973, 0.96412556, 0.95964126, 0.94831461])"
      ]
     },
     "execution_count": 143,
     "metadata": {},
     "output_type": "execute_result"
    }
   ],
   "source": [
    "scores = cross_val_score(pipeline_LR,  # steps to convert raw messages into models\n",
    "                         msg_train['message'],  # training data\n",
    "                         msg_train['label'],  # training labels\n",
    "                         cv=10,  # split data randomly into 10 parts: 9 for training, 1 for scoring\n",
    "                         scoring='accuracy',  # which scoring metric?\n",
    "                         n_jobs=-1,  # -1 = use all cores = faster\n",
    "                         )\n",
    "scores"
   ]
  },
  {
   "cell_type": "code",
   "execution_count": 144,
   "metadata": {},
   "outputs": [
    {
     "data": {
      "text/plain": [
       "(np.float64(0.9578359449790901), np.float64(0.009977869737907773))"
      ]
     },
     "execution_count": 144,
     "metadata": {},
     "output_type": "execute_result"
    }
   ],
   "source": [
    "scores.mean(), scores.std()"
   ]
  },
  {
   "cell_type": "markdown",
   "metadata": {},
   "source": [
    "## Fitting the model"
   ]
  },
  {
   "cell_type": "code",
   "execution_count": 145,
   "metadata": {},
   "outputs": [
    {
     "name": "stdout",
     "output_type": "stream",
     "text": [
      "Fitting 5 folds for each of 5 candidates, totalling 25 fits\n",
      "[CV 1/5] END classifier__C=0.01, classifier__max_iter=100, classifier__penalty=l2;, score=0.868 total time=   0.1s\n",
      "[CV 2/5] END classifier__C=0.01, classifier__max_iter=100, classifier__penalty=l2;, score=0.869 total time=   0.1s\n",
      "[CV 3/5] END classifier__C=0.01, classifier__max_iter=100, classifier__penalty=l2;, score=0.869 total time=   0.1s\n",
      "[CV 4/5] END classifier__C=0.01, classifier__max_iter=100, classifier__penalty=l2;, score=0.869 total time=   0.1s\n",
      "[CV 5/5] END classifier__C=0.01, classifier__max_iter=100, classifier__penalty=l2;, score=0.869 total time=   0.1s\n",
      "[CV 1/5] END classifier__C=0.1, classifier__max_iter=100, classifier__penalty=l2;, score=0.868 total time=   0.1s\n",
      "[CV 2/5] END classifier__C=0.1, classifier__max_iter=100, classifier__penalty=l2;, score=0.871 total time=   0.1s\n",
      "[CV 3/5] END classifier__C=0.1, classifier__max_iter=100, classifier__penalty=l2;, score=0.869 total time=   0.1s\n",
      "[CV 4/5] END classifier__C=0.1, classifier__max_iter=100, classifier__penalty=l2;, score=0.869 total time=   0.1s\n",
      "[CV 5/5] END classifier__C=0.1, classifier__max_iter=100, classifier__penalty=l2;, score=0.869 total time=   0.1s\n",
      "[CV 1/5] END classifier__C=1, classifier__max_iter=100, classifier__penalty=l2;, score=0.955 total time=   0.1s\n",
      "[CV 2/5] END classifier__C=1, classifier__max_iter=100, classifier__penalty=l2;, score=0.956 total time=   0.1s\n",
      "[CV 3/5] END classifier__C=1, classifier__max_iter=100, classifier__penalty=l2;, score=0.960 total time=   0.1s\n",
      "[CV 4/5] END classifier__C=1, classifier__max_iter=100, classifier__penalty=l2;, score=0.951 total time=   0.1s\n",
      "[CV 5/5] END classifier__C=1, classifier__max_iter=100, classifier__penalty=l2;, score=0.951 total time=   0.1s\n",
      "[CV 1/5] END classifier__C=10, classifier__max_iter=100, classifier__penalty=l2;, score=0.983 total time=   0.1s\n",
      "[CV 2/5] END classifier__C=10, classifier__max_iter=100, classifier__penalty=l2;, score=0.985 total time=   0.1s\n",
      "[CV 3/5] END classifier__C=10, classifier__max_iter=100, classifier__penalty=l2;, score=0.979 total time=   0.1s\n",
      "[CV 4/5] END classifier__C=10, classifier__max_iter=100, classifier__penalty=l2;, score=0.973 total time=   0.1s\n",
      "[CV 5/5] END classifier__C=10, classifier__max_iter=100, classifier__penalty=l2;, score=0.976 total time=   0.1s\n",
      "[CV 1/5] END classifier__C=100, classifier__max_iter=100, classifier__penalty=l2;, score=0.985 total time=   0.1s\n",
      "[CV 2/5] END classifier__C=100, classifier__max_iter=100, classifier__penalty=l2;, score=0.988 total time=   0.1s\n",
      "[CV 3/5] END classifier__C=100, classifier__max_iter=100, classifier__penalty=l2;, score=0.981 total time=   0.1s\n",
      "[CV 4/5] END classifier__C=100, classifier__max_iter=100, classifier__penalty=l2;, score=0.975 total time=   0.2s\n",
      "[CV 5/5] END classifier__C=100, classifier__max_iter=100, classifier__penalty=l2;, score=0.979 total time=   0.2s\n",
      "Best parameters: {'classifier__C': 100, 'classifier__max_iter': 100, 'classifier__penalty': 'l2'}\n",
      "Best score: 0.9816095685303459\n"
     ]
    }
   ],
   "source": [
    "param_grid = {\n",
    "    'classifier__C': [0.01, 0.1, 1, 10, 100],\n",
    "    'classifier__penalty': ['l2'],\n",
    "    'classifier__max_iter': [100]\n",
    "}\n",
    "\n",
    "LR_Classifier = GridSearchCV(pipeline_LR, param_grid, cv=5, scoring='f1_micro', verbose=3)\n",
    "LR_Classifier.fit(msg_train['message'], msg_train['label'])\n",
    "\n",
    "print(\"Best parameters:\", LR_Classifier.best_params_)\n",
    "print(\"Best score:\", LR_Classifier.best_score_)"
   ]
  },
  {
   "cell_type": "markdown",
   "metadata": {},
   "source": [
    "## Performance onf Train Data"
   ]
  },
  {
   "cell_type": "code",
   "execution_count": 146,
   "metadata": {},
   "outputs": [
    {
     "data": {
      "text/plain": [
       "1.0"
      ]
     },
     "execution_count": 146,
     "metadata": {},
     "output_type": "execute_result"
    }
   ],
   "source": [
    "predictions = LR_Classifier.predict(msg_train['message'])\n",
    "accuracy_score(msg_train['label'],predictions)"
   ]
  },
  {
   "cell_type": "code",
   "execution_count": 147,
   "metadata": {},
   "outputs": [
    {
     "data": {
      "text/plain": [
       "1.0"
      ]
     },
     "execution_count": 147,
     "metadata": {},
     "output_type": "execute_result"
    }
   ],
   "source": [
    "f1_score(msg_train['label'], predictions, pos_label='spam')"
   ]
  },
  {
   "cell_type": "code",
   "execution_count": 148,
   "metadata": {},
   "outputs": [
    {
     "data": {
      "image/png": "[encoded data removed]",
      "text/plain": [
       "<Figure size 640x480 with 2 Axes>"
      ]
     },
     "metadata": {},
     "output_type": "display_data"
    }
   ],
   "source": [
    "cm = confusion_matrix(msg_train['label'], predictions)\n",
    "# Plot the confusion matrix\n",
    "sns.heatmap(cm, annot=True, cmap='Blues', fmt='d', xticklabels=['ham', 'spam'], yticklabels=['ham','spam'])\n",
    "plt.title('Confusion Matrix for Train data')\n",
    "plt.xlabel('Predicted Labels')\n",
    "plt.ylabel('True Labels')\n",
    "plt.show()"
   ]
  },
  {
   "cell_type": "code",
   "execution_count": 149,
   "metadata": {},
   "outputs": [
    {
     "name": "stdout",
     "output_type": "stream",
     "text": [
      "              precision    recall  f1-score   support\n",
      "\n",
      "         ham     1.0000    1.0000    1.0000      3873\n",
      "        spam     1.0000    1.0000    1.0000       586\n",
      "\n",
      "    accuracy                         1.0000      4459\n",
      "   macro avg     1.0000    1.0000    1.0000      4459\n",
      "weighted avg     1.0000    1.0000    1.0000      4459\n",
      "\n"
     ]
    }
   ],
   "source": [
    "print(classification_report(msg_train['label'],predictions,digits=4))"
   ]
  },
  {
   "cell_type": "markdown",
   "metadata": {},
   "source": [
    "## Performance on Test Data"
   ]
  },
  {
   "cell_type": "code",
   "execution_count": 150,
   "metadata": {},
   "outputs": [
    {
     "data": {
      "text/plain": [
       "0.9838565022421525"
      ]
     },
     "execution_count": 150,
     "metadata": {},
     "output_type": "execute_result"
    }
   ],
   "source": [
    "predictions = LR_Classifier.predict(msg_test['message'])\n",
    "accuracy_score(msg_test['label'], predictions)"
   ]
  },
  {
   "cell_type": "code",
   "execution_count": 151,
   "metadata": {},
   "outputs": [
    {
     "data": {
      "text/plain": [
       "0.9419354838709677"
      ]
     },
     "execution_count": 151,
     "metadata": {},
     "output_type": "execute_result"
    }
   ],
   "source": [
    "f = f1_score(msg_test['label'], predictions, pos_label='spam')\n",
    "f"
   ]
  },
  {
   "cell_type": "code",
   "execution_count": 152,
   "metadata": {},
   "outputs": [],
   "source": [
    "f1.append(f)"
   ]
  },
  {
   "cell_type": "code",
   "execution_count": 153,
   "metadata": {},
   "outputs": [
    {
     "data": {
      "image/png": "[encoded data removed]",
      "text/plain": [
       "<Figure size 640x480 with 2 Axes>"
      ]
     },
     "metadata": {},
     "output_type": "display_data"
    }
   ],
   "source": [
    "cm = confusion_matrix(msg_test['label'], predictions)\n",
    "# Plot the confusion matrix\n",
    "sns.heatmap(cm, annot=True, cmap='Blues', fmt='d', xticklabels=['ham', 'spam'], yticklabels=['ham','spam'])\n",
    "plt.title('Confusion Matrix for Test data')\n",
    "plt.xlabel('Predicted Labels')\n",
    "plt.ylabel('True Labels')\n",
    "plt.show()"
   ]
  },
  {
   "cell_type": "code",
   "execution_count": 154,
   "metadata": {},
   "outputs": [
    {
     "name": "stdout",
     "output_type": "stream",
     "text": [
      "              precision    recall  f1-score   support\n",
      "\n",
      "         ham     0.9845    0.9969    0.9906       954\n",
      "        spam     0.9799    0.9068    0.9419       161\n",
      "\n",
      "    accuracy                         0.9839      1115\n",
      "   macro avg     0.9822    0.9518    0.9663      1115\n",
      "weighted avg     0.9838    0.9839    0.9836      1115\n",
      "\n"
     ]
    }
   ],
   "source": [
    "print(classification_report(msg_test['label'], predictions,digits=4))"
   ]
  },
  {
   "cell_type": "markdown",
   "metadata": {},
   "source": [
    "# 3. Support Vector Machines"
   ]
  },
  {
   "cell_type": "code",
   "execution_count": 155,
   "metadata": {},
   "outputs": [
    {
     "data": {
      "text/plain": [
       "{'C': 1.0,\n",
       " 'break_ties': False,\n",
       " 'cache_size': 200,\n",
       " 'class_weight': None,\n",
       " 'coef0': 0.0,\n",
       " 'decision_function_shape': 'ovr',\n",
       " 'degree': 3,\n",
       " 'gamma': 'scale',\n",
       " 'kernel': 'rbf',\n",
       " 'max_iter': -1,\n",
       " 'probability': False,\n",
       " 'random_state': None,\n",
       " 'shrinking': True,\n",
       " 'tol': 0.001,\n",
       " 'verbose': False}"
      ]
     },
     "execution_count": 155,
     "metadata": {},
     "output_type": "execute_result"
    }
   ],
   "source": [
    "SVC().get_params()"
   ]
  },
  {
   "cell_type": "code",
   "execution_count": 156,
   "metadata": {},
   "outputs": [],
   "source": [
    "pipeline_svm = Pipeline([\n",
    "    ('bow', CountVectorizer()),  # strings to token integer counts\n",
    "    ('tfidf', TfidfTransformer()),  # integer counts to weighted TF-IDF scores\n",
    "    ('classifier', SVC())  # train on TF-IDF vectors w/ SVM classifier\n",
    "])"
   ]
  },
  {
   "cell_type": "code",
   "execution_count": 157,
   "metadata": {},
   "outputs": [
    {
     "data": {
      "text/plain": [
       "array([0.97982063, 0.98430493, 0.97085202, 0.9955157 , 0.97982063,\n",
       "       0.97757848, 0.95964126, 0.97982063, 0.97757848, 0.97303371])"
      ]
     },
     "execution_count": 157,
     "metadata": {},
     "output_type": "execute_result"
    }
   ],
   "source": [
    "scores = cross_val_score(pipeline_svm,  # steps to convert raw messages into models\n",
    "                         msg_train['message'],  # training data\n",
    "                         msg_train['label'],  # training labels\n",
    "                         cv=10,  # split data randomly into 10 parts: 9 for training, 1 for scoring\n",
    "                         scoring='accuracy',  # which scoring metric?\n",
    "                         n_jobs=-1,  # -1 = use all cores = faster\n",
    "                         )\n",
    "scores"
   ]
  },
  {
   "cell_type": "code",
   "execution_count": 158,
   "metadata": {},
   "outputs": [
    {
     "data": {
      "text/plain": [
       "(np.float64(0.9777966443291177), np.float64(0.008770626197462042))"
      ]
     },
     "execution_count": 158,
     "metadata": {},
     "output_type": "execute_result"
    }
   ],
   "source": [
    "scores.mean(), scores.std()"
   ]
  },
  {
   "cell_type": "markdown",
   "metadata": {},
   "source": [
    "## Fitting the model"
   ]
  },
  {
   "cell_type": "code",
   "execution_count": 159,
   "metadata": {},
   "outputs": [
    {
     "name": "stdout",
     "output_type": "stream",
     "text": [
      "Fitting 5 folds for each of 18 candidates, totalling 90 fits\n",
      "[CV 1/5] END classifier__C=1, classifier__gamma=scale, classifier__kernel=linear;, score=0.985 total time=   0.6s\n",
      "[CV 2/5] END classifier__C=1, classifier__gamma=scale, classifier__kernel=linear;, score=0.985 total time=   0.6s\n",
      "[CV 3/5] END classifier__C=1, classifier__gamma=scale, classifier__kernel=linear;, score=0.980 total time=   0.5s\n",
      "[CV 4/5] END classifier__C=1, classifier__gamma=scale, classifier__kernel=linear;, score=0.974 total time=   0.5s\n",
      "[CV 5/5] END classifier__C=1, classifier__gamma=scale, classifier__kernel=linear;, score=0.978 total time=   0.3s\n",
      "[CV 1/5] END classifier__C=1, classifier__gamma=scale, classifier__kernel=rbf;, score=0.981 total time=   0.9s\n",
      "[CV 2/5] END classifier__C=1, classifier__gamma=scale, classifier__kernel=rbf;, score=0.981 total time=   0.9s\n",
      "[CV 3/5] END classifier__C=1, classifier__gamma=scale, classifier__kernel=rbf;, score=0.975 total time=   0.9s\n",
      "[CV 4/5] END classifier__C=1, classifier__gamma=scale, classifier__kernel=rbf;, score=0.966 total time=   0.9s\n",
      "[CV 5/5] END classifier__C=1, classifier__gamma=scale, classifier__kernel=rbf;, score=0.974 total time=   0.9s\n",
      "[CV 1/5] END classifier__C=1, classifier__gamma=scale, classifier__kernel=poly;, score=0.942 total time=   1.1s\n",
      "[CV 2/5] END classifier__C=1, classifier__gamma=scale, classifier__kernel=poly;, score=0.945 total time=   1.1s\n",
      "[CV 3/5] END classifier__C=1, classifier__gamma=scale, classifier__kernel=poly;, score=0.935 total time=   1.4s\n",
      "[CV 4/5] END classifier__C=1, classifier__gamma=scale, classifier__kernel=poly;, score=0.929 total time=   1.4s\n",
      "[CV 5/5] END classifier__C=1, classifier__gamma=scale, classifier__kernel=poly;, score=0.936 total time=   1.4s\n",
      "[CV 1/5] END classifier__C=1, classifier__gamma=auto, classifier__kernel=linear;, score=0.985 total time=   0.4s\n",
      "[CV 2/5] END classifier__C=1, classifier__gamma=auto, classifier__kernel=linear;, score=0.985 total time=   0.4s\n",
      "[CV 3/5] END classifier__C=1, classifier__gamma=auto, classifier__kernel=linear;, score=0.980 total time=   0.4s\n",
      "[CV 4/5] END classifier__C=1, classifier__gamma=auto, classifier__kernel=linear;, score=0.974 total time=   0.4s\n",
      "[CV 5/5] END classifier__C=1, classifier__gamma=auto, classifier__kernel=linear;, score=0.978 total time=   0.4s\n",
      "[CV 1/5] END classifier__C=1, classifier__gamma=auto, classifier__kernel=rbf;, score=0.868 total time=   0.5s\n",
      "[CV 2/5] END classifier__C=1, classifier__gamma=auto, classifier__kernel=rbf;, score=0.869 total time=   0.5s\n",
      "[CV 3/5] END classifier__C=1, classifier__gamma=auto, classifier__kernel=rbf;, score=0.869 total time=   0.5s\n",
      "[CV 4/5] END classifier__C=1, classifier__gamma=auto, classifier__kernel=rbf;, score=0.869 total time=   0.5s\n",
      "[CV 5/5] END classifier__C=1, classifier__gamma=auto, classifier__kernel=rbf;, score=0.869 total time=   0.5s\n",
      "[CV 1/5] END classifier__C=1, classifier__gamma=auto, classifier__kernel=poly;, score=0.868 total time=   0.5s\n",
      "[CV 2/5] END classifier__C=1, classifier__gamma=auto, classifier__kernel=poly;, score=0.869 total time=   0.4s\n",
      "[CV 3/5] END classifier__C=1, classifier__gamma=auto, classifier__kernel=poly;, score=0.869 total time=   0.4s\n",
      "[CV 4/5] END classifier__C=1, classifier__gamma=auto, classifier__kernel=poly;, score=0.869 total time=   0.4s\n",
      "[CV 5/5] END classifier__C=1, classifier__gamma=auto, classifier__kernel=poly;, score=0.869 total time=   0.4s\n",
      "[CV 1/5] END classifier__C=10, classifier__gamma=scale, classifier__kernel=linear;, score=0.985 total time=   0.4s\n",
      "[CV 2/5] END classifier__C=10, classifier__gamma=scale, classifier__kernel=linear;, score=0.991 total time=   0.4s\n",
      "[CV 3/5] END classifier__C=10, classifier__gamma=scale, classifier__kernel=linear;, score=0.980 total time=   0.3s\n",
      "[CV 4/5] END classifier__C=10, classifier__gamma=scale, classifier__kernel=linear;, score=0.979 total time=   0.4s\n",
      "[CV 5/5] END classifier__C=10, classifier__gamma=scale, classifier__kernel=linear;, score=0.975 total time=   0.4s\n",
      "[CV 1/5] END classifier__C=10, classifier__gamma=scale, classifier__kernel=rbf;, score=0.983 total time=   1.2s\n",
      "[CV 2/5] END classifier__C=10, classifier__gamma=scale, classifier__kernel=rbf;, score=0.984 total time=   1.2s\n",
      "[CV 3/5] END classifier__C=10, classifier__gamma=scale, classifier__kernel=rbf;, score=0.980 total time=   1.2s\n",
      "[CV 4/5] END classifier__C=10, classifier__gamma=scale, classifier__kernel=rbf;, score=0.973 total time=   1.1s\n",
      "[CV 5/5] END classifier__C=10, classifier__gamma=scale, classifier__kernel=rbf;, score=0.978 total time=   1.1s\n",
      "[CV 1/5] END classifier__C=10, classifier__gamma=scale, classifier__kernel=poly;, score=0.945 total time=   1.3s\n",
      "[CV 2/5] END classifier__C=10, classifier__gamma=scale, classifier__kernel=poly;, score=0.951 total time=   1.2s\n",
      "[CV 3/5] END classifier__C=10, classifier__gamma=scale, classifier__kernel=poly;, score=0.939 total time=   1.1s\n",
      "[CV 4/5] END classifier__C=10, classifier__gamma=scale, classifier__kernel=poly;, score=0.937 total time=   1.1s\n",
      "[CV 5/5] END classifier__C=10, classifier__gamma=scale, classifier__kernel=poly;, score=0.941 total time=   1.1s\n",
      "[CV 1/5] END classifier__C=10, classifier__gamma=auto, classifier__kernel=linear;, score=0.985 total time=   0.3s\n",
      "[CV 2/5] END classifier__C=10, classifier__gamma=auto, classifier__kernel=linear;, score=0.991 total time=   0.3s\n",
      "[CV 3/5] END classifier__C=10, classifier__gamma=auto, classifier__kernel=linear;, score=0.980 total time=   0.3s\n",
      "[CV 4/5] END classifier__C=10, classifier__gamma=auto, classifier__kernel=linear;, score=0.979 total time=   0.3s\n",
      "[CV 5/5] END classifier__C=10, classifier__gamma=auto, classifier__kernel=linear;, score=0.975 total time=   0.3s\n",
      "[CV 1/5] END classifier__C=10, classifier__gamma=auto, classifier__kernel=rbf;, score=0.868 total time=   0.4s\n",
      "[CV 2/5] END classifier__C=10, classifier__gamma=auto, classifier__kernel=rbf;, score=0.869 total time=   0.4s\n",
      "[CV 3/5] END classifier__C=10, classifier__gamma=auto, classifier__kernel=rbf;, score=0.869 total time=   0.4s\n",
      "[CV 4/5] END classifier__C=10, classifier__gamma=auto, classifier__kernel=rbf;, score=0.869 total time=   0.4s\n",
      "[CV 5/5] END classifier__C=10, classifier__gamma=auto, classifier__kernel=rbf;, score=0.869 total time=   0.4s\n",
      "[CV 1/5] END classifier__C=10, classifier__gamma=auto, classifier__kernel=poly;, score=0.868 total time=   0.3s\n",
      "[CV 2/5] END classifier__C=10, classifier__gamma=auto, classifier__kernel=poly;, score=0.869 total time=   0.3s\n",
      "[CV 3/5] END classifier__C=10, classifier__gamma=auto, classifier__kernel=poly;, score=0.869 total time=   0.3s\n",
      "[CV 4/5] END classifier__C=10, classifier__gamma=auto, classifier__kernel=poly;, score=0.869 total time=   0.3s\n",
      "[CV 5/5] END classifier__C=10, classifier__gamma=auto, classifier__kernel=poly;, score=0.869 total time=   0.3s\n",
      "[CV 1/5] END classifier__C=5, classifier__gamma=scale, classifier__kernel=linear;, score=0.987 total time=   0.3s\n",
      "[CV 2/5] END classifier__C=5, classifier__gamma=scale, classifier__kernel=linear;, score=0.990 total time=   0.3s\n",
      "[CV 3/5] END classifier__C=5, classifier__gamma=scale, classifier__kernel=linear;, score=0.980 total time=   0.4s\n",
      "[CV 4/5] END classifier__C=5, classifier__gamma=scale, classifier__kernel=linear;, score=0.979 total time=   0.4s\n",
      "[CV 5/5] END classifier__C=5, classifier__gamma=scale, classifier__kernel=linear;, score=0.980 total time=   0.4s\n",
      "[CV 1/5] END classifier__C=5, classifier__gamma=scale, classifier__kernel=rbf;, score=0.983 total time=   1.1s\n",
      "[CV 2/5] END classifier__C=5, classifier__gamma=scale, classifier__kernel=rbf;, score=0.984 total time=   1.2s\n",
      "[CV 3/5] END classifier__C=5, classifier__gamma=scale, classifier__kernel=rbf;, score=0.980 total time=   1.2s\n",
      "[CV 4/5] END classifier__C=5, classifier__gamma=scale, classifier__kernel=rbf;, score=0.973 total time=   1.1s\n",
      "[CV 5/5] END classifier__C=5, classifier__gamma=scale, classifier__kernel=rbf;, score=0.978 total time=   1.1s\n",
      "[CV 1/5] END classifier__C=5, classifier__gamma=scale, classifier__kernel=poly;, score=0.945 total time=   1.4s\n",
      "[CV 2/5] END classifier__C=5, classifier__gamma=scale, classifier__kernel=poly;, score=0.951 total time=   1.4s\n",
      "[CV 3/5] END classifier__C=5, classifier__gamma=scale, classifier__kernel=poly;, score=0.939 total time=   1.3s\n",
      "[CV 4/5] END classifier__C=5, classifier__gamma=scale, classifier__kernel=poly;, score=0.937 total time=   1.4s\n",
      "[CV 5/5] END classifier__C=5, classifier__gamma=scale, classifier__kernel=poly;, score=0.941 total time=   1.4s\n",
      "[CV 1/5] END classifier__C=5, classifier__gamma=auto, classifier__kernel=linear;, score=0.987 total time=   0.4s\n",
      "[CV 2/5] END classifier__C=5, classifier__gamma=auto, classifier__kernel=linear;, score=0.990 total time=   0.4s\n",
      "[CV 3/5] END classifier__C=5, classifier__gamma=auto, classifier__kernel=linear;, score=0.980 total time=   0.4s\n",
      "[CV 4/5] END classifier__C=5, classifier__gamma=auto, classifier__kernel=linear;, score=0.979 total time=   0.4s\n",
      "[CV 5/5] END classifier__C=5, classifier__gamma=auto, classifier__kernel=linear;, score=0.980 total time=   0.4s\n",
      "[CV 1/5] END classifier__C=5, classifier__gamma=auto, classifier__kernel=rbf;, score=0.868 total time=   0.5s\n",
      "[CV 2/5] END classifier__C=5, classifier__gamma=auto, classifier__kernel=rbf;, score=0.869 total time=   0.5s\n",
      "[CV 3/5] END classifier__C=5, classifier__gamma=auto, classifier__kernel=rbf;, score=0.869 total time=   0.5s\n",
      "[CV 4/5] END classifier__C=5, classifier__gamma=auto, classifier__kernel=rbf;, score=0.869 total time=   0.5s\n",
      "[CV 5/5] END classifier__C=5, classifier__gamma=auto, classifier__kernel=rbf;, score=0.869 total time=   0.5s\n",
      "[CV 1/5] END classifier__C=5, classifier__gamma=auto, classifier__kernel=poly;, score=0.868 total time=   0.4s\n",
      "[CV 2/5] END classifier__C=5, classifier__gamma=auto, classifier__kernel=poly;, score=0.869 total time=   0.4s\n",
      "[CV 3/5] END classifier__C=5, classifier__gamma=auto, classifier__kernel=poly;, score=0.869 total time=   0.4s\n",
      "[CV 4/5] END classifier__C=5, classifier__gamma=auto, classifier__kernel=poly;, score=0.869 total time=   0.4s\n",
      "[CV 5/5] END classifier__C=5, classifier__gamma=auto, classifier__kernel=poly;, score=0.869 total time=   0.4s\n",
      "Best parameters: {'classifier__C': 5, 'classifier__gamma': 'scale', 'classifier__kernel': 'linear'}\n",
      "Best score: 0.9829551116546632\n"
     ]
    }
   ],
   "source": [
    "param_grid = {\n",
    "    'classifier__C': [1, 10, 5],\n",
    "    'classifier__kernel': ['linear', 'rbf', 'poly'],\n",
    "    'classifier__gamma': ['scale', 'auto']\n",
    "}\n",
    "\n",
    "svm_classifier = GridSearchCV(pipeline_svm, param_grid, cv=5, scoring='f1_micro',verbose=3)\n",
    "svm_classifier.fit(msg_train['message'], msg_train['label'])\n",
    "\n",
    "print(\"Best parameters:\", svm_classifier.best_params_)\n",
    "print(\"Best score:\", svm_classifier.best_score_)"
   ]
  },
  {
   "cell_type": "markdown",
   "metadata": {},
   "source": [
    "## Performance on Train Data"
   ]
  },
  {
   "cell_type": "code",
   "execution_count": 160,
   "metadata": {},
   "outputs": [
    {
     "data": {
      "text/plain": [
       "0.999775734469612"
      ]
     },
     "execution_count": 160,
     "metadata": {},
     "output_type": "execute_result"
    }
   ],
   "source": [
    "predictions = svm_classifier.predict(msg_train['message'])\n",
    "accuracy_score(msg_train['label'], predictions)"
   ]
  },
  {
   "cell_type": "code",
   "execution_count": 161,
   "metadata": {},
   "outputs": [
    {
     "data": {
      "text/plain": [
       "0.9991460290350128"
      ]
     },
     "execution_count": 161,
     "metadata": {},
     "output_type": "execute_result"
    }
   ],
   "source": [
    "f1_score(msg_train['label'], predictions, pos_label='spam')"
   ]
  },
  {
   "cell_type": "code",
   "execution_count": 162,
   "metadata": {},
   "outputs": [],
   "source": [
    "f1.append(f)"
   ]
  },
  {
   "cell_type": "code",
   "execution_count": 163,
   "metadata": {},
   "outputs": [
    {
     "data": {
      "image/png": "[encoded data removed]",
      "text/plain": [
       "<Figure size 640x480 with 2 Axes>"
      ]
     },
     "metadata": {},
     "output_type": "display_data"
    }
   ],
   "source": [
    "cm = confusion_matrix(msg_train['label'], predictions)\n",
    "# Plot the confusion matrix\n",
    "sns.heatmap(cm, annot=True, cmap='Blues', fmt='d', xticklabels=['ham', 'spam'], yticklabels=['ham','spam'])\n",
    "plt.title('Confusion Matrix for Train data')\n",
    "plt.xlabel('Predicted Labels')\n",
    "plt.ylabel('True Labels')\n",
    "plt.show()"
   ]
  },
  {
   "cell_type": "code",
   "execution_count": 164,
   "metadata": {},
   "outputs": [
    {
     "name": "stdout",
     "output_type": "stream",
     "text": [
      "              precision    recall  f1-score   support\n",
      "\n",
      "         ham     0.9997    1.0000    0.9999      3873\n",
      "        spam     1.0000    0.9983    0.9991       586\n",
      "\n",
      "    accuracy                         0.9998      4459\n",
      "   macro avg     0.9999    0.9991    0.9995      4459\n",
      "weighted avg     0.9998    0.9998    0.9998      4459\n",
      "\n"
     ]
    }
   ],
   "source": [
    "print(classification_report(msg_train['label'], predictions, digits=4))"
   ]
  },
  {
   "cell_type": "markdown",
   "metadata": {},
   "source": [
    "## Performance on Test Data"
   ]
  },
  {
   "cell_type": "code",
   "execution_count": 165,
   "metadata": {},
   "outputs": [
    {
     "data": {
      "text/plain": [
       "0.9820627802690582"
      ]
     },
     "execution_count": 165,
     "metadata": {},
     "output_type": "execute_result"
    }
   ],
   "source": [
    "predictions = svm_classifier.predict(msg_test['message'])\n",
    "accuracy_score(msg_test['label'], predictions)"
   ]
  },
  {
   "cell_type": "code",
   "execution_count": 170,
   "metadata": {},
   "outputs": [
    {
     "data": {
      "text/plain": [
       "0.9354838709677419"
      ]
     },
     "execution_count": 170,
     "metadata": {},
     "output_type": "execute_result"
    }
   ],
   "source": [
    "f = f1_score(msg_test['label'], predictions, pos_label='spam')\n",
    "f"
   ]
  },
  {
   "cell_type": "code",
   "execution_count": null,
   "metadata": {},
   "outputs": [],
   "source": [
    "f1.append(f)"
   ]
  },
  {
   "cell_type": "code",
   "execution_count": 167,
   "metadata": {},
   "outputs": [
    {
     "data": {
      "image/png": "[encoded data removed]",
      "text/plain": [
       "<Figure size 640x480 with 2 Axes>"
      ]
     },
     "metadata": {},
     "output_type": "display_data"
    }
   ],
   "source": [
    "cm = confusion_matrix(msg_test['label'], predictions)\n",
    "# Plot the confusion matrix\n",
    "sns.heatmap(cm, annot=True, cmap='Blues', fmt='d', xticklabels=['ham', 'spam'], yticklabels=['ham','spam'])\n",
    "plt.title('Confusion Matrix for Test data')\n",
    "plt.xlabel('Predicted Labels')\n",
    "plt.ylabel('True Labels')\n",
    "plt.show()"
   ]
  },
  {
   "cell_type": "code",
   "execution_count": 168,
   "metadata": {},
   "outputs": [
    {
     "name": "stdout",
     "output_type": "stream",
     "text": [
      "              precision    recall  f1-score   support\n",
      "\n",
      "         ham     0.9834    0.9958    0.9896       954\n",
      "        spam     0.9732    0.9006    0.9355       161\n",
      "\n",
      "    accuracy                         0.9821      1115\n",
      "   macro avg     0.9783    0.9482    0.9625      1115\n",
      "weighted avg     0.9820    0.9821    0.9818      1115\n",
      "\n"
     ]
    }
   ],
   "source": [
    "print(classification_report(msg_test['label'], predictions,digits=4))"
   ]
  },
  {
   "cell_type": "markdown",
   "metadata": {},
   "source": [
    "# Benchmarking the performance"
   ]
  },
  {
   "cell_type": "code",
   "execution_count": 172,
   "metadata": {},
   "outputs": [
    {
     "data": {
      "text/html": [
       "<div>\n",
       "<style scoped>\n",
       "    .dataframe tbody tr th:only-of-type {\n",
       "        vertical-align: middle;\n",
       "    }\n",
       "\n",
       "    .dataframe tbody tr th {\n",
       "        vertical-align: top;\n",
       "    }\n",
       "\n",
       "    .dataframe thead th {\n",
       "        text-align: right;\n",
       "    }\n",
       "</style>\n",
       "<table border=\"1\" class=\"dataframe\">\n",
       "  <thead>\n",
       "    <tr style=\"text-align: right;\">\n",
       "      <th></th>\n",
       "      <th>Model</th>\n",
       "      <th>F1 Score</th>\n",
       "    </tr>\n",
       "  </thead>\n",
       "  <tbody>\n",
       "    <tr>\n",
       "      <th>0</th>\n",
       "      <td>Naive Bayes</td>\n",
       "      <td>0.870175</td>\n",
       "    </tr>\n",
       "    <tr>\n",
       "      <th>1</th>\n",
       "      <td>Logistic Regression</td>\n",
       "      <td>0.941935</td>\n",
       "    </tr>\n",
       "    <tr>\n",
       "      <th>2</th>\n",
       "      <td>Support Vector Machines</td>\n",
       "      <td>0.935484</td>\n",
       "    </tr>\n",
       "  </tbody>\n",
       "</table>\n",
       "</div>"
      ],
      "text/plain": [
       "                     Model  F1 Score\n",
       "0              Naive Bayes  0.870175\n",
       "1      Logistic Regression  0.941935\n",
       "2  Support Vector Machines  0.935484"
      ]
     },
     "execution_count": 172,
     "metadata": {},
     "output_type": "execute_result"
    }
   ],
   "source": [
    "pd.DataFrame({'Model':models, 'F1 Score':f1})"
   ]
  }
 ],
 "metadata": {
  "kernelspec": {
   "display_name": "AML",
   "language": "python",
   "name": "python3"
  },
  "language_info": {
   "codemirror_mode": {
    "name": "ipython",
    "version": 3
   },
   "file_extension": ".py",
   "mimetype": "text/x-python",
   "name": "python",
   "nbconvert_exporter": "python",
   "pygments_lexer": "ipython3",
   "version": "3.12.3"
  }
 },
 "nbformat": 4,
 "nbformat_minor": 2
}
